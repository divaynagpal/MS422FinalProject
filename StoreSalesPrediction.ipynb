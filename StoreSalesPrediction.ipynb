{
 "cells": [
  {
   "cell_type": "code",
   "execution_count": 48,
   "id": "e4625030",
   "metadata": {},
   "outputs": [
    {
     "data": {
      "text/plain": [
       "' This is a notbook for kaggle competition to predict Store sales'"
      ]
     },
     "execution_count": 48,
     "metadata": {},
     "output_type": "execute_result"
    }
   ],
   "source": [
    "''' This is a notbook for kaggle competition to predict Store sales'''"
   ]
  },
  {
   "cell_type": "code",
   "execution_count": 49,
   "id": "d448aff2",
   "metadata": {},
   "outputs": [],
   "source": [
    "import pandas as pd\n",
    "import numpy as np\n",
    "import matplotlib.pyplot as plt\n",
    "pd.options.display.max_rows = 10\n",
    "pd.options.display.min_rows = 10"
   ]
  },
  {
   "cell_type": "code",
   "execution_count": 50,
   "id": "fc71bcec",
   "metadata": {},
   "outputs": [],
   "source": [
    "#import train data\n",
    "df_train = pd.read_csv(\"../data/store-sales-time-series-forecasting/train.csv\")\n",
    "df_holidays = pd.read_csv(\"../data/store-sales-time-series-forecasting/holidays_events.csv\")\n",
    "df_oil = pd.read_csv(\"../data/store-sales-time-series-forecasting/oil.csv\")\n",
    "df_stores = pd.read_csv(\"../data/store-sales-time-series-forecasting/stores.csv\")\n",
    "df_test = pd.read_csv(\"../data/store-sales-time-series-forecasting/test.csv\")\n",
    "df_transactions = pd.read_csv(\"../data/store-sales-time-series-forecasting/transactions.csv\")\n",
    "df_sample_sub = pd.read_csv(\"../data/store-sales-time-series-forecasting/sample_submission.csv\")"
   ]
  },
  {
   "cell_type": "code",
   "execution_count": 51,
   "id": "f8aef5ef",
   "metadata": {},
   "outputs": [
    {
     "name": "stderr",
     "output_type": "stream",
     "text": [
      "C:\\Users\\sadha\\AppData\\Local\\Temp\\ipykernel_25584\\2121719494.py:1: DtypeWarning: Columns (7) have mixed types. Specify dtype option on import or set low_memory=False.\n",
      "  df_merged = pd.read_csv(\"../data/preprocessed_train_data.csv\")\n"
     ]
    }
   ],
   "source": [
    "df_merged = pd.read_csv(\"../data/preprocessed_train_data.csv\")"
   ]
  },
  {
   "cell_type": "code",
   "execution_count": 52,
   "id": "6f420f3c",
   "metadata": {},
   "outputs": [],
   "source": [
    "\n",
    "\n",
    "# #Plot the original series, rolling mean, and rolling standard deviation\n",
    "# plt.figure(figsize=(12, 6))\n",
    "# plt.plot(df_last_two_years['sales'], label='Original')\n",
    "# plt.plot(rolling_mean, label='Rolling Mean', color='red')\n",
    "# plt.plot(rolling_std, label='Rolling Std', color='green')\n",
    "# plt.legend(loc='best')\n",
    "# plt.title('Rolling Mean & Standard Deviation')\n",
    "# plt.show()"
   ]
  },
  {
   "cell_type": "code",
   "execution_count": 53,
   "id": "6186c9e3",
   "metadata": {},
   "outputs": [
    {
     "name": "stdout",
     "output_type": "stream",
     "text": [
      "<class 'pandas.core.frame.DataFrame'>\n",
      "RangeIndex: 3000888 entries, 0 to 3000887\n",
      "Data columns (total 6 columns):\n",
      " #   Column       Dtype  \n",
      "---  ------       -----  \n",
      " 0   id           int64  \n",
      " 1   date         object \n",
      " 2   store_nbr    int64  \n",
      " 3   family       object \n",
      " 4   sales        float64\n",
      " 5   onpromotion  int64  \n",
      "dtypes: float64(1), int64(3), object(2)\n",
      "memory usage: 137.4+ MB\n"
     ]
    }
   ],
   "source": [
    "df_train.info()"
   ]
  },
  {
   "cell_type": "code",
   "execution_count": 54,
   "id": "973dd640",
   "metadata": {},
   "outputs": [
    {
     "data": {
      "text/html": [
       "<div>\n",
       "<style scoped>\n",
       "    .dataframe tbody tr th:only-of-type {\n",
       "        vertical-align: middle;\n",
       "    }\n",
       "\n",
       "    .dataframe tbody tr th {\n",
       "        vertical-align: top;\n",
       "    }\n",
       "\n",
       "    .dataframe thead th {\n",
       "        text-align: right;\n",
       "    }\n",
       "</style>\n",
       "<table border=\"1\" class=\"dataframe\">\n",
       "  <thead>\n",
       "    <tr style=\"text-align: right;\">\n",
       "      <th></th>\n",
       "      <th>id</th>\n",
       "      <th>store_nbr</th>\n",
       "      <th>sales</th>\n",
       "      <th>onpromotion</th>\n",
       "    </tr>\n",
       "  </thead>\n",
       "  <tbody>\n",
       "    <tr>\n",
       "      <th>count</th>\n",
       "      <td>3.000888e+06</td>\n",
       "      <td>3.000888e+06</td>\n",
       "      <td>3.000888e+06</td>\n",
       "      <td>3.000888e+06</td>\n",
       "    </tr>\n",
       "    <tr>\n",
       "      <th>mean</th>\n",
       "      <td>1.500444e+06</td>\n",
       "      <td>2.750000e+01</td>\n",
       "      <td>3.577757e+02</td>\n",
       "      <td>2.602770e+00</td>\n",
       "    </tr>\n",
       "    <tr>\n",
       "      <th>std</th>\n",
       "      <td>8.662819e+05</td>\n",
       "      <td>1.558579e+01</td>\n",
       "      <td>1.101998e+03</td>\n",
       "      <td>1.221888e+01</td>\n",
       "    </tr>\n",
       "    <tr>\n",
       "      <th>min</th>\n",
       "      <td>0.000000e+00</td>\n",
       "      <td>1.000000e+00</td>\n",
       "      <td>0.000000e+00</td>\n",
       "      <td>0.000000e+00</td>\n",
       "    </tr>\n",
       "    <tr>\n",
       "      <th>25%</th>\n",
       "      <td>7.502218e+05</td>\n",
       "      <td>1.400000e+01</td>\n",
       "      <td>0.000000e+00</td>\n",
       "      <td>0.000000e+00</td>\n",
       "    </tr>\n",
       "    <tr>\n",
       "      <th>50%</th>\n",
       "      <td>1.500444e+06</td>\n",
       "      <td>2.750000e+01</td>\n",
       "      <td>1.100000e+01</td>\n",
       "      <td>0.000000e+00</td>\n",
       "    </tr>\n",
       "    <tr>\n",
       "      <th>75%</th>\n",
       "      <td>2.250665e+06</td>\n",
       "      <td>4.100000e+01</td>\n",
       "      <td>1.958473e+02</td>\n",
       "      <td>0.000000e+00</td>\n",
       "    </tr>\n",
       "    <tr>\n",
       "      <th>max</th>\n",
       "      <td>3.000887e+06</td>\n",
       "      <td>5.400000e+01</td>\n",
       "      <td>1.247170e+05</td>\n",
       "      <td>7.410000e+02</td>\n",
       "    </tr>\n",
       "  </tbody>\n",
       "</table>\n",
       "</div>"
      ],
      "text/plain": [
       "                 id     store_nbr         sales   onpromotion\n",
       "count  3.000888e+06  3.000888e+06  3.000888e+06  3.000888e+06\n",
       "mean   1.500444e+06  2.750000e+01  3.577757e+02  2.602770e+00\n",
       "std    8.662819e+05  1.558579e+01  1.101998e+03  1.221888e+01\n",
       "min    0.000000e+00  1.000000e+00  0.000000e+00  0.000000e+00\n",
       "25%    7.502218e+05  1.400000e+01  0.000000e+00  0.000000e+00\n",
       "50%    1.500444e+06  2.750000e+01  1.100000e+01  0.000000e+00\n",
       "75%    2.250665e+06  4.100000e+01  1.958473e+02  0.000000e+00\n",
       "max    3.000887e+06  5.400000e+01  1.247170e+05  7.410000e+02"
      ]
     },
     "execution_count": 54,
     "metadata": {},
     "output_type": "execute_result"
    }
   ],
   "source": [
    "df_train.describe()"
   ]
  },
  {
   "cell_type": "code",
   "execution_count": null,
   "id": "a562c4a4",
   "metadata": {},
   "outputs": [],
   "source": []
  },
  {
   "cell_type": "code",
   "execution_count": 55,
   "id": "ea6bb0ce",
   "metadata": {},
   "outputs": [
    {
     "name": "stdout",
     "output_type": "stream",
     "text": [
      "Column: id, # of Nulls: 0 , NA Percentage: 0.0\n",
      "Column: date, # of Nulls: 0 , NA Percentage: 0.0\n",
      "Column: store_nbr, # of Nulls: 0 , NA Percentage: 0.0\n",
      "Column: family, # of Nulls: 0 , NA Percentage: 0.0\n",
      "Column: sales, # of Nulls: 0 , NA Percentage: 0.0\n",
      "Column: onpromotion, # of Nulls: 0 , NA Percentage: 0.0\n"
     ]
    }
   ],
   "source": [
    "#checking for na data\n",
    "nulldata=df_train.isna().sum()\n",
    "for index, value in nulldata.items():\n",
    "    per=value/len(df_train)\n",
    "    print(f\"Column: {index}, # of Nulls: {value} , NA Percentage: {per*100}\")"
   ]
  },
  {
   "cell_type": "markdown",
   "id": "5181f0e5",
   "metadata": {},
   "source": [
    "# Train dataset desctiption:\n",
    "# 1. The dataset looks clean with no nulls or nas in any of the columns in the train dataset.\n",
    "# 2. Time series of features store_nbr, family, and onpromotion as well as the target sales.\n",
    "# 3. store_nbr identifies the store at which the products are sold.\n",
    "# 4. family identifies the type of product sold.\n",
    "# 5. sales gives the total sales for a product family at a particular store at a given date. Fractional values are possible since products can be sold in fractional units (1.5 kg of cheese, for instance, as opposed to 1 bag of chips).\n",
    "# 6. onpromotion gives the total number of items in a product family that were being promoted at a store at a given date."
   ]
  },
  {
   "cell_type": "code",
   "execution_count": 56,
   "id": "727cfd31",
   "metadata": {},
   "outputs": [
    {
     "data": {
      "text/html": [
       "<div>\n",
       "<style scoped>\n",
       "    .dataframe tbody tr th:only-of-type {\n",
       "        vertical-align: middle;\n",
       "    }\n",
       "\n",
       "    .dataframe tbody tr th {\n",
       "        vertical-align: top;\n",
       "    }\n",
       "\n",
       "    .dataframe thead th {\n",
       "        text-align: right;\n",
       "    }\n",
       "</style>\n",
       "<table border=\"1\" class=\"dataframe\">\n",
       "  <thead>\n",
       "    <tr style=\"text-align: right;\">\n",
       "      <th></th>\n",
       "      <th>date</th>\n",
       "      <th>type</th>\n",
       "      <th>locale</th>\n",
       "      <th>locale_name</th>\n",
       "      <th>description</th>\n",
       "      <th>transferred</th>\n",
       "    </tr>\n",
       "  </thead>\n",
       "  <tbody>\n",
       "    <tr>\n",
       "      <th>0</th>\n",
       "      <td>2012-03-02</td>\n",
       "      <td>Holiday</td>\n",
       "      <td>Local</td>\n",
       "      <td>Manta</td>\n",
       "      <td>Fundacion de Manta</td>\n",
       "      <td>False</td>\n",
       "    </tr>\n",
       "    <tr>\n",
       "      <th>1</th>\n",
       "      <td>2012-04-01</td>\n",
       "      <td>Holiday</td>\n",
       "      <td>Regional</td>\n",
       "      <td>Cotopaxi</td>\n",
       "      <td>Provincializacion de Cotopaxi</td>\n",
       "      <td>False</td>\n",
       "    </tr>\n",
       "    <tr>\n",
       "      <th>2</th>\n",
       "      <td>2012-04-12</td>\n",
       "      <td>Holiday</td>\n",
       "      <td>Local</td>\n",
       "      <td>Cuenca</td>\n",
       "      <td>Fundacion de Cuenca</td>\n",
       "      <td>False</td>\n",
       "    </tr>\n",
       "    <tr>\n",
       "      <th>3</th>\n",
       "      <td>2012-04-14</td>\n",
       "      <td>Holiday</td>\n",
       "      <td>Local</td>\n",
       "      <td>Libertad</td>\n",
       "      <td>Cantonizacion de Libertad</td>\n",
       "      <td>False</td>\n",
       "    </tr>\n",
       "    <tr>\n",
       "      <th>4</th>\n",
       "      <td>2012-04-21</td>\n",
       "      <td>Holiday</td>\n",
       "      <td>Local</td>\n",
       "      <td>Riobamba</td>\n",
       "      <td>Cantonizacion de Riobamba</td>\n",
       "      <td>False</td>\n",
       "    </tr>\n",
       "    <tr>\n",
       "      <th>...</th>\n",
       "      <td>...</td>\n",
       "      <td>...</td>\n",
       "      <td>...</td>\n",
       "      <td>...</td>\n",
       "      <td>...</td>\n",
       "      <td>...</td>\n",
       "    </tr>\n",
       "    <tr>\n",
       "      <th>345</th>\n",
       "      <td>2017-12-22</td>\n",
       "      <td>Additional</td>\n",
       "      <td>National</td>\n",
       "      <td>Ecuador</td>\n",
       "      <td>Navidad-3</td>\n",
       "      <td>False</td>\n",
       "    </tr>\n",
       "    <tr>\n",
       "      <th>346</th>\n",
       "      <td>2017-12-23</td>\n",
       "      <td>Additional</td>\n",
       "      <td>National</td>\n",
       "      <td>Ecuador</td>\n",
       "      <td>Navidad-2</td>\n",
       "      <td>False</td>\n",
       "    </tr>\n",
       "    <tr>\n",
       "      <th>347</th>\n",
       "      <td>2017-12-24</td>\n",
       "      <td>Additional</td>\n",
       "      <td>National</td>\n",
       "      <td>Ecuador</td>\n",
       "      <td>Navidad-1</td>\n",
       "      <td>False</td>\n",
       "    </tr>\n",
       "    <tr>\n",
       "      <th>348</th>\n",
       "      <td>2017-12-25</td>\n",
       "      <td>Holiday</td>\n",
       "      <td>National</td>\n",
       "      <td>Ecuador</td>\n",
       "      <td>Navidad</td>\n",
       "      <td>False</td>\n",
       "    </tr>\n",
       "    <tr>\n",
       "      <th>349</th>\n",
       "      <td>2017-12-26</td>\n",
       "      <td>Additional</td>\n",
       "      <td>National</td>\n",
       "      <td>Ecuador</td>\n",
       "      <td>Navidad+1</td>\n",
       "      <td>False</td>\n",
       "    </tr>\n",
       "  </tbody>\n",
       "</table>\n",
       "<p>350 rows × 6 columns</p>\n",
       "</div>"
      ],
      "text/plain": [
       "           date        type    locale locale_name  \\\n",
       "0    2012-03-02     Holiday     Local       Manta   \n",
       "1    2012-04-01     Holiday  Regional    Cotopaxi   \n",
       "2    2012-04-12     Holiday     Local      Cuenca   \n",
       "3    2012-04-14     Holiday     Local    Libertad   \n",
       "4    2012-04-21     Holiday     Local    Riobamba   \n",
       "..          ...         ...       ...         ...   \n",
       "345  2017-12-22  Additional  National     Ecuador   \n",
       "346  2017-12-23  Additional  National     Ecuador   \n",
       "347  2017-12-24  Additional  National     Ecuador   \n",
       "348  2017-12-25     Holiday  National     Ecuador   \n",
       "349  2017-12-26  Additional  National     Ecuador   \n",
       "\n",
       "                       description  transferred  \n",
       "0               Fundacion de Manta        False  \n",
       "1    Provincializacion de Cotopaxi        False  \n",
       "2              Fundacion de Cuenca        False  \n",
       "3        Cantonizacion de Libertad        False  \n",
       "4        Cantonizacion de Riobamba        False  \n",
       "..                             ...          ...  \n",
       "345                      Navidad-3        False  \n",
       "346                      Navidad-2        False  \n",
       "347                      Navidad-1        False  \n",
       "348                        Navidad        False  \n",
       "349                      Navidad+1        False  \n",
       "\n",
       "[350 rows x 6 columns]"
      ]
     },
     "execution_count": 56,
     "metadata": {},
     "output_type": "execute_result"
    }
   ],
   "source": [
    "df_holidays"
   ]
  },
  {
   "cell_type": "code",
   "execution_count": 57,
   "id": "c20b51a0",
   "metadata": {},
   "outputs": [
    {
     "name": "stdout",
     "output_type": "stream",
     "text": [
      "Column: date, # of Nulls: 0 , NA Percentage: 0.0\n",
      "Column: type, # of Nulls: 0 , NA Percentage: 0.0\n",
      "Column: locale, # of Nulls: 0 , NA Percentage: 0.0\n",
      "Column: locale_name, # of Nulls: 0 , NA Percentage: 0.0\n",
      "Column: description, # of Nulls: 0 , NA Percentage: 0.0\n",
      "Column: transferred, # of Nulls: 0 , NA Percentage: 0.0\n"
     ]
    }
   ],
   "source": [
    "nulldata=df_holidays.isna().sum()\n",
    "for index, value in nulldata.items():\n",
    "    per=value/len(df_holidays)\n",
    "    print(f\"Column: {index}, # of Nulls: {value} , NA Percentage: {per*100}\")"
   ]
  },
  {
   "cell_type": "code",
   "execution_count": 58,
   "id": "100f79f3",
   "metadata": {},
   "outputs": [
    {
     "data": {
      "text/plain": [
       "type\n",
       "Holiday       221\n",
       "Event          56\n",
       "Additional     51\n",
       "Transfer       12\n",
       "Bridge          5\n",
       "Work Day        5\n",
       "Name: count, dtype: int64"
      ]
     },
     "execution_count": 58,
     "metadata": {},
     "output_type": "execute_result"
    }
   ],
   "source": [
    "df_holidays[\"type\"].value_counts()"
   ]
  },
  {
   "cell_type": "markdown",
   "id": "077c2d1a",
   "metadata": {},
   "source": [
    "# Different values of holidays described below\n",
    "# Holiday - A holiday\n",
    "# Event - An event\n",
    "# Additional - Days added a regular calendar holiday, for example, as typically happens around Christmas (making Christmas Eve a holiday).\n",
    "# Transfer - A holiday that is transferred officially falls on that calendar day, but was moved to another date by the government. A transferred day is more like a normal day than a holiday. To find the day that it was actually celebrated, look for the corresponding row where type is Transfer\n",
    "# Bridge - Extra days that are added to a holiday (e.g., to extend the break across a long weekend)\n",
    "# Work Day - The Bridge types are frequently made up by the type Work Day which is a day not normally scheduled for work (e.g., Saturday) that is meant to payback the Bridge.\n",
    "\n",
    "# Some more information\n",
    "# 1. Wages in the public sector are paid every two weeks on the 15 th and on the last day of the month. Supermarket sales could be affected by this.\n",
    "# 2. A magnitude 7.8 earthquake struck Ecuador on April 16, 2016. People rallied in relief efforts donating water and other first need products which greatly affected supermarket sales for several weeks after the earthquake.\n",
    "# 3. No nul values in the dataset."
   ]
  },
  {
   "cell_type": "code",
   "execution_count": null,
   "id": "194524f6",
   "metadata": {},
   "outputs": [],
   "source": []
  },
  {
   "cell_type": "code",
   "execution_count": 59,
   "id": "f879afb0",
   "metadata": {},
   "outputs": [
    {
     "data": {
      "text/html": [
       "<div>\n",
       "<style scoped>\n",
       "    .dataframe tbody tr th:only-of-type {\n",
       "        vertical-align: middle;\n",
       "    }\n",
       "\n",
       "    .dataframe tbody tr th {\n",
       "        vertical-align: top;\n",
       "    }\n",
       "\n",
       "    .dataframe thead th {\n",
       "        text-align: right;\n",
       "    }\n",
       "</style>\n",
       "<table border=\"1\" class=\"dataframe\">\n",
       "  <thead>\n",
       "    <tr style=\"text-align: right;\">\n",
       "      <th></th>\n",
       "      <th>date</th>\n",
       "      <th>dcoilwtico</th>\n",
       "    </tr>\n",
       "  </thead>\n",
       "  <tbody>\n",
       "    <tr>\n",
       "      <th>0</th>\n",
       "      <td>2013-01-01</td>\n",
       "      <td>NaN</td>\n",
       "    </tr>\n",
       "    <tr>\n",
       "      <th>1</th>\n",
       "      <td>2013-01-02</td>\n",
       "      <td>93.14</td>\n",
       "    </tr>\n",
       "    <tr>\n",
       "      <th>2</th>\n",
       "      <td>2013-01-03</td>\n",
       "      <td>92.97</td>\n",
       "    </tr>\n",
       "    <tr>\n",
       "      <th>3</th>\n",
       "      <td>2013-01-04</td>\n",
       "      <td>93.12</td>\n",
       "    </tr>\n",
       "    <tr>\n",
       "      <th>4</th>\n",
       "      <td>2013-01-07</td>\n",
       "      <td>93.20</td>\n",
       "    </tr>\n",
       "    <tr>\n",
       "      <th>...</th>\n",
       "      <td>...</td>\n",
       "      <td>...</td>\n",
       "    </tr>\n",
       "    <tr>\n",
       "      <th>1213</th>\n",
       "      <td>2017-08-25</td>\n",
       "      <td>47.65</td>\n",
       "    </tr>\n",
       "    <tr>\n",
       "      <th>1214</th>\n",
       "      <td>2017-08-28</td>\n",
       "      <td>46.40</td>\n",
       "    </tr>\n",
       "    <tr>\n",
       "      <th>1215</th>\n",
       "      <td>2017-08-29</td>\n",
       "      <td>46.46</td>\n",
       "    </tr>\n",
       "    <tr>\n",
       "      <th>1216</th>\n",
       "      <td>2017-08-30</td>\n",
       "      <td>45.96</td>\n",
       "    </tr>\n",
       "    <tr>\n",
       "      <th>1217</th>\n",
       "      <td>2017-08-31</td>\n",
       "      <td>47.26</td>\n",
       "    </tr>\n",
       "  </tbody>\n",
       "</table>\n",
       "<p>1218 rows × 2 columns</p>\n",
       "</div>"
      ],
      "text/plain": [
       "            date  dcoilwtico\n",
       "0     2013-01-01         NaN\n",
       "1     2013-01-02       93.14\n",
       "2     2013-01-03       92.97\n",
       "3     2013-01-04       93.12\n",
       "4     2013-01-07       93.20\n",
       "...          ...         ...\n",
       "1213  2017-08-25       47.65\n",
       "1214  2017-08-28       46.40\n",
       "1215  2017-08-29       46.46\n",
       "1216  2017-08-30       45.96\n",
       "1217  2017-08-31       47.26\n",
       "\n",
       "[1218 rows x 2 columns]"
      ]
     },
     "execution_count": 59,
     "metadata": {},
     "output_type": "execute_result"
    }
   ],
   "source": [
    "df_oil"
   ]
  },
  {
   "cell_type": "code",
   "execution_count": 60,
   "id": "ef1cfab8",
   "metadata": {},
   "outputs": [
    {
     "name": "stdout",
     "output_type": "stream",
     "text": [
      "Column: date, # of Nulls: 0 , NA Percentage: 0.0\n",
      "Column: dcoilwtico, # of Nulls: 43 , NA Percentage: 3.5303776683087027\n"
     ]
    }
   ],
   "source": [
    "nulldata=df_oil.isna().sum()\n",
    "for index, value in nulldata.items():\n",
    "    per=value/len(df_oil)\n",
    "    print(f\"Column: {index}, # of Nulls: {value} , NA Percentage: {per*100}\")"
   ]
  },
  {
   "cell_type": "markdown",
   "id": "16b3919b",
   "metadata": {},
   "source": [
    "# Oil.csv data description:\n",
    "# 1. There are 43 null valus in dcoilwtico column in oil dataset\n",
    "# 2. It contains daily oil price. Includes values during both the train and test data timeframes. (Ecuador is an oil-dependent country and it's economical health is highly vulnerable to shocks in oil prices.)"
   ]
  },
  {
   "cell_type": "code",
   "execution_count": 61,
   "id": "b7ba0de5",
   "metadata": {},
   "outputs": [
    {
     "name": "stdout",
     "output_type": "stream",
     "text": [
      "    store_nbr           city                           state type  cluster\n",
      "0           1          Quito                       Pichincha    D       13\n",
      "1           2          Quito                       Pichincha    D       13\n",
      "2           3          Quito                       Pichincha    D        8\n",
      "3           4          Quito                       Pichincha    D        9\n",
      "4           5  Santo Domingo  Santo Domingo de los Tsachilas    D        4\n",
      "..        ...            ...                             ...  ...      ...\n",
      "49         50         Ambato                      Tungurahua    A       14\n",
      "50         51      Guayaquil                          Guayas    A       17\n",
      "51         52          Manta                          Manabi    A       11\n",
      "52         53          Manta                          Manabi    D       13\n",
      "53         54      El Carmen                          Manabi    C        3\n",
      "\n",
      "[54 rows x 5 columns]\n"
     ]
    }
   ],
   "source": [
    "print(df_stores)"
   ]
  },
  {
   "cell_type": "code",
   "execution_count": 62,
   "id": "62b8ba39",
   "metadata": {},
   "outputs": [
    {
     "name": "stdout",
     "output_type": "stream",
     "text": [
      "Column: store_nbr, # of Nulls: 0 , NA Percentage: 0.0\n",
      "Column: city, # of Nulls: 0 , NA Percentage: 0.0\n",
      "Column: state, # of Nulls: 0 , NA Percentage: 0.0\n",
      "Column: type, # of Nulls: 0 , NA Percentage: 0.0\n",
      "Column: cluster, # of Nulls: 0 , NA Percentage: 0.0\n"
     ]
    }
   ],
   "source": [
    "nulldata=df_stores.isna().sum()\n",
    "for index, value in nulldata.items():\n",
    "    per=value/len(df_stores)\n",
    "    print(f\"Column: {index}, # of Nulls: {value} , NA Percentage: {per*100}\")"
   ]
  },
  {
   "cell_type": "markdown",
   "id": "46730f34",
   "metadata": {},
   "source": [
    "# Stores data description\n",
    "## 1. No nulls in the stores dataset\n",
    "## 2. Store metadata, including city, state, type, and cluster.\n",
    "## 3. cluster is a grouping of similar stores."
   ]
  },
  {
   "cell_type": "markdown",
   "id": "8affe204",
   "metadata": {},
   "source": [
    "# Exploring transactions data. - This dataset contains the number of transactions at store level."
   ]
  },
  {
   "cell_type": "code",
   "execution_count": 63,
   "id": "bd2a086b",
   "metadata": {},
   "outputs": [
    {
     "data": {
      "text/html": [
       "<div>\n",
       "<style scoped>\n",
       "    .dataframe tbody tr th:only-of-type {\n",
       "        vertical-align: middle;\n",
       "    }\n",
       "\n",
       "    .dataframe tbody tr th {\n",
       "        vertical-align: top;\n",
       "    }\n",
       "\n",
       "    .dataframe thead th {\n",
       "        text-align: right;\n",
       "    }\n",
       "</style>\n",
       "<table border=\"1\" class=\"dataframe\">\n",
       "  <thead>\n",
       "    <tr style=\"text-align: right;\">\n",
       "      <th></th>\n",
       "      <th>date</th>\n",
       "      <th>store_nbr</th>\n",
       "      <th>transactions</th>\n",
       "    </tr>\n",
       "  </thead>\n",
       "  <tbody>\n",
       "    <tr>\n",
       "      <th>0</th>\n",
       "      <td>2013-01-01</td>\n",
       "      <td>25</td>\n",
       "      <td>770</td>\n",
       "    </tr>\n",
       "    <tr>\n",
       "      <th>1</th>\n",
       "      <td>2013-01-02</td>\n",
       "      <td>1</td>\n",
       "      <td>2111</td>\n",
       "    </tr>\n",
       "    <tr>\n",
       "      <th>2</th>\n",
       "      <td>2013-01-02</td>\n",
       "      <td>2</td>\n",
       "      <td>2358</td>\n",
       "    </tr>\n",
       "    <tr>\n",
       "      <th>3</th>\n",
       "      <td>2013-01-02</td>\n",
       "      <td>3</td>\n",
       "      <td>3487</td>\n",
       "    </tr>\n",
       "    <tr>\n",
       "      <th>4</th>\n",
       "      <td>2013-01-02</td>\n",
       "      <td>4</td>\n",
       "      <td>1922</td>\n",
       "    </tr>\n",
       "  </tbody>\n",
       "</table>\n",
       "</div>"
      ],
      "text/plain": [
       "         date  store_nbr  transactions\n",
       "0  2013-01-01         25           770\n",
       "1  2013-01-02          1          2111\n",
       "2  2013-01-02          2          2358\n",
       "3  2013-01-02          3          3487\n",
       "4  2013-01-02          4          1922"
      ]
     },
     "execution_count": 63,
     "metadata": {},
     "output_type": "execute_result"
    }
   ],
   "source": [
    "df_transactions.head()"
   ]
  },
  {
   "cell_type": "code",
   "execution_count": 64,
   "id": "0c45d9c9",
   "metadata": {},
   "outputs": [
    {
     "name": "stdout",
     "output_type": "stream",
     "text": [
      "Column: date, # of Nulls: 0 , NA Percentage: 0.0\n",
      "Column: store_nbr, # of Nulls: 0 , NA Percentage: 0.0\n",
      "Column: transactions, # of Nulls: 0 , NA Percentage: 0.0\n"
     ]
    }
   ],
   "source": [
    "nulldata=df_transactions.isna().sum()\n",
    "for index, value in nulldata.items():\n",
    "    per=value/len(df_transactions)\n",
    "    print(f\"Column: {index}, # of Nulls: {value} , NA Percentage: {per*100}\")"
   ]
  },
  {
   "cell_type": "markdown",
   "id": "b216300e",
   "metadata": {},
   "source": [
    "# Observations:\n",
    "## 1. There are no nulls in the dataset"
   ]
  },
  {
   "cell_type": "code",
   "execution_count": null,
   "id": "abadb979",
   "metadata": {},
   "outputs": [],
   "source": []
  },
  {
   "cell_type": "code",
   "execution_count": 65,
   "id": "221cb963",
   "metadata": {},
   "outputs": [],
   "source": [
    "#Change date from object to date\n",
    "df_train['date'] = pd.to_datetime(df_train['date'])"
   ]
  },
  {
   "cell_type": "code",
   "execution_count": 66,
   "id": "4bad82e2",
   "metadata": {},
   "outputs": [],
   "source": [
    "df_train['year'] = df_train['date'].dt.year\n",
    "df_train['month'] = df_train['date'].dt.month\n",
    "df_train['dayofweek'] = df_train['date'].dt.weekday"
   ]
  },
  {
   "cell_type": "code",
   "execution_count": 67,
   "id": "9f024f28",
   "metadata": {},
   "outputs": [
    {
     "data": {
      "text/html": [
       "<div>\n",
       "<style scoped>\n",
       "    .dataframe tbody tr th:only-of-type {\n",
       "        vertical-align: middle;\n",
       "    }\n",
       "\n",
       "    .dataframe tbody tr th {\n",
       "        vertical-align: top;\n",
       "    }\n",
       "\n",
       "    .dataframe thead th {\n",
       "        text-align: right;\n",
       "    }\n",
       "</style>\n",
       "<table border=\"1\" class=\"dataframe\">\n",
       "  <thead>\n",
       "    <tr style=\"text-align: right;\">\n",
       "      <th></th>\n",
       "      <th>id</th>\n",
       "      <th>date</th>\n",
       "      <th>store_nbr</th>\n",
       "      <th>family</th>\n",
       "      <th>sales</th>\n",
       "      <th>onpromotion</th>\n",
       "      <th>year</th>\n",
       "      <th>month</th>\n",
       "      <th>dayofweek</th>\n",
       "    </tr>\n",
       "  </thead>\n",
       "  <tbody>\n",
       "    <tr>\n",
       "      <th>0</th>\n",
       "      <td>0</td>\n",
       "      <td>2013-01-01</td>\n",
       "      <td>1</td>\n",
       "      <td>AUTOMOTIVE</td>\n",
       "      <td>0.000</td>\n",
       "      <td>0</td>\n",
       "      <td>2013</td>\n",
       "      <td>1</td>\n",
       "      <td>1</td>\n",
       "    </tr>\n",
       "    <tr>\n",
       "      <th>1</th>\n",
       "      <td>1</td>\n",
       "      <td>2013-01-01</td>\n",
       "      <td>1</td>\n",
       "      <td>BABY CARE</td>\n",
       "      <td>0.000</td>\n",
       "      <td>0</td>\n",
       "      <td>2013</td>\n",
       "      <td>1</td>\n",
       "      <td>1</td>\n",
       "    </tr>\n",
       "    <tr>\n",
       "      <th>2</th>\n",
       "      <td>2</td>\n",
       "      <td>2013-01-01</td>\n",
       "      <td>1</td>\n",
       "      <td>BEAUTY</td>\n",
       "      <td>0.000</td>\n",
       "      <td>0</td>\n",
       "      <td>2013</td>\n",
       "      <td>1</td>\n",
       "      <td>1</td>\n",
       "    </tr>\n",
       "    <tr>\n",
       "      <th>3</th>\n",
       "      <td>3</td>\n",
       "      <td>2013-01-01</td>\n",
       "      <td>1</td>\n",
       "      <td>BEVERAGES</td>\n",
       "      <td>0.000</td>\n",
       "      <td>0</td>\n",
       "      <td>2013</td>\n",
       "      <td>1</td>\n",
       "      <td>1</td>\n",
       "    </tr>\n",
       "    <tr>\n",
       "      <th>4</th>\n",
       "      <td>4</td>\n",
       "      <td>2013-01-01</td>\n",
       "      <td>1</td>\n",
       "      <td>BOOKS</td>\n",
       "      <td>0.000</td>\n",
       "      <td>0</td>\n",
       "      <td>2013</td>\n",
       "      <td>1</td>\n",
       "      <td>1</td>\n",
       "    </tr>\n",
       "    <tr>\n",
       "      <th>...</th>\n",
       "      <td>...</td>\n",
       "      <td>...</td>\n",
       "      <td>...</td>\n",
       "      <td>...</td>\n",
       "      <td>...</td>\n",
       "      <td>...</td>\n",
       "      <td>...</td>\n",
       "      <td>...</td>\n",
       "      <td>...</td>\n",
       "    </tr>\n",
       "    <tr>\n",
       "      <th>3000883</th>\n",
       "      <td>3000883</td>\n",
       "      <td>2017-08-15</td>\n",
       "      <td>9</td>\n",
       "      <td>POULTRY</td>\n",
       "      <td>438.133</td>\n",
       "      <td>0</td>\n",
       "      <td>2017</td>\n",
       "      <td>8</td>\n",
       "      <td>1</td>\n",
       "    </tr>\n",
       "    <tr>\n",
       "      <th>3000884</th>\n",
       "      <td>3000884</td>\n",
       "      <td>2017-08-15</td>\n",
       "      <td>9</td>\n",
       "      <td>PREPARED FOODS</td>\n",
       "      <td>154.553</td>\n",
       "      <td>1</td>\n",
       "      <td>2017</td>\n",
       "      <td>8</td>\n",
       "      <td>1</td>\n",
       "    </tr>\n",
       "    <tr>\n",
       "      <th>3000885</th>\n",
       "      <td>3000885</td>\n",
       "      <td>2017-08-15</td>\n",
       "      <td>9</td>\n",
       "      <td>PRODUCE</td>\n",
       "      <td>2419.729</td>\n",
       "      <td>148</td>\n",
       "      <td>2017</td>\n",
       "      <td>8</td>\n",
       "      <td>1</td>\n",
       "    </tr>\n",
       "    <tr>\n",
       "      <th>3000886</th>\n",
       "      <td>3000886</td>\n",
       "      <td>2017-08-15</td>\n",
       "      <td>9</td>\n",
       "      <td>SCHOOL AND OFFICE SUPPLIES</td>\n",
       "      <td>121.000</td>\n",
       "      <td>8</td>\n",
       "      <td>2017</td>\n",
       "      <td>8</td>\n",
       "      <td>1</td>\n",
       "    </tr>\n",
       "    <tr>\n",
       "      <th>3000887</th>\n",
       "      <td>3000887</td>\n",
       "      <td>2017-08-15</td>\n",
       "      <td>9</td>\n",
       "      <td>SEAFOOD</td>\n",
       "      <td>16.000</td>\n",
       "      <td>0</td>\n",
       "      <td>2017</td>\n",
       "      <td>8</td>\n",
       "      <td>1</td>\n",
       "    </tr>\n",
       "  </tbody>\n",
       "</table>\n",
       "<p>3000888 rows × 9 columns</p>\n",
       "</div>"
      ],
      "text/plain": [
       "              id       date  store_nbr                      family     sales  \\\n",
       "0              0 2013-01-01          1                  AUTOMOTIVE     0.000   \n",
       "1              1 2013-01-01          1                   BABY CARE     0.000   \n",
       "2              2 2013-01-01          1                      BEAUTY     0.000   \n",
       "3              3 2013-01-01          1                   BEVERAGES     0.000   \n",
       "4              4 2013-01-01          1                       BOOKS     0.000   \n",
       "...          ...        ...        ...                         ...       ...   \n",
       "3000883  3000883 2017-08-15          9                     POULTRY   438.133   \n",
       "3000884  3000884 2017-08-15          9              PREPARED FOODS   154.553   \n",
       "3000885  3000885 2017-08-15          9                     PRODUCE  2419.729   \n",
       "3000886  3000886 2017-08-15          9  SCHOOL AND OFFICE SUPPLIES   121.000   \n",
       "3000887  3000887 2017-08-15          9                     SEAFOOD    16.000   \n",
       "\n",
       "         onpromotion  year  month  dayofweek  \n",
       "0                  0  2013      1          1  \n",
       "1                  0  2013      1          1  \n",
       "2                  0  2013      1          1  \n",
       "3                  0  2013      1          1  \n",
       "4                  0  2013      1          1  \n",
       "...              ...   ...    ...        ...  \n",
       "3000883            0  2017      8          1  \n",
       "3000884            1  2017      8          1  \n",
       "3000885          148  2017      8          1  \n",
       "3000886            8  2017      8          1  \n",
       "3000887            0  2017      8          1  \n",
       "\n",
       "[3000888 rows x 9 columns]"
      ]
     },
     "execution_count": 67,
     "metadata": {},
     "output_type": "execute_result"
    }
   ],
   "source": [
    "df_train"
   ]
  },
  {
   "cell_type": "markdown",
   "id": "14ea28eb",
   "metadata": {},
   "source": [
    "# We also created a standalone script where we merged all the data in a single table. That dataset is df_merged"
   ]
  },
  {
   "cell_type": "code",
   "execution_count": 68,
   "id": "a9c5a9c1",
   "metadata": {},
   "outputs": [],
   "source": [
    "#Change date from object to date\n",
    "df_merged['date'] = pd.to_datetime(df_merged['date'])\n",
    "df_merged['year'] = df_merged['date'].dt.year\n",
    "df_merged['month'] = df_merged['date'].dt.month\n",
    "df_merged['dayofweek'] = df_merged['date'].dt.weekday"
   ]
  },
  {
   "cell_type": "code",
   "execution_count": 69,
   "id": "1ce91c27",
   "metadata": {},
   "outputs": [
    {
     "name": "stdout",
     "output_type": "stream",
     "text": [
      "Column: Unnamed: 0, # of Nulls: 0 , Null Percentage: 0.0\n",
      "Column: id, # of Nulls: 0 , Null Percentage: 0.0\n",
      "Column: date, # of Nulls: 0 , Null Percentage: 0.0\n",
      "Column: store_nbr, # of Nulls: 0 , Null Percentage: 0.0\n",
      "Column: family, # of Nulls: 0 , Null Percentage: 0.0\n",
      "Column: sales, # of Nulls: 0 , Null Percentage: 0.0\n",
      "Column: onpromotion, # of Nulls: 0 , Null Percentage: 0.0\n",
      "Column: holiday_type, # of Nulls: 2724678 , Null Percentage: 90.7957244655582\n",
      "Column: dcoilwtico, # of Nulls: 928422 , Null Percentage: 30.93824228028503\n",
      "Column: city, # of Nulls: 0 , Null Percentage: 0.0\n",
      "Column: state, # of Nulls: 0 , Null Percentage: 0.0\n",
      "Column: store_type, # of Nulls: 0 , Null Percentage: 0.0\n",
      "Column: cluster, # of Nulls: 0 , Null Percentage: 0.0\n",
      "Column: transactions, # of Nulls: 245784 , Null Percentage: 8.190375648807953\n",
      "Column: year, # of Nulls: 0 , Null Percentage: 0.0\n",
      "Column: month, # of Nulls: 0 , Null Percentage: 0.0\n",
      "Column: dayofweek, # of Nulls: 0 , Null Percentage: 0.0\n"
     ]
    }
   ],
   "source": [
    "#checking for null data\n",
    "nulldata=df_merged.isnull().sum()\n",
    "for index, value in nulldata.items():\n",
    "    per=value/len(df_merged)\n",
    "    print(f\"Column: {index}, # of Nulls: {value} , Null Percentage: {per*100}\")"
   ]
  },
  {
   "cell_type": "markdown",
   "id": "91542fc5",
   "metadata": {},
   "source": [
    " # Observations\n",
    " # 1. Holiday type is null for 90% of the rows which means that 90% of the days are non holiday days.\n",
    " # 2. 30% of the rows in oil price is null. \n",
    " # 3. 8 % of the rows in transactions is null."
   ]
  },
  {
   "cell_type": "code",
   "execution_count": null,
   "id": "530de8bb",
   "metadata": {},
   "outputs": [],
   "source": []
  },
  {
   "cell_type": "markdown",
   "id": "273004f3",
   "metadata": {},
   "source": [
    "# We will have to do null imputation in this dataset."
   ]
  },
  {
   "cell_type": "code",
   "execution_count": 70,
   "id": "cbaa9bd4",
   "metadata": {},
   "outputs": [],
   "source": [
    "# Holiday type null would mean that it was not a holiday on that date. We can introduce a new category called NA in this case. "
   ]
  },
  {
   "cell_type": "code",
   "execution_count": 71,
   "id": "4ee9205e",
   "metadata": {},
   "outputs": [],
   "source": [
    "df_merged_nullsimputed = df_merged.copy()"
   ]
  },
  {
   "cell_type": "code",
   "execution_count": 72,
   "id": "55059cc1",
   "metadata": {},
   "outputs": [
    {
     "name": "stderr",
     "output_type": "stream",
     "text": [
      "C:\\Users\\sadha\\AppData\\Local\\Temp\\ipykernel_25584\\2026142985.py:1: FutureWarning: A value is trying to be set on a copy of a DataFrame or Series through chained assignment using an inplace method.\n",
      "The behavior will change in pandas 3.0. This inplace method will never work because the intermediate object on which we are setting values always behaves as a copy.\n",
      "\n",
      "For example, when doing 'df[col].method(value, inplace=True)', try using 'df.method({col: value}, inplace=True)' or df[col] = df[col].method(value) instead, to perform the operation inplace on the original object.\n",
      "\n",
      "\n",
      "  df_merged_nullsimputed.holiday_type.fillna('NA', inplace=True)\n"
     ]
    }
   ],
   "source": [
    "df_merged_nullsimputed.holiday_type.fillna('NA', inplace=True)"
   ]
  },
  {
   "cell_type": "code",
   "execution_count": 73,
   "id": "b221b1f3",
   "metadata": {},
   "outputs": [],
   "source": [
    "# Nulls in oil price value could be because of a non trading day or missing data. I am using forward fill function to use the last day's price of oil."
   ]
  },
  {
   "cell_type": "code",
   "execution_count": 74,
   "id": "c0974471",
   "metadata": {},
   "outputs": [
    {
     "name": "stderr",
     "output_type": "stream",
     "text": [
      "C:\\Users\\sadha\\AppData\\Local\\Temp\\ipykernel_25584\\3459459042.py:1: FutureWarning: Series.fillna with 'method' is deprecated and will raise in a future version. Use obj.ffill() or obj.bfill() instead.\n",
      "  df_merged_nullsimputed['dcoilwtico'] = df_merged_nullsimputed['dcoilwtico'].fillna(method= 'ffill')\n"
     ]
    }
   ],
   "source": [
    "df_merged_nullsimputed['dcoilwtico'] = df_merged_nullsimputed['dcoilwtico'].fillna(method= 'ffill')"
   ]
  },
  {
   "cell_type": "code",
   "execution_count": 75,
   "id": "8fc40ab2",
   "metadata": {},
   "outputs": [
    {
     "data": {
      "text/plain": [
       "date\n",
       "2013-01-01    1782\n",
       "Name: count, dtype: int64"
      ]
     },
     "execution_count": 75,
     "metadata": {},
     "output_type": "execute_result"
    }
   ],
   "source": [
    "df_merged_nullsimputed[df_merged_nullsimputed['dcoilwtico'].isnull()].date.value_counts()"
   ]
  },
  {
   "cell_type": "markdown",
   "id": "8048328a",
   "metadata": {},
   "source": [
    "# This shows that the value of oil price is null for the first date i.e 01/01/2013. We can do a backward fill for these values."
   ]
  },
  {
   "cell_type": "code",
   "execution_count": 76,
   "id": "db38bb08",
   "metadata": {},
   "outputs": [
    {
     "name": "stderr",
     "output_type": "stream",
     "text": [
      "C:\\Users\\sadha\\AppData\\Local\\Temp\\ipykernel_25584\\649138835.py:1: FutureWarning: Series.fillna with 'method' is deprecated and will raise in a future version. Use obj.ffill() or obj.bfill() instead.\n",
      "  df_merged_nullsimputed['dcoilwtico'] = df_merged_nullsimputed['dcoilwtico'].fillna(method= 'bfill')\n"
     ]
    }
   ],
   "source": [
    "df_merged_nullsimputed['dcoilwtico'] = df_merged_nullsimputed['dcoilwtico'].fillna(method= 'bfill')"
   ]
  },
  {
   "cell_type": "code",
   "execution_count": 77,
   "id": "b21baa2e",
   "metadata": {},
   "outputs": [
    {
     "data": {
      "text/plain": [
       "0"
      ]
     },
     "execution_count": 77,
     "metadata": {},
     "output_type": "execute_result"
    }
   ],
   "source": [
    "df_merged_nullsimputed['dcoilwtico'].isnull().sum()"
   ]
  },
  {
   "cell_type": "markdown",
   "id": "ea3a8820",
   "metadata": {},
   "source": [
    "# Now there are no nulls in the oil price in merged dataset. We will now impute transactions.\n",
    "# Null values in transaction would represent either of the below cases:\n",
    "# 1. Missing data\n",
    "# 2. Data collection issues\n",
    "# 3. Store closure\n",
    "# 4. Zero transactions"
   ]
  },
  {
   "cell_type": "code",
   "execution_count": 78,
   "id": "368d9a5f",
   "metadata": {},
   "outputs": [
    {
     "data": {
      "text/plain": [
       "transactions\n",
       "4392.0      33\n",
       "5089.0      33\n",
       "4710.0      33\n",
       "5951.0      33\n",
       "5899.0      33\n",
       "          ... \n",
       "1282.0    2640\n",
       "1171.0    2640\n",
       "1304.0    2673\n",
       "1200.0    2838\n",
       "1207.0    2970\n",
       "Name: count, Length: 4993, dtype: int64"
      ]
     },
     "execution_count": 78,
     "metadata": {},
     "output_type": "execute_result"
    }
   ],
   "source": [
    "df_merged_nullsimputed.transactions.value_counts(ascending=True)"
   ]
  },
  {
   "cell_type": "code",
   "execution_count": 79,
   "id": "8042dffd",
   "metadata": {},
   "outputs": [
    {
     "data": {
      "text/html": [
       "<div>\n",
       "<style scoped>\n",
       "    .dataframe tbody tr th:only-of-type {\n",
       "        vertical-align: middle;\n",
       "    }\n",
       "\n",
       "    .dataframe tbody tr th {\n",
       "        vertical-align: top;\n",
       "    }\n",
       "\n",
       "    .dataframe thead th {\n",
       "        text-align: right;\n",
       "    }\n",
       "</style>\n",
       "<table border=\"1\" class=\"dataframe\">\n",
       "  <thead>\n",
       "    <tr style=\"text-align: right;\">\n",
       "      <th></th>\n",
       "      <th>Unnamed: 0</th>\n",
       "      <th>id</th>\n",
       "      <th>date</th>\n",
       "      <th>store_nbr</th>\n",
       "      <th>family</th>\n",
       "      <th>sales</th>\n",
       "      <th>onpromotion</th>\n",
       "      <th>holiday_type</th>\n",
       "      <th>dcoilwtico</th>\n",
       "      <th>city</th>\n",
       "      <th>state</th>\n",
       "      <th>store_type</th>\n",
       "      <th>cluster</th>\n",
       "      <th>transactions</th>\n",
       "      <th>year</th>\n",
       "      <th>month</th>\n",
       "      <th>dayofweek</th>\n",
       "    </tr>\n",
       "  </thead>\n",
       "  <tbody>\n",
       "    <tr>\n",
       "      <th>0</th>\n",
       "      <td>0</td>\n",
       "      <td>0</td>\n",
       "      <td>2013-01-01</td>\n",
       "      <td>1</td>\n",
       "      <td>AUTOMOTIVE</td>\n",
       "      <td>0.000</td>\n",
       "      <td>0</td>\n",
       "      <td>Holiday</td>\n",
       "      <td>93.14</td>\n",
       "      <td>Quito</td>\n",
       "      <td>Pichincha</td>\n",
       "      <td>D</td>\n",
       "      <td>13</td>\n",
       "      <td>NaN</td>\n",
       "      <td>2013</td>\n",
       "      <td>1</td>\n",
       "      <td>1</td>\n",
       "    </tr>\n",
       "    <tr>\n",
       "      <th>1</th>\n",
       "      <td>1</td>\n",
       "      <td>1</td>\n",
       "      <td>2013-01-01</td>\n",
       "      <td>1</td>\n",
       "      <td>BABY CARE</td>\n",
       "      <td>0.000</td>\n",
       "      <td>0</td>\n",
       "      <td>Holiday</td>\n",
       "      <td>93.14</td>\n",
       "      <td>Quito</td>\n",
       "      <td>Pichincha</td>\n",
       "      <td>D</td>\n",
       "      <td>13</td>\n",
       "      <td>NaN</td>\n",
       "      <td>2013</td>\n",
       "      <td>1</td>\n",
       "      <td>1</td>\n",
       "    </tr>\n",
       "    <tr>\n",
       "      <th>2</th>\n",
       "      <td>2</td>\n",
       "      <td>2</td>\n",
       "      <td>2013-01-01</td>\n",
       "      <td>1</td>\n",
       "      <td>BEAUTY</td>\n",
       "      <td>0.000</td>\n",
       "      <td>0</td>\n",
       "      <td>Holiday</td>\n",
       "      <td>93.14</td>\n",
       "      <td>Quito</td>\n",
       "      <td>Pichincha</td>\n",
       "      <td>D</td>\n",
       "      <td>13</td>\n",
       "      <td>NaN</td>\n",
       "      <td>2013</td>\n",
       "      <td>1</td>\n",
       "      <td>1</td>\n",
       "    </tr>\n",
       "    <tr>\n",
       "      <th>3</th>\n",
       "      <td>3</td>\n",
       "      <td>3</td>\n",
       "      <td>2013-01-01</td>\n",
       "      <td>1</td>\n",
       "      <td>BEVERAGES</td>\n",
       "      <td>0.000</td>\n",
       "      <td>0</td>\n",
       "      <td>Holiday</td>\n",
       "      <td>93.14</td>\n",
       "      <td>Quito</td>\n",
       "      <td>Pichincha</td>\n",
       "      <td>D</td>\n",
       "      <td>13</td>\n",
       "      <td>NaN</td>\n",
       "      <td>2013</td>\n",
       "      <td>1</td>\n",
       "      <td>1</td>\n",
       "    </tr>\n",
       "    <tr>\n",
       "      <th>4</th>\n",
       "      <td>4</td>\n",
       "      <td>4</td>\n",
       "      <td>2013-01-01</td>\n",
       "      <td>1</td>\n",
       "      <td>BOOKS</td>\n",
       "      <td>0.000</td>\n",
       "      <td>0</td>\n",
       "      <td>Holiday</td>\n",
       "      <td>93.14</td>\n",
       "      <td>Quito</td>\n",
       "      <td>Pichincha</td>\n",
       "      <td>D</td>\n",
       "      <td>13</td>\n",
       "      <td>NaN</td>\n",
       "      <td>2013</td>\n",
       "      <td>1</td>\n",
       "      <td>1</td>\n",
       "    </tr>\n",
       "    <tr>\n",
       "      <th>...</th>\n",
       "      <td>...</td>\n",
       "      <td>...</td>\n",
       "      <td>...</td>\n",
       "      <td>...</td>\n",
       "      <td>...</td>\n",
       "      <td>...</td>\n",
       "      <td>...</td>\n",
       "      <td>...</td>\n",
       "      <td>...</td>\n",
       "      <td>...</td>\n",
       "      <td>...</td>\n",
       "      <td>...</td>\n",
       "      <td>...</td>\n",
       "      <td>...</td>\n",
       "      <td>...</td>\n",
       "      <td>...</td>\n",
       "      <td>...</td>\n",
       "    </tr>\n",
       "    <tr>\n",
       "      <th>3000883</th>\n",
       "      <td>3000883</td>\n",
       "      <td>3000883</td>\n",
       "      <td>2017-08-15</td>\n",
       "      <td>9</td>\n",
       "      <td>POULTRY</td>\n",
       "      <td>438.133</td>\n",
       "      <td>0</td>\n",
       "      <td>Holiday</td>\n",
       "      <td>47.57</td>\n",
       "      <td>Quito</td>\n",
       "      <td>Pichincha</td>\n",
       "      <td>B</td>\n",
       "      <td>6</td>\n",
       "      <td>2155.0</td>\n",
       "      <td>2017</td>\n",
       "      <td>8</td>\n",
       "      <td>1</td>\n",
       "    </tr>\n",
       "    <tr>\n",
       "      <th>3000884</th>\n",
       "      <td>3000884</td>\n",
       "      <td>3000884</td>\n",
       "      <td>2017-08-15</td>\n",
       "      <td>9</td>\n",
       "      <td>PREPARED FOODS</td>\n",
       "      <td>154.553</td>\n",
       "      <td>1</td>\n",
       "      <td>Holiday</td>\n",
       "      <td>47.57</td>\n",
       "      <td>Quito</td>\n",
       "      <td>Pichincha</td>\n",
       "      <td>B</td>\n",
       "      <td>6</td>\n",
       "      <td>2155.0</td>\n",
       "      <td>2017</td>\n",
       "      <td>8</td>\n",
       "      <td>1</td>\n",
       "    </tr>\n",
       "    <tr>\n",
       "      <th>3000885</th>\n",
       "      <td>3000885</td>\n",
       "      <td>3000885</td>\n",
       "      <td>2017-08-15</td>\n",
       "      <td>9</td>\n",
       "      <td>PRODUCE</td>\n",
       "      <td>2419.729</td>\n",
       "      <td>148</td>\n",
       "      <td>Holiday</td>\n",
       "      <td>47.57</td>\n",
       "      <td>Quito</td>\n",
       "      <td>Pichincha</td>\n",
       "      <td>B</td>\n",
       "      <td>6</td>\n",
       "      <td>2155.0</td>\n",
       "      <td>2017</td>\n",
       "      <td>8</td>\n",
       "      <td>1</td>\n",
       "    </tr>\n",
       "    <tr>\n",
       "      <th>3000886</th>\n",
       "      <td>3000886</td>\n",
       "      <td>3000886</td>\n",
       "      <td>2017-08-15</td>\n",
       "      <td>9</td>\n",
       "      <td>SCHOOL AND OFFICE SUPPLIES</td>\n",
       "      <td>121.000</td>\n",
       "      <td>8</td>\n",
       "      <td>Holiday</td>\n",
       "      <td>47.57</td>\n",
       "      <td>Quito</td>\n",
       "      <td>Pichincha</td>\n",
       "      <td>B</td>\n",
       "      <td>6</td>\n",
       "      <td>2155.0</td>\n",
       "      <td>2017</td>\n",
       "      <td>8</td>\n",
       "      <td>1</td>\n",
       "    </tr>\n",
       "    <tr>\n",
       "      <th>3000887</th>\n",
       "      <td>3000887</td>\n",
       "      <td>3000887</td>\n",
       "      <td>2017-08-15</td>\n",
       "      <td>9</td>\n",
       "      <td>SEAFOOD</td>\n",
       "      <td>16.000</td>\n",
       "      <td>0</td>\n",
       "      <td>Holiday</td>\n",
       "      <td>47.57</td>\n",
       "      <td>Quito</td>\n",
       "      <td>Pichincha</td>\n",
       "      <td>B</td>\n",
       "      <td>6</td>\n",
       "      <td>2155.0</td>\n",
       "      <td>2017</td>\n",
       "      <td>8</td>\n",
       "      <td>1</td>\n",
       "    </tr>\n",
       "  </tbody>\n",
       "</table>\n",
       "<p>3000888 rows × 17 columns</p>\n",
       "</div>"
      ],
      "text/plain": [
       "         Unnamed: 0       id       date  store_nbr  \\\n",
       "0                 0        0 2013-01-01          1   \n",
       "1                 1        1 2013-01-01          1   \n",
       "2                 2        2 2013-01-01          1   \n",
       "3                 3        3 2013-01-01          1   \n",
       "4                 4        4 2013-01-01          1   \n",
       "...             ...      ...        ...        ...   \n",
       "3000883     3000883  3000883 2017-08-15          9   \n",
       "3000884     3000884  3000884 2017-08-15          9   \n",
       "3000885     3000885  3000885 2017-08-15          9   \n",
       "3000886     3000886  3000886 2017-08-15          9   \n",
       "3000887     3000887  3000887 2017-08-15          9   \n",
       "\n",
       "                             family     sales  onpromotion holiday_type  \\\n",
       "0                        AUTOMOTIVE     0.000            0      Holiday   \n",
       "1                         BABY CARE     0.000            0      Holiday   \n",
       "2                            BEAUTY     0.000            0      Holiday   \n",
       "3                         BEVERAGES     0.000            0      Holiday   \n",
       "4                             BOOKS     0.000            0      Holiday   \n",
       "...                             ...       ...          ...          ...   \n",
       "3000883                     POULTRY   438.133            0      Holiday   \n",
       "3000884              PREPARED FOODS   154.553            1      Holiday   \n",
       "3000885                     PRODUCE  2419.729          148      Holiday   \n",
       "3000886  SCHOOL AND OFFICE SUPPLIES   121.000            8      Holiday   \n",
       "3000887                     SEAFOOD    16.000            0      Holiday   \n",
       "\n",
       "         dcoilwtico   city      state store_type  cluster  transactions  year  \\\n",
       "0             93.14  Quito  Pichincha          D       13           NaN  2013   \n",
       "1             93.14  Quito  Pichincha          D       13           NaN  2013   \n",
       "2             93.14  Quito  Pichincha          D       13           NaN  2013   \n",
       "3             93.14  Quito  Pichincha          D       13           NaN  2013   \n",
       "4             93.14  Quito  Pichincha          D       13           NaN  2013   \n",
       "...             ...    ...        ...        ...      ...           ...   ...   \n",
       "3000883       47.57  Quito  Pichincha          B        6        2155.0  2017   \n",
       "3000884       47.57  Quito  Pichincha          B        6        2155.0  2017   \n",
       "3000885       47.57  Quito  Pichincha          B        6        2155.0  2017   \n",
       "3000886       47.57  Quito  Pichincha          B        6        2155.0  2017   \n",
       "3000887       47.57  Quito  Pichincha          B        6        2155.0  2017   \n",
       "\n",
       "         month  dayofweek  \n",
       "0            1          1  \n",
       "1            1          1  \n",
       "2            1          1  \n",
       "3            1          1  \n",
       "4            1          1  \n",
       "...        ...        ...  \n",
       "3000883      8          1  \n",
       "3000884      8          1  \n",
       "3000885      8          1  \n",
       "3000886      8          1  \n",
       "3000887      8          1  \n",
       "\n",
       "[3000888 rows x 17 columns]"
      ]
     },
     "execution_count": 79,
     "metadata": {},
     "output_type": "execute_result"
    }
   ],
   "source": [
    "df_merged_nullsimputed"
   ]
  },
  {
   "cell_type": "markdown",
   "id": "41d530c9",
   "metadata": {},
   "source": [
    "# Here we see that the minimum value is 33. Thus, reason could be that there were no transactions in that store for that date.\n",
    "# We will now create a new feature called isHoliday at date, locale and finaly arrive at a conclusion that is was a holiday in that store or not.\n",
    "# Basis this we will decide where to impute the number of transactions in that store number as 0 or leave them null. \n",
    "# In case the final value needs to be null then we can use regression imputation to set hose as some values. \n",
    "# We as of now assume sales will be highly correlated to transactions and our understanding is that sales will anyways cover the number of transactions in itself so we might remove this column from our training set as well."
   ]
  },
  {
   "cell_type": "code",
   "execution_count": 80,
   "id": "7e79070f",
   "metadata": {},
   "outputs": [
    {
     "data": {
      "text/plain": [
       "year  month  store_nbr\n",
       "2013  1      1            1566543.0\n",
       "             2            1900404.0\n",
       "             3            3001218.0\n",
       "             4            1516020.0\n",
       "             5            1496715.0\n",
       "                            ...    \n",
       "2017  8      50           1372338.0\n",
       "             51            833844.0\n",
       "             52           1181994.0\n",
       "             53            547239.0\n",
       "             54            407418.0\n",
       "Name: transactions, Length: 3024, dtype: float64"
      ]
     },
     "execution_count": 80,
     "metadata": {},
     "output_type": "execute_result"
    }
   ],
   "source": [
    "df_merged_nullsimputed.groupby(['year','month','store_nbr'])['transactions'].sum()"
   ]
  },
  {
   "cell_type": "code",
   "execution_count": 81,
   "id": "b3b77072",
   "metadata": {},
   "outputs": [
    {
     "data": {
      "text/plain": [
       "store_nbr  year  month\n",
       "1          2013  1        1566543.0\n",
       "                 2        1339371.0\n",
       "                 3        1494867.0\n",
       "                 4        1542420.0\n",
       "                 5        1527438.0\n",
       "                            ...    \n",
       "54         2017  4         798897.0\n",
       "                 5         869352.0\n",
       "                 6         810744.0\n",
       "                 7         827541.0\n",
       "                 8         407418.0\n",
       "Name: transactions, Length: 3024, dtype: float64"
      ]
     },
     "execution_count": 81,
     "metadata": {},
     "output_type": "execute_result"
    }
   ],
   "source": [
    "df_merged_nullsimputed.groupby(['store_nbr','year','month'])['transactions'].sum()"
   ]
  },
  {
   "cell_type": "code",
   "execution_count": 82,
   "id": "47ca08d3",
   "metadata": {},
   "outputs": [],
   "source": [
    "#df_t2=df_t1.reset_index()"
   ]
  },
  {
   "cell_type": "code",
   "execution_count": 83,
   "id": "54bf556a",
   "metadata": {},
   "outputs": [],
   "source": [
    "#df_t2[df_t2['store_nbr'] == 20]"
   ]
  },
  {
   "cell_type": "code",
   "execution_count": 84,
   "id": "80d588a8",
   "metadata": {},
   "outputs": [],
   "source": [
    "sales_by_year_dayofweek = df_merged_nullsimputed[df_merged_nullsimputed['year'] == 2016].groupby('dayofweek').sales.sum()"
   ]
  },
  {
   "cell_type": "code",
   "execution_count": null,
   "id": "11364c99",
   "metadata": {},
   "outputs": [],
   "source": []
  },
  {
   "cell_type": "code",
   "execution_count": 85,
   "id": "316eb52c",
   "metadata": {},
   "outputs": [
    {
     "data": {
      "image/png": "[encoded data removed]",
      "text/plain": [
       "<Figure size 1000x1000 with 1 Axes>"
      ]
     },
     "metadata": {},
     "output_type": "display_data"
    }
   ],
   "source": [
    "plt.figure(figsize = (10,10))\n",
    "plt.plot(sales_by_year_dayofweek)\n",
    "plt.title('Total sales over time')\n",
    "plt.xlabel(\"Date\")\n",
    "plt.ylabel(\"Sales\")\n",
    "plt.show()"
   ]
  },
  {
   "cell_type": "code",
   "execution_count": 86,
   "id": "fd2a7c1a",
   "metadata": {},
   "outputs": [],
   "source": [
    "sales_by_date = df_merged.groupby('date').sales.sum()"
   ]
  },
  {
   "cell_type": "code",
   "execution_count": 87,
   "id": "e3493638",
   "metadata": {},
   "outputs": [
    {
     "data": {
      "image/png": "[encoded data removed]",
      "text/plain": [
       "<Figure size 1000x1000 with 1 Axes>"
      ]
     },
     "metadata": {},
     "output_type": "display_data"
    }
   ],
   "source": [
    "plt.figure(figsize = (10,10))\n",
    "plt.plot(sales_by_date)\n",
    "plt.title('Total sales over time')\n",
    "plt.xlabel(\"Date\")\n",
    "plt.ylabel(\"Sales\")\n",
    "plt.show()"
   ]
  },
  {
   "cell_type": "markdown",
   "id": "d9edf99f",
   "metadata": {},
   "source": [
    "# The above graph shows the Total sales per date and this shows that there is seasonality in data because we see some spikes in the graph on specific dates. We will have to do some Exploratory data analysis to flatten this data and make this data usable for training."
   ]
  },
  {
   "cell_type": "code",
   "execution_count": 88,
   "id": "dde67df1",
   "metadata": {},
   "outputs": [
    {
     "data": {
      "image/png": "[encoded data removed]",
      "text/plain": [
       "<Figure size 1400x700 with 1 Axes>"
      ]
     },
     "metadata": {},
     "output_type": "display_data"
    }
   ],
   "source": [
    "sales_by_store = df_merged.groupby('store_nbr').sales.sum()\n",
    "\n",
    "plt.figure(figsize=(14, 7))\n",
    "sales_by_store.plot(kind='bar')\n",
    "plt.title('Total Sales by Store')\n",
    "plt.xlabel('Store Number')\n",
    "plt.ylabel('Sales')\n",
    "plt.show()"
   ]
  },
  {
   "cell_type": "markdown",
   "id": "0c4e7890",
   "metadata": {},
   "source": [
    "# The above plot shows the store sales per store number . This shows that store # 44 has the highest sales."
   ]
  },
  {
   "cell_type": "code",
   "execution_count": 89,
   "id": "006f8866",
   "metadata": {},
   "outputs": [
    {
     "data": {
      "image/png": "[encoded data removed]",
      "text/plain": [
       "<Figure size 1000x1000 with 1 Axes>"
      ]
     },
     "metadata": {},
     "output_type": "display_data"
    }
   ],
   "source": [
    "sales_by_family = df_merged.groupby('family').sales.sum()\n",
    "\n",
    "plt.figure(figsize=(10,10))\n",
    "sales_by_family.plot(kind='bar')\n",
    "plt.title(\"Total sale by product family\")\n",
    "plt.xlabel(\"Family\")\n",
    "plt.ylabel(\"Sales\")\n",
    "plt.show()"
   ]
  },
  {
   "cell_type": "markdown",
   "id": "62cb56f3",
   "metadata": {},
   "source": [
    "# From the Family vs sales graph we see that Product family Grocery 1 has the hights sales."
   ]
  },
  {
   "cell_type": "code",
   "execution_count": 90,
   "id": "92cbc359",
   "metadata": {},
   "outputs": [],
   "source": [
    "# Explore the holidays data\n",
    "df_holidays['date'] = pd.to_datetime(df_holidays['date'])"
   ]
  },
  {
   "cell_type": "code",
   "execution_count": 91,
   "id": "d8719bd4",
   "metadata": {},
   "outputs": [],
   "source": [
    "train_holidays = pd.merge(df_train, df_holidays , on = 'date' , how = 'left')"
   ]
  },
  {
   "cell_type": "code",
   "execution_count": 92,
   "id": "2acbb7e6",
   "metadata": {},
   "outputs": [
    {
     "data": {
      "text/plain": [
       "502524"
      ]
     },
     "execution_count": 92,
     "metadata": {},
     "output_type": "execute_result"
    }
   ],
   "source": [
    "train_holidays['type'].notna().sum()"
   ]
  },
  {
   "cell_type": "code",
   "execution_count": 93,
   "id": "80847276",
   "metadata": {},
   "outputs": [
    {
     "data": {
      "text/html": [
       "<div>\n",
       "<style scoped>\n",
       "    .dataframe tbody tr th:only-of-type {\n",
       "        vertical-align: middle;\n",
       "    }\n",
       "\n",
       "    .dataframe tbody tr th {\n",
       "        vertical-align: top;\n",
       "    }\n",
       "\n",
       "    .dataframe thead th {\n",
       "        text-align: right;\n",
       "    }\n",
       "</style>\n",
       "<table border=\"1\" class=\"dataframe\">\n",
       "  <thead>\n",
       "    <tr style=\"text-align: right;\">\n",
       "      <th></th>\n",
       "      <th>id</th>\n",
       "      <th>date</th>\n",
       "      <th>store_nbr</th>\n",
       "      <th>family</th>\n",
       "      <th>onpromotion</th>\n",
       "    </tr>\n",
       "  </thead>\n",
       "  <tbody>\n",
       "    <tr>\n",
       "      <th>0</th>\n",
       "      <td>3000888</td>\n",
       "      <td>2017-08-16</td>\n",
       "      <td>1</td>\n",
       "      <td>AUTOMOTIVE</td>\n",
       "      <td>0</td>\n",
       "    </tr>\n",
       "    <tr>\n",
       "      <th>1</th>\n",
       "      <td>3000889</td>\n",
       "      <td>2017-08-16</td>\n",
       "      <td>1</td>\n",
       "      <td>BABY CARE</td>\n",
       "      <td>0</td>\n",
       "    </tr>\n",
       "    <tr>\n",
       "      <th>2</th>\n",
       "      <td>3000890</td>\n",
       "      <td>2017-08-16</td>\n",
       "      <td>1</td>\n",
       "      <td>BEAUTY</td>\n",
       "      <td>2</td>\n",
       "    </tr>\n",
       "    <tr>\n",
       "      <th>3</th>\n",
       "      <td>3000891</td>\n",
       "      <td>2017-08-16</td>\n",
       "      <td>1</td>\n",
       "      <td>BEVERAGES</td>\n",
       "      <td>20</td>\n",
       "    </tr>\n",
       "    <tr>\n",
       "      <th>4</th>\n",
       "      <td>3000892</td>\n",
       "      <td>2017-08-16</td>\n",
       "      <td>1</td>\n",
       "      <td>BOOKS</td>\n",
       "      <td>0</td>\n",
       "    </tr>\n",
       "    <tr>\n",
       "      <th>...</th>\n",
       "      <td>...</td>\n",
       "      <td>...</td>\n",
       "      <td>...</td>\n",
       "      <td>...</td>\n",
       "      <td>...</td>\n",
       "    </tr>\n",
       "    <tr>\n",
       "      <th>28507</th>\n",
       "      <td>3029395</td>\n",
       "      <td>2017-08-31</td>\n",
       "      <td>9</td>\n",
       "      <td>POULTRY</td>\n",
       "      <td>1</td>\n",
       "    </tr>\n",
       "    <tr>\n",
       "      <th>28508</th>\n",
       "      <td>3029396</td>\n",
       "      <td>2017-08-31</td>\n",
       "      <td>9</td>\n",
       "      <td>PREPARED FOODS</td>\n",
       "      <td>0</td>\n",
       "    </tr>\n",
       "    <tr>\n",
       "      <th>28509</th>\n",
       "      <td>3029397</td>\n",
       "      <td>2017-08-31</td>\n",
       "      <td>9</td>\n",
       "      <td>PRODUCE</td>\n",
       "      <td>1</td>\n",
       "    </tr>\n",
       "    <tr>\n",
       "      <th>28510</th>\n",
       "      <td>3029398</td>\n",
       "      <td>2017-08-31</td>\n",
       "      <td>9</td>\n",
       "      <td>SCHOOL AND OFFICE SUPPLIES</td>\n",
       "      <td>9</td>\n",
       "    </tr>\n",
       "    <tr>\n",
       "      <th>28511</th>\n",
       "      <td>3029399</td>\n",
       "      <td>2017-08-31</td>\n",
       "      <td>9</td>\n",
       "      <td>SEAFOOD</td>\n",
       "      <td>0</td>\n",
       "    </tr>\n",
       "  </tbody>\n",
       "</table>\n",
       "<p>28512 rows × 5 columns</p>\n",
       "</div>"
      ],
      "text/plain": [
       "            id        date  store_nbr                      family  onpromotion\n",
       "0      3000888  2017-08-16          1                  AUTOMOTIVE            0\n",
       "1      3000889  2017-08-16          1                   BABY CARE            0\n",
       "2      3000890  2017-08-16          1                      BEAUTY            2\n",
       "3      3000891  2017-08-16          1                   BEVERAGES           20\n",
       "4      3000892  2017-08-16          1                       BOOKS            0\n",
       "...        ...         ...        ...                         ...          ...\n",
       "28507  3029395  2017-08-31          9                     POULTRY            1\n",
       "28508  3029396  2017-08-31          9              PREPARED FOODS            0\n",
       "28509  3029397  2017-08-31          9                     PRODUCE            1\n",
       "28510  3029398  2017-08-31          9  SCHOOL AND OFFICE SUPPLIES            9\n",
       "28511  3029399  2017-08-31          9                     SEAFOOD            0\n",
       "\n",
       "[28512 rows x 5 columns]"
      ]
     },
     "execution_count": 93,
     "metadata": {},
     "output_type": "execute_result"
    }
   ],
   "source": [
    "df_test"
   ]
  },
  {
   "cell_type": "code",
   "execution_count": 94,
   "id": "8e03379a",
   "metadata": {},
   "outputs": [
    {
     "data": {
      "text/html": [
       "<div>\n",
       "<style scoped>\n",
       "    .dataframe tbody tr th:only-of-type {\n",
       "        vertical-align: middle;\n",
       "    }\n",
       "\n",
       "    .dataframe tbody tr th {\n",
       "        vertical-align: top;\n",
       "    }\n",
       "\n",
       "    .dataframe thead th {\n",
       "        text-align: right;\n",
       "    }\n",
       "</style>\n",
       "<table border=\"1\" class=\"dataframe\">\n",
       "  <thead>\n",
       "    <tr style=\"text-align: right;\">\n",
       "      <th></th>\n",
       "      <th>id</th>\n",
       "      <th>sales</th>\n",
       "    </tr>\n",
       "  </thead>\n",
       "  <tbody>\n",
       "    <tr>\n",
       "      <th>0</th>\n",
       "      <td>3000888</td>\n",
       "      <td>0.0</td>\n",
       "    </tr>\n",
       "    <tr>\n",
       "      <th>1</th>\n",
       "      <td>3000889</td>\n",
       "      <td>0.0</td>\n",
       "    </tr>\n",
       "    <tr>\n",
       "      <th>2</th>\n",
       "      <td>3000890</td>\n",
       "      <td>0.0</td>\n",
       "    </tr>\n",
       "    <tr>\n",
       "      <th>3</th>\n",
       "      <td>3000891</td>\n",
       "      <td>0.0</td>\n",
       "    </tr>\n",
       "    <tr>\n",
       "      <th>4</th>\n",
       "      <td>3000892</td>\n",
       "      <td>0.0</td>\n",
       "    </tr>\n",
       "    <tr>\n",
       "      <th>...</th>\n",
       "      <td>...</td>\n",
       "      <td>...</td>\n",
       "    </tr>\n",
       "    <tr>\n",
       "      <th>28507</th>\n",
       "      <td>3029395</td>\n",
       "      <td>0.0</td>\n",
       "    </tr>\n",
       "    <tr>\n",
       "      <th>28508</th>\n",
       "      <td>3029396</td>\n",
       "      <td>0.0</td>\n",
       "    </tr>\n",
       "    <tr>\n",
       "      <th>28509</th>\n",
       "      <td>3029397</td>\n",
       "      <td>0.0</td>\n",
       "    </tr>\n",
       "    <tr>\n",
       "      <th>28510</th>\n",
       "      <td>3029398</td>\n",
       "      <td>0.0</td>\n",
       "    </tr>\n",
       "    <tr>\n",
       "      <th>28511</th>\n",
       "      <td>3029399</td>\n",
       "      <td>0.0</td>\n",
       "    </tr>\n",
       "  </tbody>\n",
       "</table>\n",
       "<p>28512 rows × 2 columns</p>\n",
       "</div>"
      ],
      "text/plain": [
       "            id  sales\n",
       "0      3000888    0.0\n",
       "1      3000889    0.0\n",
       "2      3000890    0.0\n",
       "3      3000891    0.0\n",
       "4      3000892    0.0\n",
       "...        ...    ...\n",
       "28507  3029395    0.0\n",
       "28508  3029396    0.0\n",
       "28509  3029397    0.0\n",
       "28510  3029398    0.0\n",
       "28511  3029399    0.0\n",
       "\n",
       "[28512 rows x 2 columns]"
      ]
     },
     "execution_count": 94,
     "metadata": {},
     "output_type": "execute_result"
    }
   ],
   "source": [
    "df_sample_sub"
   ]
  },
  {
   "cell_type": "code",
   "execution_count": null,
   "id": "0f788788",
   "metadata": {},
   "outputs": [],
   "source": []
  },
  {
   "cell_type": "code",
   "execution_count": 95,
   "id": "8422039f",
   "metadata": {},
   "outputs": [
    {
     "data": {
      "text/plain": [
       "date            2017-08-15\n",
       "store_nbr               54\n",
       "transactions          8359\n",
       "dtype: object"
      ]
     },
     "execution_count": 95,
     "metadata": {},
     "output_type": "execute_result"
    }
   ],
   "source": [
    "df_transactions.max()"
   ]
  },
  {
   "cell_type": "code",
   "execution_count": 96,
   "id": "329bb26c",
   "metadata": {},
   "outputs": [
    {
     "data": {
      "text/html": [
       "<div>\n",
       "<style scoped>\n",
       "    .dataframe tbody tr th:only-of-type {\n",
       "        vertical-align: middle;\n",
       "    }\n",
       "\n",
       "    .dataframe tbody tr th {\n",
       "        vertical-align: top;\n",
       "    }\n",
       "\n",
       "    .dataframe thead th {\n",
       "        text-align: right;\n",
       "    }\n",
       "</style>\n",
       "<table border=\"1\" class=\"dataframe\">\n",
       "  <thead>\n",
       "    <tr style=\"text-align: right;\">\n",
       "      <th></th>\n",
       "      <th>date</th>\n",
       "      <th>store_nbr</th>\n",
       "      <th>transactions</th>\n",
       "    </tr>\n",
       "  </thead>\n",
       "  <tbody>\n",
       "    <tr>\n",
       "      <th>0</th>\n",
       "      <td>2013-01-01</td>\n",
       "      <td>25</td>\n",
       "      <td>770</td>\n",
       "    </tr>\n",
       "    <tr>\n",
       "      <th>1</th>\n",
       "      <td>2013-01-02</td>\n",
       "      <td>1</td>\n",
       "      <td>2111</td>\n",
       "    </tr>\n",
       "    <tr>\n",
       "      <th>2</th>\n",
       "      <td>2013-01-02</td>\n",
       "      <td>2</td>\n",
       "      <td>2358</td>\n",
       "    </tr>\n",
       "    <tr>\n",
       "      <th>3</th>\n",
       "      <td>2013-01-02</td>\n",
       "      <td>3</td>\n",
       "      <td>3487</td>\n",
       "    </tr>\n",
       "    <tr>\n",
       "      <th>4</th>\n",
       "      <td>2013-01-02</td>\n",
       "      <td>4</td>\n",
       "      <td>1922</td>\n",
       "    </tr>\n",
       "    <tr>\n",
       "      <th>...</th>\n",
       "      <td>...</td>\n",
       "      <td>...</td>\n",
       "      <td>...</td>\n",
       "    </tr>\n",
       "    <tr>\n",
       "      <th>83483</th>\n",
       "      <td>2017-08-15</td>\n",
       "      <td>50</td>\n",
       "      <td>2804</td>\n",
       "    </tr>\n",
       "    <tr>\n",
       "      <th>83484</th>\n",
       "      <td>2017-08-15</td>\n",
       "      <td>51</td>\n",
       "      <td>1573</td>\n",
       "    </tr>\n",
       "    <tr>\n",
       "      <th>83485</th>\n",
       "      <td>2017-08-15</td>\n",
       "      <td>52</td>\n",
       "      <td>2255</td>\n",
       "    </tr>\n",
       "    <tr>\n",
       "      <th>83486</th>\n",
       "      <td>2017-08-15</td>\n",
       "      <td>53</td>\n",
       "      <td>932</td>\n",
       "    </tr>\n",
       "    <tr>\n",
       "      <th>83487</th>\n",
       "      <td>2017-08-15</td>\n",
       "      <td>54</td>\n",
       "      <td>802</td>\n",
       "    </tr>\n",
       "  </tbody>\n",
       "</table>\n",
       "<p>83488 rows × 3 columns</p>\n",
       "</div>"
      ],
      "text/plain": [
       "             date  store_nbr  transactions\n",
       "0      2013-01-01         25           770\n",
       "1      2013-01-02          1          2111\n",
       "2      2013-01-02          2          2358\n",
       "3      2013-01-02          3          3487\n",
       "4      2013-01-02          4          1922\n",
       "...           ...        ...           ...\n",
       "83483  2017-08-15         50          2804\n",
       "83484  2017-08-15         51          1573\n",
       "83485  2017-08-15         52          2255\n",
       "83486  2017-08-15         53           932\n",
       "83487  2017-08-15         54           802\n",
       "\n",
       "[83488 rows x 3 columns]"
      ]
     },
     "execution_count": 96,
     "metadata": {},
     "output_type": "execute_result"
    }
   ],
   "source": [
    "df_transactions"
   ]
  },
  {
   "cell_type": "code",
   "execution_count": 97,
   "id": "253a33f2",
   "metadata": {},
   "outputs": [
    {
     "data": {
      "text/html": [
       "<div>\n",
       "<style scoped>\n",
       "    .dataframe tbody tr th:only-of-type {\n",
       "        vertical-align: middle;\n",
       "    }\n",
       "\n",
       "    .dataframe tbody tr th {\n",
       "        vertical-align: top;\n",
       "    }\n",
       "\n",
       "    .dataframe thead th {\n",
       "        text-align: right;\n",
       "    }\n",
       "</style>\n",
       "<table border=\"1\" class=\"dataframe\">\n",
       "  <thead>\n",
       "    <tr style=\"text-align: right;\">\n",
       "      <th></th>\n",
       "      <th>Unnamed: 0</th>\n",
       "      <th>id</th>\n",
       "      <th>date</th>\n",
       "      <th>store_nbr</th>\n",
       "      <th>family</th>\n",
       "      <th>sales</th>\n",
       "      <th>onpromotion</th>\n",
       "      <th>holiday_type</th>\n",
       "      <th>dcoilwtico</th>\n",
       "      <th>city</th>\n",
       "      <th>state</th>\n",
       "      <th>store_type</th>\n",
       "      <th>cluster</th>\n",
       "      <th>transactions</th>\n",
       "      <th>year</th>\n",
       "      <th>month</th>\n",
       "      <th>dayofweek</th>\n",
       "    </tr>\n",
       "  </thead>\n",
       "  <tbody>\n",
       "    <tr>\n",
       "      <th>0</th>\n",
       "      <td>0</td>\n",
       "      <td>0</td>\n",
       "      <td>2013-01-01</td>\n",
       "      <td>1</td>\n",
       "      <td>AUTOMOTIVE</td>\n",
       "      <td>0.0</td>\n",
       "      <td>0</td>\n",
       "      <td>Holiday</td>\n",
       "      <td>NaN</td>\n",
       "      <td>Quito</td>\n",
       "      <td>Pichincha</td>\n",
       "      <td>D</td>\n",
       "      <td>13</td>\n",
       "      <td>NaN</td>\n",
       "      <td>2013</td>\n",
       "      <td>1</td>\n",
       "      <td>1</td>\n",
       "    </tr>\n",
       "    <tr>\n",
       "      <th>1</th>\n",
       "      <td>1</td>\n",
       "      <td>1</td>\n",
       "      <td>2013-01-01</td>\n",
       "      <td>1</td>\n",
       "      <td>BABY CARE</td>\n",
       "      <td>0.0</td>\n",
       "      <td>0</td>\n",
       "      <td>Holiday</td>\n",
       "      <td>NaN</td>\n",
       "      <td>Quito</td>\n",
       "      <td>Pichincha</td>\n",
       "      <td>D</td>\n",
       "      <td>13</td>\n",
       "      <td>NaN</td>\n",
       "      <td>2013</td>\n",
       "      <td>1</td>\n",
       "      <td>1</td>\n",
       "    </tr>\n",
       "    <tr>\n",
       "      <th>2</th>\n",
       "      <td>2</td>\n",
       "      <td>2</td>\n",
       "      <td>2013-01-01</td>\n",
       "      <td>1</td>\n",
       "      <td>BEAUTY</td>\n",
       "      <td>0.0</td>\n",
       "      <td>0</td>\n",
       "      <td>Holiday</td>\n",
       "      <td>NaN</td>\n",
       "      <td>Quito</td>\n",
       "      <td>Pichincha</td>\n",
       "      <td>D</td>\n",
       "      <td>13</td>\n",
       "      <td>NaN</td>\n",
       "      <td>2013</td>\n",
       "      <td>1</td>\n",
       "      <td>1</td>\n",
       "    </tr>\n",
       "    <tr>\n",
       "      <th>3</th>\n",
       "      <td>3</td>\n",
       "      <td>3</td>\n",
       "      <td>2013-01-01</td>\n",
       "      <td>1</td>\n",
       "      <td>BEVERAGES</td>\n",
       "      <td>0.0</td>\n",
       "      <td>0</td>\n",
       "      <td>Holiday</td>\n",
       "      <td>NaN</td>\n",
       "      <td>Quito</td>\n",
       "      <td>Pichincha</td>\n",
       "      <td>D</td>\n",
       "      <td>13</td>\n",
       "      <td>NaN</td>\n",
       "      <td>2013</td>\n",
       "      <td>1</td>\n",
       "      <td>1</td>\n",
       "    </tr>\n",
       "    <tr>\n",
       "      <th>4</th>\n",
       "      <td>4</td>\n",
       "      <td>4</td>\n",
       "      <td>2013-01-01</td>\n",
       "      <td>1</td>\n",
       "      <td>BOOKS</td>\n",
       "      <td>0.0</td>\n",
       "      <td>0</td>\n",
       "      <td>Holiday</td>\n",
       "      <td>NaN</td>\n",
       "      <td>Quito</td>\n",
       "      <td>Pichincha</td>\n",
       "      <td>D</td>\n",
       "      <td>13</td>\n",
       "      <td>NaN</td>\n",
       "      <td>2013</td>\n",
       "      <td>1</td>\n",
       "      <td>1</td>\n",
       "    </tr>\n",
       "  </tbody>\n",
       "</table>\n",
       "</div>"
      ],
      "text/plain": [
       "   Unnamed: 0  id       date  store_nbr      family  sales  onpromotion  \\\n",
       "0           0   0 2013-01-01          1  AUTOMOTIVE    0.0            0   \n",
       "1           1   1 2013-01-01          1   BABY CARE    0.0            0   \n",
       "2           2   2 2013-01-01          1      BEAUTY    0.0            0   \n",
       "3           3   3 2013-01-01          1   BEVERAGES    0.0            0   \n",
       "4           4   4 2013-01-01          1       BOOKS    0.0            0   \n",
       "\n",
       "  holiday_type  dcoilwtico   city      state store_type  cluster  \\\n",
       "0      Holiday         NaN  Quito  Pichincha          D       13   \n",
       "1      Holiday         NaN  Quito  Pichincha          D       13   \n",
       "2      Holiday         NaN  Quito  Pichincha          D       13   \n",
       "3      Holiday         NaN  Quito  Pichincha          D       13   \n",
       "4      Holiday         NaN  Quito  Pichincha          D       13   \n",
       "\n",
       "   transactions  year  month  dayofweek  \n",
       "0           NaN  2013      1          1  \n",
       "1           NaN  2013      1          1  \n",
       "2           NaN  2013      1          1  \n",
       "3           NaN  2013      1          1  \n",
       "4           NaN  2013      1          1  "
      ]
     },
     "execution_count": 97,
     "metadata": {},
     "output_type": "execute_result"
    }
   ],
   "source": [
    "df_merged.head()"
   ]
  },
  {
   "cell_type": "code",
   "execution_count": 98,
   "id": "446fa9ea",
   "metadata": {},
   "outputs": [
    {
     "data": {
      "text/plain": [
       "<bound method Series.unique of 0                          AUTOMOTIVE\n",
       "1                           BABY CARE\n",
       "2                              BEAUTY\n",
       "3                           BEVERAGES\n",
       "4                               BOOKS\n",
       "                      ...            \n",
       "3000883                       POULTRY\n",
       "3000884                PREPARED FOODS\n",
       "3000885                       PRODUCE\n",
       "3000886    SCHOOL AND OFFICE SUPPLIES\n",
       "3000887                       SEAFOOD\n",
       "Name: family, Length: 3000888, dtype: object>"
      ]
     },
     "execution_count": 98,
     "metadata": {},
     "output_type": "execute_result"
    }
   ],
   "source": [
    "df_merged['family'].unique"
   ]
  },
  {
   "cell_type": "code",
   "execution_count": 99,
   "id": "15a81d7a",
   "metadata": {},
   "outputs": [
    {
     "data": {
      "text/plain": [
       "store_nbr\n",
       "1     55572\n",
       "46    55572\n",
       "36    55572\n",
       "37    55572\n",
       "38    55572\n",
       "      ...  \n",
       "29    55572\n",
       "3     55572\n",
       "30    55572\n",
       "31    55572\n",
       "9     55572\n",
       "Name: count, Length: 54, dtype: int64"
      ]
     },
     "execution_count": 99,
     "metadata": {},
     "output_type": "execute_result"
    }
   ],
   "source": [
    "df_merged['store_nbr'].value_counts()"
   ]
  },
  {
   "cell_type": "code",
   "execution_count": 100,
   "id": "0dd582c3",
   "metadata": {},
   "outputs": [
    {
     "name": "stdout",
     "output_type": "stream",
     "text": [
      "      store_nbr                      family  count\n",
      "0             1                  AUTOMOTIVE   1684\n",
      "1             1                   BABY CARE   1684\n",
      "2             1                      BEAUTY   1684\n",
      "3             1                   BEVERAGES   1684\n",
      "4             1                       BOOKS   1684\n",
      "...         ...                         ...    ...\n",
      "1777         54                     POULTRY   1684\n",
      "1778         54              PREPARED FOODS   1684\n",
      "1779         54                     PRODUCE   1684\n",
      "1780         54  SCHOOL AND OFFICE SUPPLIES   1684\n",
      "1781         54                     SEAFOOD   1684\n",
      "\n",
      "[1782 rows x 3 columns]\n"
     ]
    }
   ],
   "source": [
    "import pandas as pd\n",
    "\n",
    "# Group by store number and family, and count the occurrences\n",
    "store_family_counts = df_merged.groupby(['store_nbr', 'family']).size().reset_index(name='count')\n",
    "\n",
    "# Display the result\n",
    "print(store_family_counts)\n"
   ]
  },
  {
   "cell_type": "code",
   "execution_count": 101,
   "id": "bd4ab718",
   "metadata": {},
   "outputs": [
    {
     "name": "stderr",
     "output_type": "stream",
     "text": [
      "C:\\Users\\sadha\\AppData\\Local\\Temp\\ipykernel_25584\\928373653.py:16: FutureWarning: \n",
      "\n",
      "The `ci` parameter is deprecated. Use `errorbar=None` for the same effect.\n",
      "\n",
      "  sns.barplot(x='family', y='sales', hue='store_nbr', data=df_filtered, ci=None)\n"
     ]
    },
    {
     "data": {
      "image/png": "[encoded data removed]",
      "text/plain": [
       "<Figure size 1400x800 with 1 Axes>"
      ]
     },
     "metadata": {},
     "output_type": "display_data"
    }
   ],
   "source": [
    "import pandas as pd\n",
    "import matplotlib.pyplot as plt\n",
    "import seaborn as sns\n",
    "\n",
    "\n",
    "\n",
    "# If you have the actual dataframe, load it instead\n",
    "# df_merged = pd.read_csv(\"your_file.csv\")\n",
    "\n",
    "selected_families = ['GROCERY I', 'BEVERAGES']\n",
    "df_filtered = df_merged[df_merged['family'].isin(selected_families)]\n",
    "\n",
    "\n",
    "# Plotting\n",
    "plt.figure(figsize=(14, 8))\n",
    "sns.barplot(x='family', y='sales', hue='store_nbr', data=df_filtered, ci=None)\n",
    "plt.title('Sales Differences Across Families and Store Numbers')\n",
    "plt.xticks(rotation=90)\n",
    "plt.xlabel('Product Family')\n",
    "plt.ylabel('Sales')\n",
    "plt.show()\n"
   ]
  },
  {
   "cell_type": "code",
   "execution_count": 102,
   "id": "d9189cc8",
   "metadata": {},
   "outputs": [
    {
     "name": "stderr",
     "output_type": "stream",
     "text": [
      "C:\\Users\\sadha\\AppData\\Local\\Temp\\ipykernel_25584\\4015309846.py:16: FutureWarning: \n",
      "\n",
      "The `ci` parameter is deprecated. Use `errorbar=None` for the same effect.\n",
      "\n",
      "  sns.barplot(x='family', y='sales', hue='store_nbr', data=df_filtered, ci=None)\n"
     ]
    },
    {
     "data": {
      "image/png": "[encoded data removed]",
      "text/plain": [
       "<Figure size 1400x800 with 1 Axes>"
      ]
     },
     "metadata": {},
     "output_type": "display_data"
    }
   ],
   "source": [
    "import pandas as pd\n",
    "import matplotlib.pyplot as plt\n",
    "import seaborn as sns\n",
    "\n",
    "\n",
    "\n",
    "# If you have the actual dataframe, load it instead\n",
    "# df_merged = pd.read_csv(\"your_file.csv\")\n",
    "\n",
    "selected_families = [ 'HOME CARE', 'MEATS']\n",
    "df_filtered = df_merged[df_merged['family'].isin(selected_families)]\n",
    "\n",
    "\n",
    "# Plotting\n",
    "plt.figure(figsize=(14, 8))\n",
    "sns.barplot(x='family', y='sales', hue='store_nbr', data=df_filtered, ci=None)\n",
    "plt.title('Sales Differences Across Families and Store Numbers')\n",
    "plt.xticks(rotation=90)\n",
    "plt.xlabel('Product Family')\n",
    "plt.ylabel('Sales')\n",
    "plt.show()"
   ]
  },
  {
   "cell_type": "code",
   "execution_count": 103,
   "id": "3ada885c",
   "metadata": {},
   "outputs": [
    {
     "data": {
      "image/png": "[encoded data removed]",
      "text/plain": [
       "<Figure size 800x800 with 1 Axes>"
      ]
     },
     "metadata": {},
     "output_type": "display_data"
    }
   ],
   "source": [
    "import pandas as pd\n",
    "import matplotlib.pyplot as plt\n",
    "import scipy.stats as stats\n",
    "\n",
    "# Assuming df_merged is your original dataframe\n",
    "# Dropping NaN values in the 'sales' column for the Q-Q plot\n",
    "sales_data = df_merged['sales'].dropna()\n",
    "\n",
    "# Generate Q-Q plot\n",
    "plt.figure(figsize=(8, 8))\n",
    "stats.probplot(sales_data, dist=\"norm\", plot=plt)\n",
    "plt.title('Q-Q Plot of Sales')\n",
    "plt.xlabel('Theoretical Quantiles')\n",
    "plt.ylabel('Sample Quantiles')\n",
    "plt.show()\n"
   ]
  },
  {
   "cell_type": "code",
   "execution_count": null,
   "id": "2fedfacf",
   "metadata": {},
   "outputs": [],
   "source": [
    "\n"
   ]
  },
  {
   "cell_type": "markdown",
   "id": "94a99898",
   "metadata": {},
   "source": [
    "Check for stationarity of data "
   ]
  },
  {
   "cell_type": "code",
   "execution_count": 104,
   "id": "9775b099",
   "metadata": {},
   "outputs": [],
   "source": [
    "df = df_merged"
   ]
  },
  {
   "cell_type": "code",
   "execution_count": 107,
   "id": "b2cabaff",
   "metadata": {},
   "outputs": [],
   "source": [
    "import numpy as np\n",
    "import pandas as pd\n",
    "from sklearn.preprocessing import MinMaxScaler\n",
    "from tensorflow.keras.models import Sequential\n",
    "from tensorflow.keras.layers import LSTM, Dense\n",
    "\n",
    "# Assume df_merged is your dataframe and 'date' is your time series index\n",
    "df_merged['date'] = pd.to_datetime(df_merged['date'])\n",
    "\n",
    "# Filter data for the last six months\n",
    "end_date = df_merged['date'].max()\n",
    "start_date = end_date - pd.DateOffset(months=6)\n",
    "df_last_six_months = df_merged[df_merged['date'] >= start_date]\n",
    "\n",
    "\n",
    "\n",
    "df_last_six_months.set_index('date', inplace=True)\n",
    "\n",
    "# Select the 'sales' column for prediction\n",
    "sales_data = df_last_six_months[['sales']].dropna()\n",
    "\n",
    "# Normalize the data\n",
    "scaler = MinMaxScaler(feature_range=(0, 1))\n",
    "sales_scaled = scaler.fit_transform(sales_data)\n",
    "\n",
    "# Function to create sequences\n",
    "def create_sequences(data, seq_length):\n",
    "    X, y = [], []\n",
    "    for i in range(len(data) - seq_length):\n",
    "        X.append(data[i:i+seq_length])\n",
    "        y.append(data[i+seq_length])\n",
    "    return np.array(X), np.array(y)\n",
    "\n",
    "# Create sequences\n",
    "sequence_length = 60  # Look back 60 time steps\n",
    "X, y = create_sequences(sales_scaled, sequence_length)\n",
    "\n",
    "# Split into training and testing sets\n",
    "train_size = int(len(X) * 0.8)\n",
    "X_train, X_test = X[:train_size], X[train_size:]\n",
    "y_train, y_test = y[:train_size], y[train_size:]\n"
   ]
  },
  {
   "cell_type": "code",
   "execution_count": null,
   "id": "a9e4cb64",
   "metadata": {},
   "outputs": [
    {
     "name": "stderr",
     "output_type": "stream",
     "text": [
      "c:\\Users\\sadha\\anaconda3\\envs\\ml\\Lib\\site-packages\\keras\\src\\layers\\rnn\\rnn.py:204: UserWarning: Do not pass an `input_shape`/`input_dim` argument to a layer. When using Sequential models, prefer using an `Input(shape)` object as the first layer in the model instead.\n",
      "  super().__init__(**kwargs)\n"
     ]
    },
    {
     "data": {
      "text/html": [
       "<pre style=\"white-space:pre;overflow-x:auto;line-height:normal;font-family:Menlo,'DejaVu Sans Mono',consolas,'Courier New',monospace\"><span style=\"font-weight: bold\">Model: \"sequential\"</span>\n",
       "</pre>\n"
      ],
      "text/plain": [
       "\u001b[1mModel: \"sequential\"\u001b[0m\n"
      ]
     },
     "metadata": {},
     "output_type": "display_data"
    },
    {
     "data": {
      "text/html": [
       "<pre style=\"white-space:pre;overflow-x:auto;line-height:normal;font-family:Menlo,'DejaVu Sans Mono',consolas,'Courier New',monospace\">┏━━━━━━━━━━━━━━━━━━━━━━━━━━━━━━━━━┳━━━━━━━━━━━━━━━━━━━━━━━━┳━━━━━━━━━━━━━━━┓\n",
       "┃<span style=\"font-weight: bold\"> Layer (type)                    </span>┃<span style=\"font-weight: bold\"> Output Shape           </span>┃<span style=\"font-weight: bold\">       Param # </span>┃\n",
       "┡━━━━━━━━━━━━━━━━━━━━━━━━━━━━━━━━━╇━━━━━━━━━━━━━━━━━━━━━━━━╇━━━━━━━━━━━━━━━┩\n",
       "│ lstm (<span style=\"color: #0087ff; text-decoration-color: #0087ff\">LSTM</span>)                     │ (<span style=\"color: #00d7ff; text-decoration-color: #00d7ff\">None</span>, <span style=\"color: #00af00; text-decoration-color: #00af00\">60</span>, <span style=\"color: #00af00; text-decoration-color: #00af00\">50</span>)         │        <span style=\"color: #00af00; text-decoration-color: #00af00\">10,400</span> │\n",
       "├─────────────────────────────────┼────────────────────────┼───────────────┤\n",
       "│ dropout (<span style=\"color: #0087ff; text-decoration-color: #0087ff\">Dropout</span>)               │ (<span style=\"color: #00d7ff; text-decoration-color: #00d7ff\">None</span>, <span style=\"color: #00af00; text-decoration-color: #00af00\">60</span>, <span style=\"color: #00af00; text-decoration-color: #00af00\">50</span>)         │             <span style=\"color: #00af00; text-decoration-color: #00af00\">0</span> │\n",
       "├─────────────────────────────────┼────────────────────────┼───────────────┤\n",
       "│ lstm_1 (<span style=\"color: #0087ff; text-decoration-color: #0087ff\">LSTM</span>)                   │ (<span style=\"color: #00d7ff; text-decoration-color: #00d7ff\">None</span>, <span style=\"color: #00af00; text-decoration-color: #00af00\">50</span>)             │        <span style=\"color: #00af00; text-decoration-color: #00af00\">20,200</span> │\n",
       "├─────────────────────────────────┼────────────────────────┼───────────────┤\n",
       "│ dropout_1 (<span style=\"color: #0087ff; text-decoration-color: #0087ff\">Dropout</span>)             │ (<span style=\"color: #00d7ff; text-decoration-color: #00d7ff\">None</span>, <span style=\"color: #00af00; text-decoration-color: #00af00\">50</span>)             │             <span style=\"color: #00af00; text-decoration-color: #00af00\">0</span> │\n",
       "├─────────────────────────────────┼────────────────────────┼───────────────┤\n",
       "│ dense (<span style=\"color: #0087ff; text-decoration-color: #0087ff\">Dense</span>)                   │ (<span style=\"color: #00d7ff; text-decoration-color: #00d7ff\">None</span>, <span style=\"color: #00af00; text-decoration-color: #00af00\">25</span>)             │         <span style=\"color: #00af00; text-decoration-color: #00af00\">1,275</span> │\n",
       "├─────────────────────────────────┼────────────────────────┼───────────────┤\n",
       "│ dense_1 (<span style=\"color: #0087ff; text-decoration-color: #0087ff\">Dense</span>)                 │ (<span style=\"color: #00d7ff; text-decoration-color: #00d7ff\">None</span>, <span style=\"color: #00af00; text-decoration-color: #00af00\">1</span>)              │            <span style=\"color: #00af00; text-decoration-color: #00af00\">26</span> │\n",
       "└─────────────────────────────────┴────────────────────────┴───────────────┘\n",
       "</pre>\n"
      ],
      "text/plain": [
       "┏━━━━━━━━━━━━━━━━━━━━━━━━━━━━━━━━━┳━━━━━━━━━━━━━━━━━━━━━━━━┳━━━━━━━━━━━━━━━┓\n",
       "┃\u001b[1m \u001b[0m\u001b[1mLayer (type)                   \u001b[0m\u001b[1m \u001b[0m┃\u001b[1m \u001b[0m\u001b[1mOutput Shape          \u001b[0m\u001b[1m \u001b[0m┃\u001b[1m \u001b[0m\u001b[1m      Param #\u001b[0m\u001b[1m \u001b[0m┃\n",
       "┡━━━━━━━━━━━━━━━━━━━━━━━━━━━━━━━━━╇━━━━━━━━━━━━━━━━━━━━━━━━╇━━━━━━━━━━━━━━━┩\n",
       "│ lstm (\u001b[38;5;33mLSTM\u001b[0m)                     │ (\u001b[38;5;45mNone\u001b[0m, \u001b[38;5;34m60\u001b[0m, \u001b[38;5;34m50\u001b[0m)         │        \u001b[38;5;34m10,400\u001b[0m │\n",
       "├─────────────────────────────────┼────────────────────────┼───────────────┤\n",
       "│ dropout (\u001b[38;5;33mDropout\u001b[0m)               │ (\u001b[38;5;45mNone\u001b[0m, \u001b[38;5;34m60\u001b[0m, \u001b[38;5;34m50\u001b[0m)         │             \u001b[38;5;34m0\u001b[0m │\n",
       "├─────────────────────────────────┼────────────────────────┼───────────────┤\n",
       "│ lstm_1 (\u001b[38;5;33mLSTM\u001b[0m)                   │ (\u001b[38;5;45mNone\u001b[0m, \u001b[38;5;34m50\u001b[0m)             │        \u001b[38;5;34m20,200\u001b[0m │\n",
       "├─────────────────────────────────┼────────────────────────┼───────────────┤\n",
       "│ dropout_1 (\u001b[38;5;33mDropout\u001b[0m)             │ (\u001b[38;5;45mNone\u001b[0m, \u001b[38;5;34m50\u001b[0m)             │             \u001b[38;5;34m0\u001b[0m │\n",
       "├─────────────────────────────────┼────────────────────────┼───────────────┤\n",
       "│ dense (\u001b[38;5;33mDense\u001b[0m)                   │ (\u001b[38;5;45mNone\u001b[0m, \u001b[38;5;34m25\u001b[0m)             │         \u001b[38;5;34m1,275\u001b[0m │\n",
       "├─────────────────────────────────┼────────────────────────┼───────────────┤\n",
       "│ dense_1 (\u001b[38;5;33mDense\u001b[0m)                 │ (\u001b[38;5;45mNone\u001b[0m, \u001b[38;5;34m1\u001b[0m)              │            \u001b[38;5;34m26\u001b[0m │\n",
       "└─────────────────────────────────┴────────────────────────┴───────────────┘\n"
      ]
     },
     "metadata": {},
     "output_type": "display_data"
    },
    {
     "data": {
      "text/html": [
       "<pre style=\"white-space:pre;overflow-x:auto;line-height:normal;font-family:Menlo,'DejaVu Sans Mono',consolas,'Courier New',monospace\"><span style=\"font-weight: bold\"> Total params: </span><span style=\"color: #00af00; text-decoration-color: #00af00\">31,901</span> (124.61 KB)\n",
       "</pre>\n"
      ],
      "text/plain": [
       "\u001b[1m Total params: \u001b[0m\u001b[38;5;34m31,901\u001b[0m (124.61 KB)\n"
      ]
     },
     "metadata": {},
     "output_type": "display_data"
    },
    {
     "data": {
      "text/html": [
       "<pre style=\"white-space:pre;overflow-x:auto;line-height:normal;font-family:Menlo,'DejaVu Sans Mono',consolas,'Courier New',monospace\"><span style=\"font-weight: bold\"> Trainable params: </span><span style=\"color: #00af00; text-decoration-color: #00af00\">31,901</span> (124.61 KB)\n",
       "</pre>\n"
      ],
      "text/plain": [
       "\u001b[1m Trainable params: \u001b[0m\u001b[38;5;34m31,901\u001b[0m (124.61 KB)\n"
      ]
     },
     "metadata": {},
     "output_type": "display_data"
    },
    {
     "data": {
      "text/html": [
       "<pre style=\"white-space:pre;overflow-x:auto;line-height:normal;font-family:Menlo,'DejaVu Sans Mono',consolas,'Courier New',monospace\"><span style=\"font-weight: bold\"> Non-trainable params: </span><span style=\"color: #00af00; text-decoration-color: #00af00\">0</span> (0.00 B)\n",
       "</pre>\n"
      ],
      "text/plain": [
       "\u001b[1m Non-trainable params: \u001b[0m\u001b[38;5;34m0\u001b[0m (0.00 B)\n"
      ]
     },
     "metadata": {},
     "output_type": "display_data"
    }
   ],
   "source": [
    "from tensorflow.keras.models import Sequential\n",
    "from tensorflow.keras.layers import LSTM, Dense, Dropout\n",
    "\n",
    "# Building the LSTM model\n",
    "model = Sequential()\n",
    "\n",
    "model.add(LSTM(units=50, return_sequences=True, input_shape=(X_train.shape[1], 1)))\n",
    "model.add(Dropout(0.2))  # Adding dropout to prevent overfitting\n",
    "\n",
    "model.add(LSTM(units=50, return_sequences=False))\n",
    "model.add(Dropout(0.2))\n",
    "\n",
    "model.add(Dense(units=25))\n",
    "model.add(Dense(units=1))\n",
    "\n",
    "# Compile the model\n",
    "model.compile(optimizer='adam', loss='mean_squared_error')\n",
    "\n",
    "# Model summary\n",
    "model.summary()\n"
   ]
  },
  {
   "cell_type": "code",
   "execution_count": 108,
   "id": "7092da11",
   "metadata": {},
   "outputs": [
    {
     "name": "stdout",
     "output_type": "stream",
     "text": [
      "Epoch 1/10\n",
      "\u001b[1m4054/4054\u001b[0m \u001b[32m━━━━━━━━━━━━━━━━━━━━\u001b[0m\u001b[37m\u001b[0m \u001b[1m108s\u001b[0m 27ms/step - loss: 8.5544e-04 - val_loss: 4.4498e-04\n",
      "Epoch 2/10\n",
      "\u001b[1m4054/4054\u001b[0m \u001b[32m━━━━━━━━━━━━━━━━━━━━\u001b[0m\u001b[37m\u001b[0m \u001b[1m108s\u001b[0m 27ms/step - loss: 2.9780e-04 - val_loss: 1.7957e-04\n",
      "Epoch 3/10\n",
      "\u001b[1m4054/4054\u001b[0m \u001b[32m━━━━━━━━━━━━━━━━━━━━\u001b[0m\u001b[37m\u001b[0m \u001b[1m108s\u001b[0m 27ms/step - loss: 2.4525e-04 - val_loss: 1.6564e-04\n",
      "Epoch 4/10\n",
      "\u001b[1m4054/4054\u001b[0m \u001b[32m━━━━━━━━━━━━━━━━━━━━\u001b[0m\u001b[37m\u001b[0m \u001b[1m106s\u001b[0m 26ms/step - loss: 2.1488e-04 - val_loss: 1.2765e-04\n",
      "Epoch 5/10\n",
      "\u001b[1m4054/4054\u001b[0m \u001b[32m━━━━━━━━━━━━━━━━━━━━\u001b[0m\u001b[37m\u001b[0m \u001b[1m109s\u001b[0m 27ms/step - loss: 1.9351e-04 - val_loss: 1.3991e-04\n",
      "Epoch 6/10\n",
      "\u001b[1m4054/4054\u001b[0m \u001b[32m━━━━━━━━━━━━━━━━━━━━\u001b[0m\u001b[37m\u001b[0m \u001b[1m104s\u001b[0m 26ms/step - loss: 1.8899e-04 - val_loss: 1.6334e-04\n",
      "Epoch 7/10\n",
      "\u001b[1m4054/4054\u001b[0m \u001b[32m━━━━━━━━━━━━━━━━━━━━\u001b[0m\u001b[37m\u001b[0m \u001b[1m104s\u001b[0m 26ms/step - loss: 1.9157e-04 - val_loss: 1.0886e-04\n",
      "Epoch 8/10\n",
      "\u001b[1m4054/4054\u001b[0m \u001b[32m━━━━━━━━━━━━━━━━━━━━\u001b[0m\u001b[37m\u001b[0m \u001b[1m106s\u001b[0m 26ms/step - loss: 1.6911e-04 - val_loss: 1.1787e-04\n",
      "Epoch 9/10\n",
      "\u001b[1m4054/4054\u001b[0m \u001b[32m━━━━━━━━━━━━━━━━━━━━\u001b[0m\u001b[37m\u001b[0m \u001b[1m109s\u001b[0m 27ms/step - loss: 1.6948e-04 - val_loss: 1.1497e-04\n",
      "Epoch 10/10\n",
      "\u001b[1m4054/4054\u001b[0m \u001b[32m━━━━━━━━━━━━━━━━━━━━\u001b[0m\u001b[37m\u001b[0m \u001b[1m107s\u001b[0m 26ms/step - loss: 1.6452e-04 - val_loss: 1.1594e-04\n"
     ]
    },
    {
     "data": {
      "text/plain": [
       "<keras.src.callbacks.history.History at 0x13199b0a0c0>"
      ]
     },
     "execution_count": 108,
     "metadata": {},
     "output_type": "execute_result"
    }
   ],
   "source": [
    "# Train the model\n",
    "model.fit(X_train, y_train, batch_size=64, epochs=10, validation_data=(X_test, y_test))\n"
   ]
  },
  {
   "cell_type": "code",
   "execution_count": 109,
   "id": "da653028",
   "metadata": {},
   "outputs": [
    {
     "name": "stdout",
     "output_type": "stream",
     "text": [
      "\u001b[1m2027/2027\u001b[0m \u001b[32m━━━━━━━━━━━━━━━━━━━━\u001b[0m\u001b[37m\u001b[0m \u001b[1m13s\u001b[0m 6ms/step\n",
      "Root Mean Squared Error: 37.571927435751256\n"
     ]
    },
    {
     "data": {
      "image/png": "[encoded data removed]",
      "text/plain": [
       "<Figure size 1400x700 with 1 Axes>"
      ]
     },
     "metadata": {},
     "output_type": "display_data"
    }
   ],
   "source": [
    "# Make predictions\n",
    "predictions = model.predict(X_test)\n",
    "predictions = scaler.inverse_transform(predictions)  # Inverse transform to get actual sales values\n",
    "\n",
    "# Compare with actual sales\n",
    "actual_sales = scaler.inverse_transform(y_test.reshape(-1, 1))\n",
    "\n",
    "# Calculate RMSE (Root Mean Squared Error)\n",
    "rmse = np.sqrt(np.mean(predictions - actual_sales)**2)\n",
    "print(f'Root Mean Squared Error: {rmse}')\n",
    "\n",
    "# Plotting the results\n",
    "import matplotlib.pyplot as plt\n",
    "\n",
    "plt.figure(figsize=(14, 7))\n",
    "plt.plot(actual_sales, label='Actual Sales')\n",
    "plt.plot(predictions, label='Predicted Sales')\n",
    "plt.title('Actual vs Predicted Sales')\n",
    "plt.xlabel('Time')\n",
    "plt.ylabel('Sales')\n",
    "plt.legend()\n",
    "plt.show()\n"
   ]
  },
  {
   "cell_type": "code",
   "execution_count": null,
   "id": "d6b1566f",
   "metadata": {},
   "outputs": [],
   "source": [
    "from statsmodels.tsa.stattools import adfuller\n",
    "\n",
    "# # Assuming df has 'date' and 'sales' columns and 'date' is in datetime format\n",
    "# df['Year'] = df['date'].dt.year\n",
    "\n",
    "# # Group by year and perform ADF test on each group\n",
    "# for year, group in df.groupby('Year'):\n",
    "#     group_sales = group['sales'].dropna()\n",
    "#     result = adfuller(group_sales)\n",
    "#     print(f'Year {year}: ADF Statistic: {result[0]}, p-value: {result[1]}')\n",
    "\n"
   ]
  },
  {
   "cell_type": "code",
   "execution_count": null,
   "id": "c6b7a103",
   "metadata": {},
   "outputs": [],
   "source": [
    "from statsmodels.tsa.arima.model import ARIMA"
   ]
  },
  {
   "cell_type": "code",
   "execution_count": null,
   "id": "ce0437aa",
   "metadata": {},
   "outputs": [],
   "source": [
    "df['sales'] = df['sales'].astype('float32')  # Use float32 instead of float64"
   ]
  },
  {
   "cell_type": "code",
   "execution_count": null,
   "id": "fd0213c9",
   "metadata": {},
   "outputs": [],
   "source": [
    "\n"
   ]
  },
  {
   "cell_type": "code",
   "execution_count": null,
   "id": "9f7f4d47",
   "metadata": {},
   "outputs": [],
   "source": [
    "df['Sales']= df['sales']"
   ]
  },
  {
   "cell_type": "code",
   "execution_count": null,
   "id": "ff9462b8",
   "metadata": {},
   "outputs": [],
   "source": [
    "df['date'] = pd.to_datetime(df['date'])"
   ]
  },
  {
   "cell_type": "code",
   "execution_count": null,
   "id": "9f513be0",
   "metadata": {},
   "outputs": [],
   "source": []
  },
  {
   "cell_type": "code",
   "execution_count": null,
   "id": "9d3c8284",
   "metadata": {},
   "outputs": [],
   "source": [
    "# Filter data for the last two years\n",
    "last_date = df['date'].max()\n",
    "two_years_ago = last_date - pd.DateOffset(years=1)\n",
    "df_last_two_years = df[df['date'] >= two_years_ago]\n",
    "\n",
    "\n"
   ]
  },
  {
   "cell_type": "code",
   "execution_count": null,
   "id": "4bae1d70",
   "metadata": {},
   "outputs": [
    {
     "data": {
      "text/html": [
       "<div>\n",
       "<style scoped>\n",
       "    .dataframe tbody tr th:only-of-type {\n",
       "        vertical-align: middle;\n",
       "    }\n",
       "\n",
       "    .dataframe tbody tr th {\n",
       "        vertical-align: top;\n",
       "    }\n",
       "\n",
       "    .dataframe thead th {\n",
       "        text-align: right;\n",
       "    }\n",
       "</style>\n",
       "<table border=\"1\" class=\"dataframe\">\n",
       "  <thead>\n",
       "    <tr style=\"text-align: right;\">\n",
       "      <th></th>\n",
       "      <th>Unnamed: 0</th>\n",
       "      <th>id</th>\n",
       "      <th>date</th>\n",
       "      <th>store_nbr</th>\n",
       "      <th>family</th>\n",
       "      <th>sales</th>\n",
       "      <th>onpromotion</th>\n",
       "      <th>holiday_type</th>\n",
       "      <th>dcoilwtico</th>\n",
       "      <th>city</th>\n",
       "      <th>state</th>\n",
       "      <th>store_type</th>\n",
       "      <th>cluster</th>\n",
       "      <th>transactions</th>\n",
       "      <th>year</th>\n",
       "      <th>month</th>\n",
       "      <th>dayofweek</th>\n",
       "      <th>Sales</th>\n",
       "    </tr>\n",
       "  </thead>\n",
       "  <tbody>\n",
       "    <tr>\n",
       "      <th>0</th>\n",
       "      <td>0</td>\n",
       "      <td>0</td>\n",
       "      <td>2013-01-01</td>\n",
       "      <td>1</td>\n",
       "      <td>AUTOMOTIVE</td>\n",
       "      <td>0.0</td>\n",
       "      <td>0</td>\n",
       "      <td>Holiday</td>\n",
       "      <td>NaN</td>\n",
       "      <td>Quito</td>\n",
       "      <td>Pichincha</td>\n",
       "      <td>D</td>\n",
       "      <td>13</td>\n",
       "      <td>NaN</td>\n",
       "      <td>2013</td>\n",
       "      <td>1</td>\n",
       "      <td>1</td>\n",
       "      <td>0.0</td>\n",
       "    </tr>\n",
       "    <tr>\n",
       "      <th>1</th>\n",
       "      <td>1</td>\n",
       "      <td>1</td>\n",
       "      <td>2013-01-01</td>\n",
       "      <td>1</td>\n",
       "      <td>BABY CARE</td>\n",
       "      <td>0.0</td>\n",
       "      <td>0</td>\n",
       "      <td>Holiday</td>\n",
       "      <td>NaN</td>\n",
       "      <td>Quito</td>\n",
       "      <td>Pichincha</td>\n",
       "      <td>D</td>\n",
       "      <td>13</td>\n",
       "      <td>NaN</td>\n",
       "      <td>2013</td>\n",
       "      <td>1</td>\n",
       "      <td>1</td>\n",
       "      <td>0.0</td>\n",
       "    </tr>\n",
       "    <tr>\n",
       "      <th>2</th>\n",
       "      <td>2</td>\n",
       "      <td>2</td>\n",
       "      <td>2013-01-01</td>\n",
       "      <td>1</td>\n",
       "      <td>BEAUTY</td>\n",
       "      <td>0.0</td>\n",
       "      <td>0</td>\n",
       "      <td>Holiday</td>\n",
       "      <td>NaN</td>\n",
       "      <td>Quito</td>\n",
       "      <td>Pichincha</td>\n",
       "      <td>D</td>\n",
       "      <td>13</td>\n",
       "      <td>NaN</td>\n",
       "      <td>2013</td>\n",
       "      <td>1</td>\n",
       "      <td>1</td>\n",
       "      <td>0.0</td>\n",
       "    </tr>\n",
       "    <tr>\n",
       "      <th>3</th>\n",
       "      <td>3</td>\n",
       "      <td>3</td>\n",
       "      <td>2013-01-01</td>\n",
       "      <td>1</td>\n",
       "      <td>BEVERAGES</td>\n",
       "      <td>0.0</td>\n",
       "      <td>0</td>\n",
       "      <td>Holiday</td>\n",
       "      <td>NaN</td>\n",
       "      <td>Quito</td>\n",
       "      <td>Pichincha</td>\n",
       "      <td>D</td>\n",
       "      <td>13</td>\n",
       "      <td>NaN</td>\n",
       "      <td>2013</td>\n",
       "      <td>1</td>\n",
       "      <td>1</td>\n",
       "      <td>0.0</td>\n",
       "    </tr>\n",
       "    <tr>\n",
       "      <th>4</th>\n",
       "      <td>4</td>\n",
       "      <td>4</td>\n",
       "      <td>2013-01-01</td>\n",
       "      <td>1</td>\n",
       "      <td>BOOKS</td>\n",
       "      <td>0.0</td>\n",
       "      <td>0</td>\n",
       "      <td>Holiday</td>\n",
       "      <td>NaN</td>\n",
       "      <td>Quito</td>\n",
       "      <td>Pichincha</td>\n",
       "      <td>D</td>\n",
       "      <td>13</td>\n",
       "      <td>NaN</td>\n",
       "      <td>2013</td>\n",
       "      <td>1</td>\n",
       "      <td>1</td>\n",
       "      <td>0.0</td>\n",
       "    </tr>\n",
       "  </tbody>\n",
       "</table>\n",
       "</div>"
      ],
      "text/plain": [
       "   Unnamed: 0  id       date  store_nbr      family  sales  onpromotion  \\\n",
       "0           0   0 2013-01-01          1  AUTOMOTIVE    0.0            0   \n",
       "1           1   1 2013-01-01          1   BABY CARE    0.0            0   \n",
       "2           2   2 2013-01-01          1      BEAUTY    0.0            0   \n",
       "3           3   3 2013-01-01          1   BEVERAGES    0.0            0   \n",
       "4           4   4 2013-01-01          1       BOOKS    0.0            0   \n",
       "\n",
       "  holiday_type  dcoilwtico   city      state store_type  cluster  \\\n",
       "0      Holiday         NaN  Quito  Pichincha          D       13   \n",
       "1      Holiday         NaN  Quito  Pichincha          D       13   \n",
       "2      Holiday         NaN  Quito  Pichincha          D       13   \n",
       "3      Holiday         NaN  Quito  Pichincha          D       13   \n",
       "4      Holiday         NaN  Quito  Pichincha          D       13   \n",
       "\n",
       "   transactions  year  month  dayofweek  Sales  \n",
       "0           NaN  2013      1          1    0.0  \n",
       "1           NaN  2013      1          1    0.0  \n",
       "2           NaN  2013      1          1    0.0  \n",
       "3           NaN  2013      1          1    0.0  \n",
       "4           NaN  2013      1          1    0.0  "
      ]
     },
     "execution_count": 130,
     "metadata": {},
     "output_type": "execute_result"
    }
   ],
   "source": [
    "df.head()\n"
   ]
  },
  {
   "cell_type": "code",
   "execution_count": null,
   "id": "cb29c80a",
   "metadata": {},
   "outputs": [
    {
     "data": {
      "text/html": [
       "<div>\n",
       "<style scoped>\n",
       "    .dataframe tbody tr th:only-of-type {\n",
       "        vertical-align: middle;\n",
       "    }\n",
       "\n",
       "    .dataframe tbody tr th {\n",
       "        vertical-align: top;\n",
       "    }\n",
       "\n",
       "    .dataframe thead th {\n",
       "        text-align: right;\n",
       "    }\n",
       "</style>\n",
       "<table border=\"1\" class=\"dataframe\">\n",
       "  <thead>\n",
       "    <tr style=\"text-align: right;\">\n",
       "      <th></th>\n",
       "      <th>Unnamed: 0</th>\n",
       "      <th>id</th>\n",
       "      <th>date</th>\n",
       "      <th>store_nbr</th>\n",
       "      <th>family</th>\n",
       "      <th>sales</th>\n",
       "      <th>onpromotion</th>\n",
       "      <th>holiday_type</th>\n",
       "      <th>dcoilwtico</th>\n",
       "      <th>city</th>\n",
       "      <th>state</th>\n",
       "      <th>store_type</th>\n",
       "      <th>cluster</th>\n",
       "      <th>transactions</th>\n",
       "      <th>year</th>\n",
       "      <th>month</th>\n",
       "      <th>dayofweek</th>\n",
       "      <th>Sales</th>\n",
       "    </tr>\n",
       "  </thead>\n",
       "  <tbody>\n",
       "    <tr>\n",
       "      <th>2350458</th>\n",
       "      <td>2350458</td>\n",
       "      <td>2350458</td>\n",
       "      <td>2016-08-15</td>\n",
       "      <td>1</td>\n",
       "      <td>AUTOMOTIVE</td>\n",
       "      <td>4.0</td>\n",
       "      <td>0</td>\n",
       "      <td>Holiday</td>\n",
       "      <td>45.72</td>\n",
       "      <td>Quito</td>\n",
       "      <td>Pichincha</td>\n",
       "      <td>D</td>\n",
       "      <td>13</td>\n",
       "      <td>1776.0</td>\n",
       "      <td>2016</td>\n",
       "      <td>8</td>\n",
       "      <td>0</td>\n",
       "      <td>4.0</td>\n",
       "    </tr>\n",
       "    <tr>\n",
       "      <th>2350459</th>\n",
       "      <td>2350459</td>\n",
       "      <td>2350459</td>\n",
       "      <td>2016-08-15</td>\n",
       "      <td>1</td>\n",
       "      <td>BABY CARE</td>\n",
       "      <td>0.0</td>\n",
       "      <td>0</td>\n",
       "      <td>Holiday</td>\n",
       "      <td>45.72</td>\n",
       "      <td>Quito</td>\n",
       "      <td>Pichincha</td>\n",
       "      <td>D</td>\n",
       "      <td>13</td>\n",
       "      <td>1776.0</td>\n",
       "      <td>2016</td>\n",
       "      <td>8</td>\n",
       "      <td>0</td>\n",
       "      <td>0.0</td>\n",
       "    </tr>\n",
       "    <tr>\n",
       "      <th>2350460</th>\n",
       "      <td>2350460</td>\n",
       "      <td>2350460</td>\n",
       "      <td>2016-08-15</td>\n",
       "      <td>1</td>\n",
       "      <td>BEAUTY</td>\n",
       "      <td>1.0</td>\n",
       "      <td>0</td>\n",
       "      <td>Holiday</td>\n",
       "      <td>45.72</td>\n",
       "      <td>Quito</td>\n",
       "      <td>Pichincha</td>\n",
       "      <td>D</td>\n",
       "      <td>13</td>\n",
       "      <td>1776.0</td>\n",
       "      <td>2016</td>\n",
       "      <td>8</td>\n",
       "      <td>0</td>\n",
       "      <td>1.0</td>\n",
       "    </tr>\n",
       "    <tr>\n",
       "      <th>2350461</th>\n",
       "      <td>2350461</td>\n",
       "      <td>2350461</td>\n",
       "      <td>2016-08-15</td>\n",
       "      <td>1</td>\n",
       "      <td>BEVERAGES</td>\n",
       "      <td>2420.0</td>\n",
       "      <td>37</td>\n",
       "      <td>Holiday</td>\n",
       "      <td>45.72</td>\n",
       "      <td>Quito</td>\n",
       "      <td>Pichincha</td>\n",
       "      <td>D</td>\n",
       "      <td>13</td>\n",
       "      <td>1776.0</td>\n",
       "      <td>2016</td>\n",
       "      <td>8</td>\n",
       "      <td>0</td>\n",
       "      <td>2420.0</td>\n",
       "    </tr>\n",
       "    <tr>\n",
       "      <th>2350462</th>\n",
       "      <td>2350462</td>\n",
       "      <td>2350462</td>\n",
       "      <td>2016-08-15</td>\n",
       "      <td>1</td>\n",
       "      <td>BOOKS</td>\n",
       "      <td>0.0</td>\n",
       "      <td>0</td>\n",
       "      <td>Holiday</td>\n",
       "      <td>45.72</td>\n",
       "      <td>Quito</td>\n",
       "      <td>Pichincha</td>\n",
       "      <td>D</td>\n",
       "      <td>13</td>\n",
       "      <td>1776.0</td>\n",
       "      <td>2016</td>\n",
       "      <td>8</td>\n",
       "      <td>0</td>\n",
       "      <td>0.0</td>\n",
       "    </tr>\n",
       "  </tbody>\n",
       "</table>\n",
       "</div>"
      ],
      "text/plain": [
       "         Unnamed: 0       id       date  store_nbr      family   sales  \\\n",
       "2350458     2350458  2350458 2016-08-15          1  AUTOMOTIVE     4.0   \n",
       "2350459     2350459  2350459 2016-08-15          1   BABY CARE     0.0   \n",
       "2350460     2350460  2350460 2016-08-15          1      BEAUTY     1.0   \n",
       "2350461     2350461  2350461 2016-08-15          1   BEVERAGES  2420.0   \n",
       "2350462     2350462  2350462 2016-08-15          1       BOOKS     0.0   \n",
       "\n",
       "         onpromotion holiday_type  dcoilwtico   city      state store_type  \\\n",
       "2350458            0      Holiday       45.72  Quito  Pichincha          D   \n",
       "2350459            0      Holiday       45.72  Quito  Pichincha          D   \n",
       "2350460            0      Holiday       45.72  Quito  Pichincha          D   \n",
       "2350461           37      Holiday       45.72  Quito  Pichincha          D   \n",
       "2350462            0      Holiday       45.72  Quito  Pichincha          D   \n",
       "\n",
       "         cluster  transactions  year  month  dayofweek   Sales  \n",
       "2350458       13        1776.0  2016      8          0     4.0  \n",
       "2350459       13        1776.0  2016      8          0     0.0  \n",
       "2350460       13        1776.0  2016      8          0     1.0  \n",
       "2350461       13        1776.0  2016      8          0  2420.0  \n",
       "2350462       13        1776.0  2016      8          0     0.0  "
      ]
     },
     "execution_count": 131,
     "metadata": {},
     "output_type": "execute_result"
    }
   ],
   "source": [
    "df_last_two_years.head()"
   ]
  },
  {
   "cell_type": "code",
   "execution_count": null,
   "id": "679b5136",
   "metadata": {},
   "outputs": [
    {
     "name": "stderr",
     "output_type": "stream",
     "text": [
      "C:\\Users\\sadha\\AppData\\Local\\Temp\\ipykernel_26404\\4178272980.py:1: SettingWithCopyWarning: \n",
      "A value is trying to be set on a copy of a slice from a DataFrame\n",
      "\n",
      "See the caveats in the documentation: https://pandas.pydata.org/pandas-docs/stable/user_guide/indexing.html#returning-a-view-versus-a-copy\n",
      "  df_last_two_years.drop(columns=\"id\", inplace=True)\n"
     ]
    }
   ],
   "source": [
    "df_last_two_years.drop(columns=\"id\", inplace=True)\n",
    "\n",
    "df_last_two_years = df_last_two_years.drop(columns=['Unnamed: 0'])\n"
   ]
  },
  {
   "cell_type": "code",
   "execution_count": null,
   "id": "3c92fd25",
   "metadata": {},
   "outputs": [],
   "source": [
    "df_last_two_years['store_nbr'] = df_last_two_years['store_nbr'].astype('category')\n"
   ]
  },
  {
   "cell_type": "code",
   "execution_count": null,
   "id": "946bf0c2",
   "metadata": {},
   "outputs": [
    {
     "name": "stdout",
     "output_type": "stream",
     "text": [
      "<class 'pandas.core.frame.DataFrame'>\n",
      "Index: 650430 entries, 2350458 to 3000887\n",
      "Data columns (total 16 columns):\n",
      " #   Column        Non-Null Count   Dtype         \n",
      "---  ------        --------------   -----         \n",
      " 0   date          650430 non-null  datetime64[ns]\n",
      " 1   store_nbr     650430 non-null  category      \n",
      " 2   family        650430 non-null  object        \n",
      " 3   sales         650430 non-null  float32       \n",
      " 4   onpromotion   650430 non-null  int64         \n",
      " 5   holiday_type  58806 non-null   object        \n",
      " 6   dcoilwtico    449064 non-null  float64       \n",
      " 7   city          650430 non-null  object        \n",
      " 8   state         650430 non-null  object        \n",
      " 9   store_type    650430 non-null  object        \n",
      " 10  cluster       650430 non-null  int64         \n",
      " 11  transactions  634557 non-null  float64       \n",
      " 12  year          650430 non-null  int32         \n",
      " 13  month         650430 non-null  int32         \n",
      " 14  dayofweek     650430 non-null  int32         \n",
      " 15  Sales         650430 non-null  float32       \n",
      "dtypes: category(1), datetime64[ns](1), float32(2), float64(2), int32(3), int64(2), object(5)\n",
      "memory usage: 67.6+ MB\n"
     ]
    }
   ],
   "source": [
    "df_last_two_years.info()\n"
   ]
  },
  {
   "cell_type": "code",
   "execution_count": null,
   "id": "f20523cf",
   "metadata": {},
   "outputs": [
    {
     "data": {
      "text/html": [
       "<div>\n",
       "<style scoped>\n",
       "    .dataframe tbody tr th:only-of-type {\n",
       "        vertical-align: middle;\n",
       "    }\n",
       "\n",
       "    .dataframe tbody tr th {\n",
       "        vertical-align: top;\n",
       "    }\n",
       "\n",
       "    .dataframe thead th {\n",
       "        text-align: right;\n",
       "    }\n",
       "</style>\n",
       "<table border=\"1\" class=\"dataframe\">\n",
       "  <thead>\n",
       "    <tr style=\"text-align: right;\">\n",
       "      <th></th>\n",
       "      <th>date</th>\n",
       "      <th>store_nbr</th>\n",
       "      <th>family</th>\n",
       "      <th>sales</th>\n",
       "      <th>onpromotion</th>\n",
       "      <th>holiday_type</th>\n",
       "      <th>dcoilwtico</th>\n",
       "      <th>city</th>\n",
       "      <th>state</th>\n",
       "      <th>store_type</th>\n",
       "      <th>cluster</th>\n",
       "      <th>transactions</th>\n",
       "      <th>year</th>\n",
       "      <th>month</th>\n",
       "      <th>dayofweek</th>\n",
       "      <th>Sales</th>\n",
       "    </tr>\n",
       "  </thead>\n",
       "  <tbody>\n",
       "    <tr>\n",
       "      <th>2350458</th>\n",
       "      <td>2016-08-15</td>\n",
       "      <td>1</td>\n",
       "      <td>AUTOMOTIVE</td>\n",
       "      <td>4.0</td>\n",
       "      <td>0</td>\n",
       "      <td>Holiday</td>\n",
       "      <td>45.72</td>\n",
       "      <td>Quito</td>\n",
       "      <td>Pichincha</td>\n",
       "      <td>D</td>\n",
       "      <td>13</td>\n",
       "      <td>1776.0</td>\n",
       "      <td>2016</td>\n",
       "      <td>8</td>\n",
       "      <td>0</td>\n",
       "      <td>4.0</td>\n",
       "    </tr>\n",
       "    <tr>\n",
       "      <th>2350459</th>\n",
       "      <td>2016-08-15</td>\n",
       "      <td>1</td>\n",
       "      <td>BABY CARE</td>\n",
       "      <td>0.0</td>\n",
       "      <td>0</td>\n",
       "      <td>Holiday</td>\n",
       "      <td>45.72</td>\n",
       "      <td>Quito</td>\n",
       "      <td>Pichincha</td>\n",
       "      <td>D</td>\n",
       "      <td>13</td>\n",
       "      <td>1776.0</td>\n",
       "      <td>2016</td>\n",
       "      <td>8</td>\n",
       "      <td>0</td>\n",
       "      <td>0.0</td>\n",
       "    </tr>\n",
       "    <tr>\n",
       "      <th>2350460</th>\n",
       "      <td>2016-08-15</td>\n",
       "      <td>1</td>\n",
       "      <td>BEAUTY</td>\n",
       "      <td>1.0</td>\n",
       "      <td>0</td>\n",
       "      <td>Holiday</td>\n",
       "      <td>45.72</td>\n",
       "      <td>Quito</td>\n",
       "      <td>Pichincha</td>\n",
       "      <td>D</td>\n",
       "      <td>13</td>\n",
       "      <td>1776.0</td>\n",
       "      <td>2016</td>\n",
       "      <td>8</td>\n",
       "      <td>0</td>\n",
       "      <td>1.0</td>\n",
       "    </tr>\n",
       "    <tr>\n",
       "      <th>2350461</th>\n",
       "      <td>2016-08-15</td>\n",
       "      <td>1</td>\n",
       "      <td>BEVERAGES</td>\n",
       "      <td>2420.0</td>\n",
       "      <td>37</td>\n",
       "      <td>Holiday</td>\n",
       "      <td>45.72</td>\n",
       "      <td>Quito</td>\n",
       "      <td>Pichincha</td>\n",
       "      <td>D</td>\n",
       "      <td>13</td>\n",
       "      <td>1776.0</td>\n",
       "      <td>2016</td>\n",
       "      <td>8</td>\n",
       "      <td>0</td>\n",
       "      <td>2420.0</td>\n",
       "    </tr>\n",
       "    <tr>\n",
       "      <th>2350462</th>\n",
       "      <td>2016-08-15</td>\n",
       "      <td>1</td>\n",
       "      <td>BOOKS</td>\n",
       "      <td>0.0</td>\n",
       "      <td>0</td>\n",
       "      <td>Holiday</td>\n",
       "      <td>45.72</td>\n",
       "      <td>Quito</td>\n",
       "      <td>Pichincha</td>\n",
       "      <td>D</td>\n",
       "      <td>13</td>\n",
       "      <td>1776.0</td>\n",
       "      <td>2016</td>\n",
       "      <td>8</td>\n",
       "      <td>0</td>\n",
       "      <td>0.0</td>\n",
       "    </tr>\n",
       "  </tbody>\n",
       "</table>\n",
       "</div>"
      ],
      "text/plain": [
       "              date store_nbr      family   sales  onpromotion holiday_type  \\\n",
       "2350458 2016-08-15         1  AUTOMOTIVE     4.0            0      Holiday   \n",
       "2350459 2016-08-15         1   BABY CARE     0.0            0      Holiday   \n",
       "2350460 2016-08-15         1      BEAUTY     1.0            0      Holiday   \n",
       "2350461 2016-08-15         1   BEVERAGES  2420.0           37      Holiday   \n",
       "2350462 2016-08-15         1       BOOKS     0.0            0      Holiday   \n",
       "\n",
       "         dcoilwtico   city      state store_type  cluster  transactions  year  \\\n",
       "2350458       45.72  Quito  Pichincha          D       13        1776.0  2016   \n",
       "2350459       45.72  Quito  Pichincha          D       13        1776.0  2016   \n",
       "2350460       45.72  Quito  Pichincha          D       13        1776.0  2016   \n",
       "2350461       45.72  Quito  Pichincha          D       13        1776.0  2016   \n",
       "2350462       45.72  Quito  Pichincha          D       13        1776.0  2016   \n",
       "\n",
       "         month  dayofweek   Sales  \n",
       "2350458      8          0     4.0  \n",
       "2350459      8          0     0.0  \n",
       "2350460      8          0     1.0  \n",
       "2350461      8          0  2420.0  \n",
       "2350462      8          0     0.0  "
      ]
     },
     "execution_count": 135,
     "metadata": {},
     "output_type": "execute_result"
    }
   ],
   "source": [
    "df_last_two_years.head()"
   ]
  },
  {
   "cell_type": "code",
   "execution_count": null,
   "id": "1fcdbac3",
   "metadata": {},
   "outputs": [],
   "source": [
    "# import pandas as pd\n",
    "# import matplotlib.pyplot as plt\n",
    "# from statsmodels.graphics.tsaplots import plot_acf\n",
    "\n",
    "# # Calculate and plot autocorrelation for 'Log_Sales'\n",
    "# plt.figure(figsize=(10, 6))\n",
    "# plot_acf(df_last_two_years['Sales'].dropna(), lags=50)  # Adjust 'lags' as needed\n",
    "# plt.title('Autocorrelation of sales')\n",
    "# plt.xlabel('Lag')\n",
    "# plt.ylabel('Autocorrelation')\n",
    "# plt.grid(True)\n",
    "# plt.show()\n"
   ]
  },
  {
   "cell_type": "code",
   "execution_count": null,
   "id": "6f3046d0",
   "metadata": {},
   "outputs": [],
   "source": [
    "\n",
    "# from statsmodels.graphics.tsaplots import plot_pacf\n",
    "\n",
    "\n",
    "# plt.figure(figsize=(10, 6))\n",
    "# plot_pacf(df_last_two_years['Sales'].dropna(), lags=50)  # Adjust 'lags' as needed\n",
    "# plt.title('Autocorrelation of sales')\n",
    "# plt.xlabel('Lag')\n",
    "# plt.ylabel('Autocorrelation')\n",
    "# plt.grid(True)\n",
    "# plt.show()"
   ]
  },
  {
   "cell_type": "code",
   "execution_count": null,
   "id": "d1da7648",
   "metadata": {},
   "outputs": [],
   "source": [
    "rolling_mean = df_last_two_years['sales'].rolling(window=12).mean()\n",
    "rolling_std = df_last_two_years['sales'].rolling(window=12).std()"
   ]
  },
  {
   "cell_type": "code",
   "execution_count": null,
   "id": "7ef16910",
   "metadata": {},
   "outputs": [
    {
     "data": {
      "image/png": "[encoded data removed]",
      "text/plain": [
       "<Figure size 1200x600 with 1 Axes>"
      ]
     },
     "metadata": {},
     "output_type": "display_data"
    }
   ],
   "source": [
    "\n",
    "\n",
    "#Plot the original series, rolling mean, and rolling standard deviation\n",
    "plt.figure(figsize=(12, 6))\n",
    "plt.plot(df_last_two_years['sales'], label='Original')\n",
    "plt.plot(rolling_mean, label='Rolling Mean', color='red')\n",
    "plt.plot(rolling_std, label='Rolling Std', color='green')\n",
    "plt.legend(loc='best')\n",
    "plt.title('Rolling Mean & Standard Deviation')\n",
    "plt.show()"
   ]
  },
  {
   "cell_type": "code",
   "execution_count": null,
   "id": "5d68ae10",
   "metadata": {},
   "outputs": [],
   "source": []
  },
  {
   "cell_type": "code",
   "execution_count": null,
   "id": "f4fec478",
   "metadata": {},
   "outputs": [
    {
     "data": {
      "image/png": "[encoded data removed]",
      "text/plain": [
       "<Figure size 1200x1000 with 2 Axes>"
      ]
     },
     "metadata": {},
     "output_type": "display_data"
    }
   ],
   "source": [
    "import pandas as pd\n",
    "import matplotlib.pyplot as plt\n",
    "\n",
    "# Calculate rolling statistics\n",
    "rolling_mean = df_last_two_years['sales'].rolling(window=12).mean()\n",
    "rolling_std = df_last_two_years['sales'].rolling(window=12).std()\n",
    "\n",
    "# Plotting in separate subplots\n",
    "fig, (ax1, ax2) = plt.subplots(2, 1, figsize=(12, 10))\n",
    "\n",
    "# Rolling Mean\n",
    "ax1.plot(df_last_two_years['sales'], label='Original', color='blue')\n",
    "ax1.plot(rolling_mean, label='Rolling Mean', color='red', linestyle='--', linewidth=2)\n",
    "ax1.set_title('Original Time Series and Rolling Mean')\n",
    "ax1.legend(loc='best')\n",
    "\n",
    "# Rolling Standard Deviation\n",
    "ax2.plot(rolling_std, label='Rolling Std', color='green', linestyle=':', linewidth=2)\n",
    "ax2.set_title('Rolling Standard Deviation')\n",
    "ax2.legend(loc='best')\n",
    "\n",
    "plt.show()\n"
   ]
  },
  {
   "cell_type": "code",
   "execution_count": null,
   "id": "a41e9653",
   "metadata": {},
   "outputs": [],
   "source": [
    "# import pandas as pd\n",
    "# from statsmodels.tsa.stattools import adfuller\n",
    "\n",
    "# # Convert to a more efficient data type if needed\n",
    "# sales_data = df_last_two_years['sales'].astype('float32')  # Adjust data type\n",
    "\n",
    "# # Perform the ADF test with a smaller maxlag\n",
    "# adf_result = adfuller(sales_data, maxlag=50)  # Adjust 'maxlag' to manage memory usage\n",
    "\n",
    "# # Print the test results\n",
    "# print('ADF Statistic:', adf_result[0])\n",
    "# print('p-value:', adf_result[1])\n",
    "# print('Critical Values:')\n",
    "# for key, value in adf_result[4].items():\n",
    "#     print(f'   {key}: {value}')\n"
   ]
  }
 ],
 "metadata": {
  "kernelspec": {
   "display_name": "Python 3 (ipykernel)",
   "language": "python",
   "name": "python3"
  },
  "language_info": {
   "codemirror_mode": {
    "name": "ipython",
    "version": 3
   },
   "file_extension": ".py",
   "mimetype": "text/x-python",
   "name": "python",
   "nbconvert_exporter": "python",
   "pygments_lexer": "ipython3",
   "version": "3.12.4"
  }
 },
 "nbformat": 4,
 "nbformat_minor": 5
}

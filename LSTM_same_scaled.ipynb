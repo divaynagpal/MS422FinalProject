{
 "cells": [
  {
   "cell_type": "code",
   "execution_count": 194,
   "metadata": {},
   "outputs": [],
   "source": [
    "import numpy as np\n",
    "import pandas as pd\n",
    "import os\n",
    "import matplotlib.pyplot as plt \n",
    "import seaborn as sns"
   ]
  },
  {
   "cell_type": "code",
   "execution_count": 195,
   "metadata": {},
   "outputs": [
    {
     "name": "stderr",
     "output_type": "stream",
     "text": [
      "/var/folders/r1/dsylm7cn0vg3015hchpddz9m0000gn/T/ipykernel_97116/3622642928.py:2: DtypeWarning: Columns (11) have mixed types. Specify dtype option on import or set low_memory=False.\n",
      "  processed_df = pd.read_csv(mydir + 'preprocessed_train_data.csv')\n"
     ]
    }
   ],
   "source": [
    "mydir = '/Users/supriyajadhav/Documents/MS422-Practical-Machine-Learning/Project422/'\n",
    "processed_df = pd.read_csv(mydir + 'preprocessed_train_data.csv')"
   ]
  },
  {
   "cell_type": "code",
   "execution_count": 196,
   "metadata": {},
   "outputs": [
    {
     "data": {
      "text/html": [
       "<div>\n",
       "<style scoped>\n",
       "    .dataframe tbody tr th:only-of-type {\n",
       "        vertical-align: middle;\n",
       "    }\n",
       "\n",
       "    .dataframe tbody tr th {\n",
       "        vertical-align: top;\n",
       "    }\n",
       "\n",
       "    .dataframe thead th {\n",
       "        text-align: right;\n",
       "    }\n",
       "</style>\n",
       "<table border=\"1\" class=\"dataframe\">\n",
       "  <thead>\n",
       "    <tr style=\"text-align: right;\">\n",
       "      <th></th>\n",
       "      <th>Unnamed: 0</th>\n",
       "      <th>id</th>\n",
       "      <th>date</th>\n",
       "      <th>store_nbr</th>\n",
       "      <th>family</th>\n",
       "      <th>onpromotion</th>\n",
       "      <th>city</th>\n",
       "      <th>state</th>\n",
       "      <th>type</th>\n",
       "      <th>cluster</th>\n",
       "      <th>IS_HOLIDAY</th>\n",
       "      <th>day</th>\n",
       "      <th>month</th>\n",
       "      <th>year</th>\n",
       "      <th>week_of_day</th>\n",
       "      <th>week_of_month</th>\n",
       "      <th>week_number</th>\n",
       "    </tr>\n",
       "  </thead>\n",
       "  <tbody>\n",
       "    <tr>\n",
       "      <th>0</th>\n",
       "      <td>0</td>\n",
       "      <td>3000888</td>\n",
       "      <td>2017-08-16</td>\n",
       "      <td>1</td>\n",
       "      <td>AUTOMOTIVE</td>\n",
       "      <td>0</td>\n",
       "      <td>Quito</td>\n",
       "      <td>Pichincha</td>\n",
       "      <td>D</td>\n",
       "      <td>13</td>\n",
       "      <td>0.0</td>\n",
       "      <td>16</td>\n",
       "      <td>8</td>\n",
       "      <td>2017</td>\n",
       "      <td>3</td>\n",
       "      <td>3</td>\n",
       "      <td>33</td>\n",
       "    </tr>\n",
       "    <tr>\n",
       "      <th>1</th>\n",
       "      <td>1</td>\n",
       "      <td>3000889</td>\n",
       "      <td>2017-08-16</td>\n",
       "      <td>1</td>\n",
       "      <td>BABY CARE</td>\n",
       "      <td>0</td>\n",
       "      <td>Quito</td>\n",
       "      <td>Pichincha</td>\n",
       "      <td>D</td>\n",
       "      <td>13</td>\n",
       "      <td>0.0</td>\n",
       "      <td>16</td>\n",
       "      <td>8</td>\n",
       "      <td>2017</td>\n",
       "      <td>3</td>\n",
       "      <td>3</td>\n",
       "      <td>33</td>\n",
       "    </tr>\n",
       "    <tr>\n",
       "      <th>2</th>\n",
       "      <td>2</td>\n",
       "      <td>3000890</td>\n",
       "      <td>2017-08-16</td>\n",
       "      <td>1</td>\n",
       "      <td>BEAUTY</td>\n",
       "      <td>2</td>\n",
       "      <td>Quito</td>\n",
       "      <td>Pichincha</td>\n",
       "      <td>D</td>\n",
       "      <td>13</td>\n",
       "      <td>0.0</td>\n",
       "      <td>16</td>\n",
       "      <td>8</td>\n",
       "      <td>2017</td>\n",
       "      <td>3</td>\n",
       "      <td>3</td>\n",
       "      <td>33</td>\n",
       "    </tr>\n",
       "    <tr>\n",
       "      <th>3</th>\n",
       "      <td>3</td>\n",
       "      <td>3000891</td>\n",
       "      <td>2017-08-16</td>\n",
       "      <td>1</td>\n",
       "      <td>BEVERAGES</td>\n",
       "      <td>20</td>\n",
       "      <td>Quito</td>\n",
       "      <td>Pichincha</td>\n",
       "      <td>D</td>\n",
       "      <td>13</td>\n",
       "      <td>0.0</td>\n",
       "      <td>16</td>\n",
       "      <td>8</td>\n",
       "      <td>2017</td>\n",
       "      <td>3</td>\n",
       "      <td>3</td>\n",
       "      <td>33</td>\n",
       "    </tr>\n",
       "    <tr>\n",
       "      <th>4</th>\n",
       "      <td>4</td>\n",
       "      <td>3000892</td>\n",
       "      <td>2017-08-16</td>\n",
       "      <td>1</td>\n",
       "      <td>BOOKS</td>\n",
       "      <td>0</td>\n",
       "      <td>Quito</td>\n",
       "      <td>Pichincha</td>\n",
       "      <td>D</td>\n",
       "      <td>13</td>\n",
       "      <td>0.0</td>\n",
       "      <td>16</td>\n",
       "      <td>8</td>\n",
       "      <td>2017</td>\n",
       "      <td>3</td>\n",
       "      <td>3</td>\n",
       "      <td>33</td>\n",
       "    </tr>\n",
       "  </tbody>\n",
       "</table>\n",
       "</div>"
      ],
      "text/plain": [
       "   Unnamed: 0       id        date  store_nbr      family  onpromotion   city  \\\n",
       "0           0  3000888  2017-08-16          1  AUTOMOTIVE            0  Quito   \n",
       "1           1  3000889  2017-08-16          1   BABY CARE            0  Quito   \n",
       "2           2  3000890  2017-08-16          1      BEAUTY            2  Quito   \n",
       "3           3  3000891  2017-08-16          1   BEVERAGES           20  Quito   \n",
       "4           4  3000892  2017-08-16          1       BOOKS            0  Quito   \n",
       "\n",
       "       state type  cluster  IS_HOLIDAY  day  month  year  week_of_day  \\\n",
       "0  Pichincha    D       13         0.0   16      8  2017            3   \n",
       "1  Pichincha    D       13         0.0   16      8  2017            3   \n",
       "2  Pichincha    D       13         0.0   16      8  2017            3   \n",
       "3  Pichincha    D       13         0.0   16      8  2017            3   \n",
       "4  Pichincha    D       13         0.0   16      8  2017            3   \n",
       "\n",
       "   week_of_month  week_number  \n",
       "0              3           33  \n",
       "1              3           33  \n",
       "2              3           33  \n",
       "3              3           33  \n",
       "4              3           33  "
      ]
     },
     "execution_count": 196,
     "metadata": {},
     "output_type": "execute_result"
    }
   ],
   "source": [
    "test_df = pd.read_csv(mydir + 'preprocessed_test_data.csv')\n",
    "test_df.head()"
   ]
  },
  {
   "cell_type": "code",
   "execution_count": 197,
   "metadata": {},
   "outputs": [],
   "source": [
    "# Convert 'date' to datetime format\n",
    "processed_df['date'] = pd.to_datetime(processed_df['date'])\n",
    "\n",
    "# Extract day,month and year\n",
    "processed_df['day'] = processed_df['date'].dt.day"
   ]
  },
  {
   "cell_type": "code",
   "execution_count": 198,
   "metadata": {},
   "outputs": [
    {
     "name": "stdout",
     "output_type": "stream",
     "text": [
      "   store_nbr      family\n",
      "0          1  AUTOMOTIVE\n",
      "1          1   BABY CARE\n",
      "2          1      BEAUTY\n",
      "3          1   BEVERAGES\n",
      "4          1       BOOKS\n",
      "1782\n"
     ]
    }
   ],
   "source": [
    "unique_store_family_df = processed_df[['store_nbr', 'family']].drop_duplicates()\n",
    "\n",
    "# Reset index if you want a clean DataFrame\n",
    "unique_store_family_df = unique_store_family_df.reset_index(drop=True)\n",
    "\n",
    "# Display the resulting DataFrame\n",
    "print(unique_store_family_df.head())\n",
    "print(len(unique_store_family_df))"
   ]
  },
  {
   "cell_type": "code",
   "execution_count": 199,
   "metadata": {},
   "outputs": [
    {
     "name": "stdout",
     "output_type": "stream",
     "text": [
      "Unnamed: 0             0\n",
      "id                     0\n",
      "date                   0\n",
      "store_nbr              0\n",
      "family                 0\n",
      "sales                  0\n",
      "onpromotion            0\n",
      "city                   0\n",
      "state                  0\n",
      "type                   0\n",
      "cluster                0\n",
      "holiday_type     2746128\n",
      "IS_HOLIDAY             0\n",
      "oil_price         862752\n",
      "month                  0\n",
      "year                   0\n",
      "week_of_day            0\n",
      "week_of_month          0\n",
      "week_number            0\n",
      "day                    0\n",
      "dtype: int64\n"
     ]
    }
   ],
   "source": [
    "missing_data = processed_df.isnull().sum()\n",
    "print(missing_data)"
   ]
  },
  {
   "cell_type": "code",
   "execution_count": 200,
   "metadata": {},
   "outputs": [],
   "source": [
    "processed_df = processed_df.drop(columns=['holiday_type','oil_price'])"
   ]
  },
  {
   "cell_type": "markdown",
   "metadata": {},
   "source": [
    "### Group train data per store and family"
   ]
  },
  {
   "cell_type": "code",
   "execution_count": 201,
   "metadata": {},
   "outputs": [
    {
     "data": {
      "text/html": [
       "<div>\n",
       "<style scoped>\n",
       "    .dataframe tbody tr th:only-of-type {\n",
       "        vertical-align: middle;\n",
       "    }\n",
       "\n",
       "    .dataframe tbody tr th {\n",
       "        vertical-align: top;\n",
       "    }\n",
       "\n",
       "    .dataframe thead th {\n",
       "        text-align: right;\n",
       "    }\n",
       "</style>\n",
       "<table border=\"1\" class=\"dataframe\">\n",
       "  <thead>\n",
       "    <tr style=\"text-align: right;\">\n",
       "      <th></th>\n",
       "      <th>Unnamed: 0</th>\n",
       "      <th>id</th>\n",
       "      <th>date</th>\n",
       "      <th>store_nbr</th>\n",
       "      <th>family</th>\n",
       "      <th>sales</th>\n",
       "      <th>onpromotion</th>\n",
       "      <th>city</th>\n",
       "      <th>state</th>\n",
       "      <th>type</th>\n",
       "      <th>cluster</th>\n",
       "      <th>IS_HOLIDAY</th>\n",
       "      <th>month</th>\n",
       "      <th>year</th>\n",
       "      <th>week_of_day</th>\n",
       "      <th>week_of_month</th>\n",
       "      <th>week_number</th>\n",
       "      <th>day</th>\n",
       "    </tr>\n",
       "  </thead>\n",
       "  <tbody>\n",
       "    <tr>\n",
       "      <th>0</th>\n",
       "      <td>0</td>\n",
       "      <td>0</td>\n",
       "      <td>2013-01-01</td>\n",
       "      <td>1</td>\n",
       "      <td>AUTOMOTIVE</td>\n",
       "      <td>0.0</td>\n",
       "      <td>0</td>\n",
       "      <td>Quito</td>\n",
       "      <td>Pichincha</td>\n",
       "      <td>D</td>\n",
       "      <td>13</td>\n",
       "      <td>1.0</td>\n",
       "      <td>1</td>\n",
       "      <td>2013</td>\n",
       "      <td>2</td>\n",
       "      <td>1</td>\n",
       "      <td>1</td>\n",
       "      <td>1</td>\n",
       "    </tr>\n",
       "    <tr>\n",
       "      <th>1</th>\n",
       "      <td>1782</td>\n",
       "      <td>1782</td>\n",
       "      <td>2013-01-02</td>\n",
       "      <td>1</td>\n",
       "      <td>AUTOMOTIVE</td>\n",
       "      <td>2.0</td>\n",
       "      <td>0</td>\n",
       "      <td>Quito</td>\n",
       "      <td>Pichincha</td>\n",
       "      <td>D</td>\n",
       "      <td>13</td>\n",
       "      <td>0.0</td>\n",
       "      <td>1</td>\n",
       "      <td>2013</td>\n",
       "      <td>3</td>\n",
       "      <td>1</td>\n",
       "      <td>1</td>\n",
       "      <td>2</td>\n",
       "    </tr>\n",
       "    <tr>\n",
       "      <th>2</th>\n",
       "      <td>3564</td>\n",
       "      <td>3564</td>\n",
       "      <td>2013-01-03</td>\n",
       "      <td>1</td>\n",
       "      <td>AUTOMOTIVE</td>\n",
       "      <td>3.0</td>\n",
       "      <td>0</td>\n",
       "      <td>Quito</td>\n",
       "      <td>Pichincha</td>\n",
       "      <td>D</td>\n",
       "      <td>13</td>\n",
       "      <td>0.0</td>\n",
       "      <td>1</td>\n",
       "      <td>2013</td>\n",
       "      <td>4</td>\n",
       "      <td>1</td>\n",
       "      <td>1</td>\n",
       "      <td>3</td>\n",
       "    </tr>\n",
       "    <tr>\n",
       "      <th>3</th>\n",
       "      <td>5346</td>\n",
       "      <td>5346</td>\n",
       "      <td>2013-01-04</td>\n",
       "      <td>1</td>\n",
       "      <td>AUTOMOTIVE</td>\n",
       "      <td>3.0</td>\n",
       "      <td>0</td>\n",
       "      <td>Quito</td>\n",
       "      <td>Pichincha</td>\n",
       "      <td>D</td>\n",
       "      <td>13</td>\n",
       "      <td>0.0</td>\n",
       "      <td>1</td>\n",
       "      <td>2013</td>\n",
       "      <td>5</td>\n",
       "      <td>1</td>\n",
       "      <td>1</td>\n",
       "      <td>4</td>\n",
       "    </tr>\n",
       "    <tr>\n",
       "      <th>4</th>\n",
       "      <td>7128</td>\n",
       "      <td>7128</td>\n",
       "      <td>2013-01-05</td>\n",
       "      <td>1</td>\n",
       "      <td>AUTOMOTIVE</td>\n",
       "      <td>5.0</td>\n",
       "      <td>0</td>\n",
       "      <td>Quito</td>\n",
       "      <td>Pichincha</td>\n",
       "      <td>D</td>\n",
       "      <td>13</td>\n",
       "      <td>1.0</td>\n",
       "      <td>1</td>\n",
       "      <td>2013</td>\n",
       "      <td>6</td>\n",
       "      <td>1</td>\n",
       "      <td>1</td>\n",
       "      <td>5</td>\n",
       "    </tr>\n",
       "  </tbody>\n",
       "</table>\n",
       "</div>"
      ],
      "text/plain": [
       "   Unnamed: 0    id       date  store_nbr      family  sales  onpromotion  \\\n",
       "0           0     0 2013-01-01          1  AUTOMOTIVE    0.0            0   \n",
       "1        1782  1782 2013-01-02          1  AUTOMOTIVE    2.0            0   \n",
       "2        3564  3564 2013-01-03          1  AUTOMOTIVE    3.0            0   \n",
       "3        5346  5346 2013-01-04          1  AUTOMOTIVE    3.0            0   \n",
       "4        7128  7128 2013-01-05          1  AUTOMOTIVE    5.0            0   \n",
       "\n",
       "    city      state type  cluster  IS_HOLIDAY  month  year  week_of_day  \\\n",
       "0  Quito  Pichincha    D       13         1.0      1  2013            2   \n",
       "1  Quito  Pichincha    D       13         0.0      1  2013            3   \n",
       "2  Quito  Pichincha    D       13         0.0      1  2013            4   \n",
       "3  Quito  Pichincha    D       13         0.0      1  2013            5   \n",
       "4  Quito  Pichincha    D       13         1.0      1  2013            6   \n",
       "\n",
       "   week_of_month  week_number  day  \n",
       "0              1            1    1  \n",
       "1              1            1    2  \n",
       "2              1            1    3  \n",
       "3              1            1    4  \n",
       "4              1            1    5  "
      ]
     },
     "execution_count": 201,
     "metadata": {},
     "output_type": "execute_result"
    }
   ],
   "source": [
    "# Step 1: Group by 'store_nbr' and 'family'\n",
    "grouped = processed_df.groupby(['store_nbr', 'family'])\n",
    "\n",
    "# Step 2: Sort each group by 'date' in ascending order\n",
    "sorted_df = grouped.apply(lambda x: x.sort_values('date')).reset_index(drop=True)\n",
    "\n",
    "# Optional: If you want to create a dictionary of DataFrames, one for each group\n",
    "grouped_dict = {f\"processed_{store}_{family}\": group.sort_values('date') \n",
    "                for (store, family), group in grouped}\n",
    "\n",
    "# Display the result\n",
    "sorted_df.head()\n"
   ]
  },
  {
   "cell_type": "markdown",
   "metadata": {},
   "source": [
    "### Group test data per store and family"
   ]
  },
  {
   "cell_type": "code",
   "execution_count": 202,
   "metadata": {},
   "outputs": [
    {
     "name": "stderr",
     "output_type": "stream",
     "text": [
      "/var/folders/r1/dsylm7cn0vg3015hchpddz9m0000gn/T/ipykernel_97116/3294503807.py:5: FutureWarning: Not prepending group keys to the result index of transform-like apply. In the future, the group keys will be included in the index, regardless of whether the applied function returns a like-indexed object.\n",
      "To preserve the previous behavior, use\n",
      "\n",
      "\t>>> .groupby(..., group_keys=False)\n",
      "\n",
      "To adopt the future behavior and silence this warning, use \n",
      "\n",
      "\t>>> .groupby(..., group_keys=True)\n",
      "  sorted_test_df = grouped_test.apply(lambda x: x.sort_values('date')).reset_index(drop=True)\n"
     ]
    },
    {
     "data": {
      "text/html": [
       "<div>\n",
       "<style scoped>\n",
       "    .dataframe tbody tr th:only-of-type {\n",
       "        vertical-align: middle;\n",
       "    }\n",
       "\n",
       "    .dataframe tbody tr th {\n",
       "        vertical-align: top;\n",
       "    }\n",
       "\n",
       "    .dataframe thead th {\n",
       "        text-align: right;\n",
       "    }\n",
       "</style>\n",
       "<table border=\"1\" class=\"dataframe\">\n",
       "  <thead>\n",
       "    <tr style=\"text-align: right;\">\n",
       "      <th></th>\n",
       "      <th>Unnamed: 0</th>\n",
       "      <th>id</th>\n",
       "      <th>date</th>\n",
       "      <th>store_nbr</th>\n",
       "      <th>family</th>\n",
       "      <th>onpromotion</th>\n",
       "      <th>city</th>\n",
       "      <th>state</th>\n",
       "      <th>type</th>\n",
       "      <th>cluster</th>\n",
       "      <th>IS_HOLIDAY</th>\n",
       "      <th>day</th>\n",
       "      <th>month</th>\n",
       "      <th>year</th>\n",
       "      <th>week_of_day</th>\n",
       "      <th>week_of_month</th>\n",
       "      <th>week_number</th>\n",
       "    </tr>\n",
       "  </thead>\n",
       "  <tbody>\n",
       "    <tr>\n",
       "      <th>0</th>\n",
       "      <td>0</td>\n",
       "      <td>3000888</td>\n",
       "      <td>2017-08-16</td>\n",
       "      <td>1</td>\n",
       "      <td>AUTOMOTIVE</td>\n",
       "      <td>0</td>\n",
       "      <td>Quito</td>\n",
       "      <td>Pichincha</td>\n",
       "      <td>D</td>\n",
       "      <td>13</td>\n",
       "      <td>0.0</td>\n",
       "      <td>16</td>\n",
       "      <td>8</td>\n",
       "      <td>2017</td>\n",
       "      <td>3</td>\n",
       "      <td>3</td>\n",
       "      <td>33</td>\n",
       "    </tr>\n",
       "    <tr>\n",
       "      <th>1</th>\n",
       "      <td>1</td>\n",
       "      <td>3000889</td>\n",
       "      <td>2017-08-16</td>\n",
       "      <td>1</td>\n",
       "      <td>BABY CARE</td>\n",
       "      <td>0</td>\n",
       "      <td>Quito</td>\n",
       "      <td>Pichincha</td>\n",
       "      <td>D</td>\n",
       "      <td>13</td>\n",
       "      <td>0.0</td>\n",
       "      <td>16</td>\n",
       "      <td>8</td>\n",
       "      <td>2017</td>\n",
       "      <td>3</td>\n",
       "      <td>3</td>\n",
       "      <td>33</td>\n",
       "    </tr>\n",
       "    <tr>\n",
       "      <th>2</th>\n",
       "      <td>2</td>\n",
       "      <td>3000890</td>\n",
       "      <td>2017-08-16</td>\n",
       "      <td>1</td>\n",
       "      <td>BEAUTY</td>\n",
       "      <td>2</td>\n",
       "      <td>Quito</td>\n",
       "      <td>Pichincha</td>\n",
       "      <td>D</td>\n",
       "      <td>13</td>\n",
       "      <td>0.0</td>\n",
       "      <td>16</td>\n",
       "      <td>8</td>\n",
       "      <td>2017</td>\n",
       "      <td>3</td>\n",
       "      <td>3</td>\n",
       "      <td>33</td>\n",
       "    </tr>\n",
       "    <tr>\n",
       "      <th>3</th>\n",
       "      <td>3</td>\n",
       "      <td>3000891</td>\n",
       "      <td>2017-08-16</td>\n",
       "      <td>1</td>\n",
       "      <td>BEVERAGES</td>\n",
       "      <td>20</td>\n",
       "      <td>Quito</td>\n",
       "      <td>Pichincha</td>\n",
       "      <td>D</td>\n",
       "      <td>13</td>\n",
       "      <td>0.0</td>\n",
       "      <td>16</td>\n",
       "      <td>8</td>\n",
       "      <td>2017</td>\n",
       "      <td>3</td>\n",
       "      <td>3</td>\n",
       "      <td>33</td>\n",
       "    </tr>\n",
       "    <tr>\n",
       "      <th>4</th>\n",
       "      <td>4</td>\n",
       "      <td>3000892</td>\n",
       "      <td>2017-08-16</td>\n",
       "      <td>1</td>\n",
       "      <td>BOOKS</td>\n",
       "      <td>0</td>\n",
       "      <td>Quito</td>\n",
       "      <td>Pichincha</td>\n",
       "      <td>D</td>\n",
       "      <td>13</td>\n",
       "      <td>0.0</td>\n",
       "      <td>16</td>\n",
       "      <td>8</td>\n",
       "      <td>2017</td>\n",
       "      <td>3</td>\n",
       "      <td>3</td>\n",
       "      <td>33</td>\n",
       "    </tr>\n",
       "  </tbody>\n",
       "</table>\n",
       "</div>"
      ],
      "text/plain": [
       "   Unnamed: 0       id        date  store_nbr      family  onpromotion   city  \\\n",
       "0           0  3000888  2017-08-16          1  AUTOMOTIVE            0  Quito   \n",
       "1           1  3000889  2017-08-16          1   BABY CARE            0  Quito   \n",
       "2           2  3000890  2017-08-16          1      BEAUTY            2  Quito   \n",
       "3           3  3000891  2017-08-16          1   BEVERAGES           20  Quito   \n",
       "4           4  3000892  2017-08-16          1       BOOKS            0  Quito   \n",
       "\n",
       "       state type  cluster  IS_HOLIDAY  day  month  year  week_of_day  \\\n",
       "0  Pichincha    D       13         0.0   16      8  2017            3   \n",
       "1  Pichincha    D       13         0.0   16      8  2017            3   \n",
       "2  Pichincha    D       13         0.0   16      8  2017            3   \n",
       "3  Pichincha    D       13         0.0   16      8  2017            3   \n",
       "4  Pichincha    D       13         0.0   16      8  2017            3   \n",
       "\n",
       "   week_of_month  week_number  \n",
       "0              3           33  \n",
       "1              3           33  \n",
       "2              3           33  \n",
       "3              3           33  \n",
       "4              3           33  "
      ]
     },
     "execution_count": 202,
     "metadata": {},
     "output_type": "execute_result"
    }
   ],
   "source": [
    "# Step 1: Group by 'store_nbr' and 'family'\n",
    "grouped_test = test_df.groupby(['store_nbr', 'family'])\n",
    "\n",
    "# Step 2: Sort each group by 'date' in ascending order\n",
    "sorted_test_df = grouped_test.apply(lambda x: x.sort_values('date')).reset_index(drop=True)\n",
    "\n",
    "# Optional: If you want to create a dictionary of DataFrames, one for each group\n",
    "grouped_test_dict = {f\"test_{store}_{family}\": group.sort_values('date') \n",
    "                for (store, family), group in grouped_test}\n",
    "\n",
    "# Display the result\n",
    "sorted_test_df.head()"
   ]
  },
  {
   "cell_type": "code",
   "execution_count": 203,
   "metadata": {},
   "outputs": [],
   "source": [
    "store = '1'\n",
    "family = 'BEAUTY'"
   ]
  },
  {
   "cell_type": "code",
   "execution_count": 204,
   "metadata": {},
   "outputs": [],
   "source": [
    "processed_1_AUTOMOTIVE_df = grouped_dict[f'processed_{store}_{family}']\n",
    "test_1_AUTOMOTIVE_df = grouped_test_dict[f'test_{store}_{family}']"
   ]
  },
  {
   "cell_type": "code",
   "execution_count": 205,
   "metadata": {},
   "outputs": [],
   "source": [
    "tt_df = pd.concat([processed_1_AUTOMOTIVE_df,test_1_AUTOMOTIVE_df])"
   ]
  },
  {
   "cell_type": "markdown",
   "metadata": {},
   "source": [
    "### add extra temporal features for train and test data"
   ]
  },
  {
   "cell_type": "code",
   "execution_count": 206,
   "metadata": {},
   "outputs": [],
   "source": [
    "\n",
    "# Create cyclical features\n",
    "tt_df['month_sin'] = np.sin(2 * np.pi * tt_df['month'] / 12)\n",
    "tt_df['month_cos'] = np.cos(2 * np.pi * tt_df['month'] / 12)\n",
    "tt_df['weekday_sin'] = np.sin(2 * np.pi * tt_df['week_of_day'] / 7)\n",
    "tt_df['weekday_cos'] = np.cos(2 * np.pi * tt_df['week_of_day'] / 7)\n",
    "\n",
    "# Optionally, create lag features and rolling statistics\n",
    "# processed_1_AUTOMOTIVE_df['sales_lag_1'] = processed_1_AUTOMOTIVE_df['sales'].shift(1)\n",
    "# processed_1_AUTOMOTIVE_df['sales_rolling_mean_7'] = processed_1_AUTOMOTIVE_df['sales'].rolling(window=7).mean()\n",
    "\n",
    "# Drop rows with NaN values if needed\n",
    "tt_df = tt_df.dropna(subset=[col for col in tt_df.columns if col != 'sales'])"
   ]
  },
  {
   "cell_type": "code",
   "execution_count": 207,
   "metadata": {},
   "outputs": [],
   "source": [
    "# drop unnecessary columns\n",
    "tt_df = tt_df.drop([\n",
    "    'Unnamed: 0',\n",
    "    'date',\n",
    "    'id',\n",
    "    'city',\n",
    "    'state',\n",
    "    'store_nbr',\n",
    "    'family',\n",
    "    'type' ], \n",
    "    axis = 1)"
   ]
  },
  {
   "cell_type": "code",
   "execution_count": 208,
   "metadata": {},
   "outputs": [
    {
     "name": "stdout",
     "output_type": "stream",
     "text": [
      "Index(['sales', 'onpromotion', 'cluster', 'IS_HOLIDAY', 'month', 'year',\n",
      "       'week_of_day', 'week_of_month', 'week_number', 'day', 'month_sin',\n",
      "       'month_cos', 'weekday_sin', 'weekday_cos'],\n",
      "      dtype='object')\n"
     ]
    }
   ],
   "source": [
    "print(tt_df.columns)"
   ]
  },
  {
   "cell_type": "code",
   "execution_count": 209,
   "metadata": {},
   "outputs": [
    {
     "name": "stdout",
     "output_type": "stream",
     "text": [
      "<class 'pandas.core.frame.DataFrame'>\n",
      "Int64Index: 1704 entries, 2 to 26732\n",
      "Data columns (total 14 columns):\n",
      " #   Column         Non-Null Count  Dtype  \n",
      "---  ------         --------------  -----  \n",
      " 0   sales          1688 non-null   float64\n",
      " 1   onpromotion    1704 non-null   float64\n",
      " 2   cluster        1704 non-null   float64\n",
      " 3   IS_HOLIDAY     1704 non-null   float64\n",
      " 4   month          1704 non-null   float64\n",
      " 5   year           1704 non-null   float64\n",
      " 6   week_of_day    1704 non-null   float64\n",
      " 7   week_of_month  1704 non-null   float64\n",
      " 8   week_number    1704 non-null   float64\n",
      " 9   day            1704 non-null   float64\n",
      " 10  month_sin      1704 non-null   float64\n",
      " 11  month_cos      1704 non-null   float64\n",
      " 12  weekday_sin    1704 non-null   float64\n",
      " 13  weekday_cos    1704 non-null   float64\n",
      "dtypes: float64(14)\n",
      "memory usage: 199.7 KB\n"
     ]
    }
   ],
   "source": [
    "tt_df = tt_df.astype('float64')\n",
    "tt_df.info()"
   ]
  },
  {
   "cell_type": "code",
   "execution_count": 210,
   "metadata": {},
   "outputs": [
    {
     "name": "stdout",
     "output_type": "stream",
     "text": [
      "(1688, 13)\n",
      "(1688, 1)\n",
      "(16, 13)\n"
     ]
    }
   ],
   "source": [
    "import pandas as pd\n",
    "import numpy as np\n",
    "from sklearn.preprocessing import MinMaxScaler\n",
    "from sklearn.model_selection import train_test_split\n",
    "\n",
    "# Selecting features\n",
    "features = ['onpromotion', 'cluster', 'IS_HOLIDAY', 'month', 'year',\n",
    "       'week_of_day', 'week_of_month', 'week_number', 'day', 'month_sin',\n",
    "       'month_cos', 'weekday_sin', 'weekday_cos'\n",
    "       #, 'sales_lag_1',\n",
    "       #'sales_rolling_mean_7'\n",
    "       ]\n",
    "target = 'sales'\n",
    "\n",
    "# Feature scaling\n",
    "feature_scaler = MinMaxScaler(feature_range=(0, 1))\n",
    "target_scaler = MinMaxScaler(feature_range=(0, 1))\n",
    "\n",
    "# Get the remaining records for the training set\n",
    "feature_df = pd.DataFrame(feature_scaler.fit_transform(tt_df[features]))\n",
    "target_df = pd.DataFrame(target_scaler.fit_transform(tt_df[target].dropna().values.reshape(-1,1)))\n",
    "\n",
    "# split train and test\n",
    "X = feature_df.iloc[:-16]\n",
    "y = target_df\n",
    "\n",
    "sep_test_df = feature_df.iloc[-16:]\n",
    "\n",
    "print(X.shape)\n",
    "print(y.shape)\n",
    "print(sep_test_df.shape)\n",
    "\n",
    "# Splitting data into training and testing sets\n",
    "X_train_scaled, X_test_scaled, y_train_scaled, y_test_scaled = train_test_split(X, y, test_size=0.2, shuffle=False)\n",
    "\n",
    "# X_train_scaled = feature_scaler.fit_transform(X_train)\n",
    "# X_test_scaled = feature_scaler.fit_transform(X_test)\n",
    "# y_train_scaled = target_scaler.fit_transform(y_train.values.reshape(-1,1))\n",
    "# y_test_scaled = target_scaler.fit_transform(y_test.values.reshape(-1,1))\n"
   ]
  },
  {
   "cell_type": "code",
   "execution_count": 211,
   "metadata": {},
   "outputs": [
    {
     "name": "stdout",
     "output_type": "stream",
     "text": [
      "(1350, 13)\n"
     ]
    }
   ],
   "source": [
    "print(X_train_scaled.shape)"
   ]
  },
  {
   "cell_type": "code",
   "execution_count": 212,
   "metadata": {},
   "outputs": [
    {
     "name": "stdout",
     "output_type": "stream",
     "text": [
      "(1350, 1)\n"
     ]
    }
   ],
   "source": [
    "print(y_train_scaled.shape)"
   ]
  },
  {
   "cell_type": "code",
   "execution_count": 213,
   "metadata": {},
   "outputs": [
    {
     "name": "stdout",
     "output_type": "stream",
     "text": [
      "(338, 13)\n"
     ]
    }
   ],
   "source": [
    "print(X_test_scaled.shape)"
   ]
  },
  {
   "cell_type": "code",
   "execution_count": 214,
   "metadata": {},
   "outputs": [
    {
     "name": "stdout",
     "output_type": "stream",
     "text": [
      "(338, 1)\n"
     ]
    }
   ],
   "source": [
    "print(y_test_scaled.shape)"
   ]
  },
  {
   "cell_type": "markdown",
   "metadata": {},
   "source": [
    "## LSTM Model"
   ]
  },
  {
   "cell_type": "code",
   "execution_count": 215,
   "metadata": {},
   "outputs": [],
   "source": [
    "import tensorflow as tf\n",
    "\n",
    "def rmsle(y_true, y_pred):\n",
    "    y_true = tf.cast(y_true, tf.float64)\n",
    "    y_pred = tf.cast(y_pred, tf.float64)\n",
    "    return tf.sqrt(tf.reduce_mean(tf.square(tf.math.log(y_pred + 1) - tf.math.log(y_true + 1))))\n"
   ]
  },
  {
   "cell_type": "code",
   "execution_count": 216,
   "metadata": {},
   "outputs": [
    {
     "name": "stdout",
     "output_type": "stream",
     "text": [
      "Epoch 1/30\n"
     ]
    },
    {
     "name": "stderr",
     "output_type": "stream",
     "text": [
      "/Users/supriyajadhav/anaconda3/lib/python3.10/site-packages/keras/src/layers/rnn/rnn.py:204: UserWarning: Do not pass an `input_shape`/`input_dim` argument to a layer. When using Sequential models, prefer using an `Input(shape)` object as the first layer in the model instead.\n",
      "  super().__init__(**kwargs)\n"
     ]
    },
    {
     "name": "stdout",
     "output_type": "stream",
     "text": [
      "\u001b[1m22/22\u001b[0m \u001b[32m━━━━━━━━━━━━━━━━━━━━\u001b[0m\u001b[37m\u001b[0m \u001b[1m1s\u001b[0m 7ms/step - loss: 0.1700 - val_loss: 0.1447\n",
      "Epoch 2/30\n",
      "\u001b[1m22/22\u001b[0m \u001b[32m━━━━━━━━━━━━━━━━━━━━\u001b[0m\u001b[37m\u001b[0m \u001b[1m0s\u001b[0m 2ms/step - loss: 0.1219 - val_loss: 0.1575\n",
      "Epoch 3/30\n",
      "\u001b[1m22/22\u001b[0m \u001b[32m━━━━━━━━━━━━━━━━━━━━\u001b[0m\u001b[37m\u001b[0m \u001b[1m0s\u001b[0m 2ms/step - loss: 0.1157 - val_loss: 0.1448\n",
      "Epoch 4/30\n",
      "\u001b[1m22/22\u001b[0m \u001b[32m━━━━━━━━━━━━━━━━━━━━\u001b[0m\u001b[37m\u001b[0m \u001b[1m0s\u001b[0m 2ms/step - loss: 0.1170 - val_loss: 0.1429\n",
      "Epoch 5/30\n",
      "\u001b[1m22/22\u001b[0m \u001b[32m━━━━━━━━━━━━━━━━━━━━\u001b[0m\u001b[37m\u001b[0m \u001b[1m0s\u001b[0m 2ms/step - loss: 0.1153 - val_loss: 0.1406\n",
      "Epoch 6/30\n",
      "\u001b[1m22/22\u001b[0m \u001b[32m━━━━━━━━━━━━━━━━━━━━\u001b[0m\u001b[37m\u001b[0m \u001b[1m0s\u001b[0m 2ms/step - loss: 0.1149 - val_loss: 0.1344\n",
      "Epoch 7/30\n",
      "\u001b[1m22/22\u001b[0m \u001b[32m━━━━━━━━━━━━━━━━━━━━\u001b[0m\u001b[37m\u001b[0m \u001b[1m0s\u001b[0m 2ms/step - loss: 0.1120 - val_loss: 0.1345\n",
      "Epoch 8/30\n",
      "\u001b[1m22/22\u001b[0m \u001b[32m━━━━━━━━━━━━━━━━━━━━\u001b[0m\u001b[37m\u001b[0m \u001b[1m0s\u001b[0m 2ms/step - loss: 0.1126 - val_loss: 0.1288\n",
      "Epoch 9/30\n",
      "\u001b[1m22/22\u001b[0m \u001b[32m━━━━━━━━━━━━━━━━━━━━\u001b[0m\u001b[37m\u001b[0m \u001b[1m0s\u001b[0m 2ms/step - loss: 0.1156 - val_loss: 0.1313\n",
      "Epoch 10/30\n",
      "\u001b[1m22/22\u001b[0m \u001b[32m━━━━━━━━━━━━━━━━━━━━\u001b[0m\u001b[37m\u001b[0m \u001b[1m0s\u001b[0m 2ms/step - loss: 0.1105 - val_loss: 0.1309\n",
      "Epoch 11/30\n",
      "\u001b[1m22/22\u001b[0m \u001b[32m━━━━━━━━━━━━━━━━━━━━\u001b[0m\u001b[37m\u001b[0m \u001b[1m0s\u001b[0m 2ms/step - loss: 0.1127 - val_loss: 0.1315\n"
     ]
    },
    {
     "data": {
      "text/plain": [
       "<keras.src.callbacks.history.History at 0x30c9e40a0>"
      ]
     },
     "execution_count": 216,
     "metadata": {},
     "output_type": "execute_result"
    }
   ],
   "source": [
    "from keras.models import Sequential\n",
    "from keras.layers import LSTM, Dense, Dropout\n",
    "from tensorflow.keras.callbacks import EarlyStopping\n",
    "\n",
    "# Reshape data to fit LSTM input shape (num_samples, timesteps, num_features)\n",
    "timesteps = 1  # You need to define this based on your data and model requirements\n",
    "X_train_reshaped = X_train_scaled.values.reshape((X_train_scaled.values.shape[0], timesteps, X_train_scaled.values.shape[1]))\n",
    "X_test_reshaped = X_test_scaled.values.reshape((X_test_scaled.values.shape[0], timesteps, X_test_scaled.values.shape[1]))\n",
    "\n",
    "# Building the LSTM model\n",
    "lstm_model = Sequential()\n",
    "lstm_model.add(LSTM(units=60, return_sequences=True, input_shape=(timesteps, X_train_reshaped.shape[2])))\n",
    "lstm_model.add(Dropout(0.2))\n",
    "lstm_model.add(LSTM(units=60, return_sequences=False))\n",
    "lstm_model.add(Dropout(0.5))\n",
    "lstm_model.add(Dense(units=1))\n",
    "\n",
    "lstm_model.compile(optimizer='adam', loss=rmsle)\n",
    "#lstm_model.summary()\n",
    "\n",
    "# Define early stopping\n",
    "early_stopping = EarlyStopping(monitor='val_loss', patience=3, restore_best_weights=True)\n",
    "\n",
    "# Training the LSTM model\n",
    "lstm_model.fit(X_train_reshaped, y_train_scaled, epochs=30, batch_size=64, \n",
    "               validation_data=(X_test_reshaped, y_test_scaled),\n",
    "               callbacks=[early_stopping])\n"
   ]
  },
  {
   "cell_type": "code",
   "execution_count": 217,
   "metadata": {},
   "outputs": [],
   "source": [
    "# import tensorflow as tf\n",
    "# from tensorflow.keras.models import Sequential\n",
    "# from tensorflow.keras.layers import LSTM, Dropout, Dense\n",
    "# from scikeras.wrappers import KerasRegressor\n",
    "# from sklearn.model_selection import GridSearchCV\n",
    "\n",
    "# # Define the function to create the LSTM model\n",
    "# def create_lstm_model(units=50, dropout_rate=0.5, optimizer='adam'):\n",
    "#     model = Sequential()\n",
    "#     model.add(LSTM(units=units, return_sequences=True, input_shape=(timesteps, X_train_reshaped.shape[2])))\n",
    "#     model.add(Dropout(dropout_rate))\n",
    "#     model.add(LSTM(units=units, return_sequences=False))\n",
    "#     model.add(Dropout(dropout_rate))\n",
    "#     model.add(Dense(units=1))\n",
    "#     model.compile(optimizer=optimizer, loss=rmsle)\n",
    "#     return model\n",
    "\n",
    "# # Define the grid of hyperparameters to search, using lambda functions to pass parameters\n",
    "# param_grid = {\n",
    "#     'build_fn': [\n",
    "#         lambda: create_lstm_model(units=50, dropout_rate=0.2, optimizer='adam'),\n",
    "#         lambda: create_lstm_model(units=50, dropout_rate=0.5, optimizer='adam'),\n",
    "#         lambda: create_lstm_model(units=50, dropout_rate=0.3, optimizer='adam'),\n",
    "#         lambda: create_lstm_model(units=60, dropout_rate=0.2, optimizer='adam'),\n",
    "#         lambda: create_lstm_model(units=60, dropout_rate=0.5, optimizer='adam'),\n",
    "#         lambda: create_lstm_model(units=60, dropout_rate=0.3, optimizer='adam'),\n",
    "#         lambda: create_lstm_model(units=80, dropout_rate=0.2, optimizer='adam'),\n",
    "#         lambda: create_lstm_model(units=80, dropout_rate=0.3, optimizer='adam'),\n",
    "#         lambda: create_lstm_model(units=80, dropout_rate=0.5, optimizer='adam'),\n",
    "#         lambda: create_lstm_model(units=50, dropout_rate=0.2, optimizer='rmsprop'),\n",
    "#         lambda: create_lstm_model(units=50, dropout_rate=0.5, optimizer='rmsprop'),\n",
    "#         lambda: create_lstm_model(units=50, dropout_rate=0.3, optimizer='rmsprop'),\n",
    "#         lambda: create_lstm_model(units=60, dropout_rate=0.2, optimizer='rmsprop'),\n",
    "#         lambda: create_lstm_model(units=60, dropout_rate=0.5, optimizer='rmsprop'),\n",
    "#         lambda: create_lstm_model(units=60, dropout_rate=0.3, optimizer='rmsprop'),\n",
    "#         lambda: create_lstm_model(units=80, dropout_rate=0.2, optimizer='rmsprop'),\n",
    "#         lambda: create_lstm_model(units=80, dropout_rate=0.3, optimizer='rmsprop'),\n",
    "#         lambda: create_lstm_model(units=80, dropout_rate=0.5, optimizer='rmsprop')\n",
    "#     ],\n",
    "#     'batch_size': [16, 32, 64],  # Batch size\n",
    "#     'epochs': [30, 50, 100],  # Number of epochs\n",
    "# }\n",
    "\n",
    "# # Create a GridSearchCV object\n",
    "# grid_search = GridSearchCV(estimator=KerasRegressor(build_fn=create_lstm_model, verbose=0), param_grid=param_grid, cv=3, n_jobs=-1)\n",
    "\n",
    "# # Perform the grid search\n",
    "# grid_search_result = grid_search.fit(X_train_reshaped, y_train_scaled)\n",
    "\n",
    "# # Print the best parameters and best score\n",
    "# print(f\"Best Parameters: {grid_search_result.best_params_}\")\n",
    "# print(f\"Best Score: {grid_search_result.best_score_}\")\n"
   ]
  },
  {
   "cell_type": "code",
   "execution_count": 218,
   "metadata": {},
   "outputs": [
    {
     "name": "stdout",
     "output_type": "stream",
     "text": [
      "\u001b[1m11/11\u001b[0m \u001b[32m━━━━━━━━━━━━━━━━━━━━\u001b[0m\u001b[37m\u001b[0m \u001b[1m0s\u001b[0m 9ms/step\n",
      "LSTM RMSLE VAL: 0.12931795311454228\n"
     ]
    }
   ],
   "source": [
    "# Predictions\n",
    "lstm_predictions = lstm_model.predict(X_test_reshaped)\n",
    "\n",
    "# Ensure both predictions and actual values are of type float64\n",
    "y_test_scaled = y_test_scaled.values.reshape(-1, 1).astype('float64')\n",
    "lstm_predictions_scaled = lstm_predictions.astype('float64')\n",
    "\n",
    "# Calculate RMSLE\n",
    "lstm_rmsle_val = rmsle(y_test_scaled, lstm_predictions_scaled)\n",
    "\n",
    "print(f\"LSTM RMSLE VAL: {lstm_rmsle_val.numpy()}\")\n"
   ]
  },
  {
   "cell_type": "code",
   "execution_count": 219,
   "metadata": {},
   "outputs": [
    {
     "name": "stdout",
     "output_type": "stream",
     "text": [
      "   Actual  Predicted\n",
      "0    0.25   0.155622\n",
      "1    0.50   0.193856\n",
      "2    0.25   0.224419\n",
      "3    0.25   0.234647\n",
      "4    0.25   0.228956\n"
     ]
    }
   ],
   "source": [
    "val_results_df = pd.DataFrame({\n",
    "    'Actual': y_test_scaled.flatten(),  # Flatten to ensure the shape is 1D\n",
    "    'Predicted': lstm_predictions_scaled.flatten()\n",
    "})\n",
    "\n",
    "# Display the first few rows of the DataFrame\n",
    "print(val_results_df.head())"
   ]
  },
  {
   "cell_type": "code",
   "execution_count": 220,
   "metadata": {},
   "outputs": [
    {
     "data": {
      "text/plain": [
       "(338, 1)"
      ]
     },
     "execution_count": 220,
     "metadata": {},
     "output_type": "execute_result"
    }
   ],
   "source": [
    "lstm_predictions_scaled.shape"
   ]
  },
  {
   "cell_type": "code",
   "execution_count": 221,
   "metadata": {},
   "outputs": [
    {
     "data": {
      "text/plain": [
       "(338, 1)"
      ]
     },
     "execution_count": 221,
     "metadata": {},
     "output_type": "execute_result"
    }
   ],
   "source": [
    "y_test_scaled.shape"
   ]
  },
  {
   "cell_type": "code",
   "execution_count": 222,
   "metadata": {},
   "outputs": [],
   "source": [
    "y_test_actual = target_scaler.inverse_transform(y_test_scaled).astype('float64')\n",
    "lstm_predictions_actual = target_scaler.inverse_transform(lstm_predictions_scaled).astype('float64')"
   ]
  },
  {
   "cell_type": "code",
   "execution_count": 223,
   "metadata": {},
   "outputs": [
    {
     "name": "stdout",
     "output_type": "stream",
     "text": [
      "   Actual  Predicted\n",
      "0     3.0   1.867466\n",
      "1     6.0   2.326275\n",
      "2     3.0   2.693025\n",
      "3     3.0   2.815768\n",
      "4     3.0   2.747469\n"
     ]
    }
   ],
   "source": [
    "val_results_actual_df = pd.DataFrame({\n",
    "    'Actual': y_test_actual.flatten(),  # Flatten to ensure the shape is 1D\n",
    "    'Predicted': lstm_predictions_actual.flatten()\n",
    "})\n",
    "\n",
    "# Display the first few rows of the DataFrame\n",
    "print(val_results_actual_df.head())"
   ]
  },
  {
   "cell_type": "code",
   "execution_count": 224,
   "metadata": {},
   "outputs": [
    {
     "data": {
      "text/plain": [
       "<tf.Tensor: shape=(), dtype=float64, numpy=0.5034758030751795>"
      ]
     },
     "execution_count": 224,
     "metadata": {},
     "output_type": "execute_result"
    }
   ],
   "source": [
    "lstm_rmsle_val_actual = rmsle(y_test_actual, lstm_predictions_actual)\n",
    "lstm_rmsle_val_actual"
   ]
  },
  {
   "cell_type": "code",
   "execution_count": 225,
   "metadata": {},
   "outputs": [
    {
     "data": {
      "image/png": "[encoded data removed]",
      "text/plain": [
       "<Figure size 1000x600 with 1 Axes>"
      ]
     },
     "metadata": {},
     "output_type": "display_data"
    }
   ],
   "source": [
    "import matplotlib.pyplot as plt\n",
    "\n",
    "# Plotting\n",
    "plt.figure(figsize=(10, 6))\n",
    "plt.plot(y_test_actual, label='Actual Values', color='b')\n",
    "plt.plot(lstm_predictions_actual, label='Predicted Values', color='r')\n",
    "plt.xlabel('Days')\n",
    "plt.ylabel('Predicted vs Actual')\n",
    "plt.title('Actual vs Predicted Sales')\n",
    "plt.legend()\n",
    "plt.show()\n"
   ]
  },
  {
   "cell_type": "code",
   "execution_count": 226,
   "metadata": {},
   "outputs": [
    {
     "data": {
      "image/png": "[encoded data removed]",
      "text/plain": [
       "<Figure size 800x800 with 1 Axes>"
      ]
     },
     "metadata": {},
     "output_type": "display_data"
    }
   ],
   "source": [
    "plt.figure(figsize=(8, 8))\n",
    "plt.scatter(y_test_actual, lstm_predictions_actual, alpha=0.5)\n",
    "plt.xlabel('Actual Sales')\n",
    "plt.ylabel('Predicted Sales')\n",
    "plt.title('Actual vs Predicted Sales')\n",
    "plt.plot([min(y_test_actual), max(y_test_actual)], [min(y_test_actual), max(y_test_actual)], color='red')  # Diagonal line\n",
    "plt.show()\n"
   ]
  },
  {
   "cell_type": "markdown",
   "metadata": {},
   "source": [
    "## predcition on test.csv"
   ]
  },
  {
   "cell_type": "code",
   "execution_count": 227,
   "metadata": {},
   "outputs": [],
   "source": [
    "# predictions_list=[]"
   ]
  },
  {
   "cell_type": "code",
   "execution_count": 228,
   "metadata": {},
   "outputs": [],
   "source": [
    "# test_df = pd.read_csv(mydir + 'preprocessed_test_data.csv')\n",
    "# test_df.head()"
   ]
  },
  {
   "cell_type": "code",
   "execution_count": 229,
   "metadata": {},
   "outputs": [],
   "source": [
    "# # Step 1: Group by 'store_nbr' and 'family'\n",
    "# grouped_test = test_df.groupby(['store_nbr', 'family'])\n",
    "\n",
    "# # Step 2: Sort each group by 'date' in ascending order\n",
    "# sorted_test_df = grouped_test.apply(lambda x: x.sort_values('date')).reset_index(drop=True)\n",
    "\n",
    "# # Optional: If you want to create a dictionary of DataFrames, one for each group\n",
    "# grouped_test_dict = {f\"test_{store}_{family}\": group.sort_values('date') \n",
    "#                 for (store, family), group in grouped_test}\n",
    "\n",
    "# # Display the result\n",
    "# sorted_test_df.head()\n"
   ]
  },
  {
   "cell_type": "code",
   "execution_count": 230,
   "metadata": {},
   "outputs": [],
   "source": [
    "# test_1_AUTOMOTIVE_df = grouped_test_dict['test_1_BEVERAGES']\n",
    "# test_1_AUTOMOTIVE_df.head()"
   ]
  },
  {
   "cell_type": "code",
   "execution_count": 231,
   "metadata": {},
   "outputs": [],
   "source": [
    "# test_1_AUTOMOTIVE_df.columns"
   ]
  },
  {
   "cell_type": "code",
   "execution_count": 232,
   "metadata": {},
   "outputs": [],
   "source": [
    "# test_1_AUTOMOTIVE_df.shape"
   ]
  },
  {
   "cell_type": "code",
   "execution_count": 233,
   "metadata": {},
   "outputs": [],
   "source": [
    "# # Create cyclical features\n",
    "# test_1_AUTOMOTIVE_df['month_sin'] = np.sin(2 * np.pi * test_1_AUTOMOTIVE_df['month'] / 12)\n",
    "# test_1_AUTOMOTIVE_df['month_cos'] = np.cos(2 * np.pi * test_1_AUTOMOTIVE_df['month'] / 12)\n",
    "# test_1_AUTOMOTIVE_df['weekday_sin'] = np.sin(2 * np.pi * test_1_AUTOMOTIVE_df['week_of_day'] / 7)\n",
    "# test_1_AUTOMOTIVE_df['weekday_cos'] = np.cos(2 * np.pi * test_1_AUTOMOTIVE_df['week_of_day'] / 7)\n",
    "\n",
    "# # Optionally, create lag features and rolling statistics\n",
    "# # processed_1_AUTOMOTIVE_df['sales_lag_1'] = processed_1_AUTOMOTIVE_df['sales'].shift(1)\n",
    "# # processed_1_AUTOMOTIVE_df['sales_rolling_mean_7'] = processed_1_AUTOMOTIVE_df['sales'].rolling(window=7).mean()\n",
    "\n",
    "# # Drop rows with NaN values if needed\n",
    "# test_1_AUTOMOTIVE_df = test_1_AUTOMOTIVE_df.dropna()\n",
    "\n",
    "# test_1_AUTOMOTIVE_df.shape"
   ]
  },
  {
   "cell_type": "code",
   "execution_count": 234,
   "metadata": {},
   "outputs": [],
   "source": [
    "# test_1_AUTOMOTIVE_df_cp = test_1_AUTOMOTIVE_df.copy()"
   ]
  },
  {
   "cell_type": "code",
   "execution_count": 235,
   "metadata": {},
   "outputs": [],
   "source": [
    "# # drop unnecessary columns \n",
    "# test_1_AUTOMOTIVE_df_cp = test_1_AUTOMOTIVE_df_cp.drop([\n",
    "#     'Unnamed: 0',\n",
    "#     'date',\n",
    "#     'id',\n",
    "#     'city',\n",
    "#     'state',\n",
    "#    'store_nbr',\n",
    "#      'family',\n",
    "#        'type' ], \n",
    "#        axis = 1)"
   ]
  },
  {
   "cell_type": "code",
   "execution_count": 236,
   "metadata": {},
   "outputs": [],
   "source": [
    "# test_1_AUTOMOTIVE_df_cp.columns"
   ]
  },
  {
   "cell_type": "code",
   "execution_count": 237,
   "metadata": {},
   "outputs": [],
   "source": [
    "# test_1_AUTOMOTIVE_df_cp_scaled = feature_scaler.fit_transform(test_1_AUTOMOTIVE_df_cp)"
   ]
  },
  {
   "cell_type": "code",
   "execution_count": 238,
   "metadata": {},
   "outputs": [
    {
     "name": "stdout",
     "output_type": "stream",
     "text": [
      "\u001b[1m1/1\u001b[0m \u001b[32m━━━━━━━━━━━━━━━━━━━━\u001b[0m\u001b[37m\u001b[0m \u001b[1m0s\u001b[0m 10ms/step\n"
     ]
    }
   ],
   "source": [
    "test_reshaped = sep_test_df.values.reshape((sep_test_df.shape[0], \n",
    "                                    timesteps, \n",
    "                                    sep_test_df.shape[1]))\n",
    "\n",
    "# Make predictions using the LSTM model\n",
    "lstm_predictions_test_normalised = lstm_model.predict(test_reshaped)"
   ]
  },
  {
   "cell_type": "code",
   "execution_count": 239,
   "metadata": {},
   "outputs": [
    {
     "data": {
      "text/plain": [
       "array([[0.39193565],\n",
       "       [0.31047216],\n",
       "       [0.3021739 ],\n",
       "       [0.30863228],\n",
       "       [0.23622137],\n",
       "       [0.27633157],\n",
       "       [0.23529121],\n",
       "       [0.3169624 ],\n",
       "       [0.23858562],\n",
       "       [0.2299155 ],\n",
       "       [0.30775535],\n",
       "       [0.23519385],\n",
       "       [0.2752157 ],\n",
       "       [0.30648527],\n",
       "       [0.24412653],\n",
       "       [0.30797938]], dtype=float32)"
      ]
     },
     "execution_count": 239,
     "metadata": {},
     "output_type": "execute_result"
    }
   ],
   "source": [
    "lstm_predictions_test_normalised"
   ]
  },
  {
   "cell_type": "code",
   "execution_count": 240,
   "metadata": {},
   "outputs": [],
   "source": [
    "lstm_predictions_test_normalised_reshaped = lstm_predictions_test_normalised.astype('float64')\n",
    "lstm_predictions_test_actual = target_scaler.inverse_transform(lstm_predictions_test_normalised_reshaped).astype('float64')"
   ]
  },
  {
   "cell_type": "code",
   "execution_count": 241,
   "metadata": {},
   "outputs": [
    {
     "data": {
      "text/plain": [
       "array([[4.70322776],\n",
       "       [3.72566593],\n",
       "       [3.62608695],\n",
       "       [3.70358741],\n",
       "       [2.83465648],\n",
       "       [3.31597888],\n",
       "       [2.82349455],\n",
       "       [3.80354869],\n",
       "       [2.86302745],\n",
       "       [2.758986  ],\n",
       "       [3.69306421],\n",
       "       [2.82232618],\n",
       "       [3.30258822],\n",
       "       [3.67782319],\n",
       "       [2.92951834],\n",
       "       [3.6957525 ]])"
      ]
     },
     "execution_count": 241,
     "metadata": {},
     "output_type": "execute_result"
    }
   ],
   "source": [
    "lstm_predictions_test_actual"
   ]
  },
  {
   "cell_type": "code",
   "execution_count": 242,
   "metadata": {},
   "outputs": [],
   "source": [
    "predictions_df = pd.DataFrame({\n",
    "        'id': test_1_AUTOMOTIVE_df['id'],\n",
    "        'store_nbr': store,\n",
    "        'family': family,\n",
    "        'date': test_1_AUTOMOTIVE_df['date'],  # Or any other identifier column you have\n",
    "        'predictions': lstm_predictions_test_actual.flatten()  # Ensure predictions is 1D\n",
    "    })"
   ]
  },
  {
   "cell_type": "code",
   "execution_count": 243,
   "metadata": {},
   "outputs": [
    {
     "name": "stdout",
     "output_type": "stream",
     "text": [
      "            id store_nbr  family        date  predictions\n",
      "2      3000890         1  BEAUTY  2017-08-16     4.703228\n",
      "1784   3002672         1  BEAUTY  2017-08-17     3.725666\n",
      "3566   3004454         1  BEAUTY  2017-08-18     3.626087\n",
      "5348   3006236         1  BEAUTY  2017-08-19     3.703587\n",
      "7130   3008018         1  BEAUTY  2017-08-20     2.834656\n",
      "8912   3009800         1  BEAUTY  2017-08-21     3.315979\n",
      "10694  3011582         1  BEAUTY  2017-08-22     2.823495\n",
      "12476  3013364         1  BEAUTY  2017-08-23     3.803549\n",
      "14258  3015146         1  BEAUTY  2017-08-24     2.863027\n",
      "16040  3016928         1  BEAUTY  2017-08-25     2.758986\n",
      "17822  3018710         1  BEAUTY  2017-08-26     3.693064\n",
      "19604  3020492         1  BEAUTY  2017-08-27     2.822326\n",
      "21386  3022274         1  BEAUTY  2017-08-28     3.302588\n",
      "23168  3024056         1  BEAUTY  2017-08-29     3.677823\n",
      "24950  3025838         1  BEAUTY  2017-08-30     2.929518\n",
      "26732  3027620         1  BEAUTY  2017-08-31     3.695753\n"
     ]
    }
   ],
   "source": [
    "print(predictions_df)"
   ]
  }
 ],
 "metadata": {
  "kernelspec": {
   "display_name": "base",
   "language": "python",
   "name": "python3"
  },
  "language_info": {
   "codemirror_mode": {
    "name": "ipython",
    "version": 3
   },
   "file_extension": ".py",
   "mimetype": "text/x-python",
   "name": "python",
   "nbconvert_exporter": "python",
   "pygments_lexer": "ipython3",
   "version": "3.10.13"
  }
 },
 "nbformat": 4,
 "nbformat_minor": 2
}

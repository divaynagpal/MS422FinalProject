{
 "cells": [
  {
   "cell_type": "code",
   "execution_count": 3,
   "id": "c846ad18-646c-43cd-a386-e4698bf4576a",
   "metadata": {},
   "outputs": [],
   "source": [
    "# This code combines all files in the result folder and make one file for submission\n"
   ]
  },
  {
   "cell_type": "code",
   "execution_count": 9,
   "id": "e49bd9ab-3a59-4834-9a55-c11e30c7bd9e",
   "metadata": {},
   "outputs": [],
   "source": [
    "import os\n",
    "import pandas as pd"
   ]
  },
  {
   "cell_type": "code",
   "execution_count": 6,
   "id": "fc67fb3d-dbcd-4ee9-98f6-2f2731bf9399",
   "metadata": {},
   "outputs": [],
   "source": [
    "result_folder = 'data_dir/output_data'"
   ]
  },
  {
   "cell_type": "code",
   "execution_count": 7,
   "id": "15a05811-bc82-4feb-9e32-d95e6eab893b",
   "metadata": {},
   "outputs": [
    {
     "data": {
      "text/plain": [
       "['lstm_prediction_submission_10_20.csv',\n",
       " 'lstm_prediction_submission_1_10.csv',\n",
       " 'lstm_prediction_submission_20_25.csv',\n",
       " 'lstm_prediction_submission_25_30.csv',\n",
       " 'lstm_prediction_submission_30_35.csv',\n",
       " 'lstm_prediction_submission_35_40.csv',\n",
       " 'lstm_prediction_submission_40_47.csv',\n",
       " 'lstm_prediction_submission_47_54.csv',\n",
       " 'sample_lstm_prediction_submission.csv']"
      ]
     },
     "execution_count": 7,
     "metadata": {},
     "output_type": "execute_result"
    }
   ],
   "source": [
    "os.listdir(result_folder)"
   ]
  },
  {
   "cell_type": "code",
   "execution_count": 11,
   "id": "53c04dad-e865-4e3a-b728-c355f8e768c5",
   "metadata": {},
   "outputs": [
    {
     "name": "stdout",
     "output_type": "stream",
     "text": [
      "Files combined and saved to data_dir/output_data\\combined_results.csv\n"
     ]
    }
   ],
   "source": [
    "# List to store each file's data\n",
    "dataframes = []\n",
    "\n",
    "# Loop through all files in the folder\n",
    "for filename in os.listdir(result_folder):\n",
    "    if filename.endswith('.csv'):  # Modify this if your files are not CSVs\n",
    "        file_path = os.path.join(result_folder, filename)\n",
    "        # Read each file and append to the list\n",
    "        df = pd.read_csv(file_path)\n",
    "        dataframes.append(df)\n",
    "\n",
    "# Concatenate all dataframes into a single dataframe\n",
    "combined_df = pd.concat(dataframes, ignore_index=True)\n",
    "combined_df = combined_df.sort_values('id')\n",
    "# Save the combined dataframe to a new file\n",
    "output_path = os.path.join(result_folder, 'combined_results.csv')\n",
    "combined_df.to_csv(output_path, index=False)\n",
    "\n",
    "print(f\"Files combined and saved to {output_path}\")"
   ]
  },
  {
   "cell_type": "code",
   "execution_count": null,
   "id": "40deb306-e0c3-4cff-9f5b-46ac0e607dc3",
   "metadata": {},
   "outputs": [],
   "source": []
  }
 ],
 "metadata": {
  "kernelspec": {
   "display_name": "Python 3 (ipykernel)",
   "language": "python",
   "name": "python3"
  },
  "language_info": {
   "codemirror_mode": {
    "name": "ipython",
    "version": 3
   },
   "file_extension": ".py",
   "mimetype": "text/x-python",
   "name": "python",
   "nbconvert_exporter": "python",
   "pygments_lexer": "ipython3",
   "version": "3.10.9"
  }
 },
 "nbformat": 4,
 "nbformat_minor": 5
}
